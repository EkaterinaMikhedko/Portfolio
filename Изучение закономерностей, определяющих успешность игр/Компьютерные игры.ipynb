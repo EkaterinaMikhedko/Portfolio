{
 "cells": [
  {
   "cell_type": "markdown",
   "metadata": {},
   "source": [
    "**Интернет магазин занимается продажей компьютерных игр по вему Миру.\n",
    "Из открытых источников доступны исторические данные о продажах игр, оценки пользователей и экспертов, жанры и платформы.\n",
    "Необходимо выявить закономерности определяющие успешность игры.\n",
    "Это позволит сделать ставку на потенциально популярный продукт и спланировать рекламные кампании на cледующий 2017 год.**"
   ]
  },
  {
   "cell_type": "code",
   "execution_count": 63,
   "metadata": {},
   "outputs": [],
   "source": [
    "import pandas as pd\n",
    "import numpy as np\n",
    "import seaborn as sns\n",
    "import matplotlib.pyplot as plt\n",
    "from scipy import stats as st\n",
    "import warnings"
   ]
  },
  {
   "cell_type": "code",
   "execution_count": 29,
   "metadata": {},
   "outputs": [
    {
     "data": {
      "text/html": [
       "<div>\n",
       "<style scoped>\n",
       "    .dataframe tbody tr th:only-of-type {\n",
       "        vertical-align: middle;\n",
       "    }\n",
       "\n",
       "    .dataframe tbody tr th {\n",
       "        vertical-align: top;\n",
       "    }\n",
       "\n",
       "    .dataframe thead th {\n",
       "        text-align: right;\n",
       "    }\n",
       "</style>\n",
       "<table border=\"1\" class=\"dataframe\">\n",
       "  <thead>\n",
       "    <tr style=\"text-align: right;\">\n",
       "      <th></th>\n",
       "      <th>Name</th>\n",
       "      <th>Platform</th>\n",
       "      <th>Year_of_Release</th>\n",
       "      <th>Genre</th>\n",
       "      <th>NA_sales</th>\n",
       "      <th>EU_sales</th>\n",
       "      <th>JP_sales</th>\n",
       "      <th>Other_sales</th>\n",
       "      <th>Critic_Score</th>\n",
       "      <th>User_Score</th>\n",
       "      <th>Rating</th>\n",
       "    </tr>\n",
       "  </thead>\n",
       "  <tbody>\n",
       "    <tr>\n",
       "      <th>0</th>\n",
       "      <td>Wii Sports</td>\n",
       "      <td>Wii</td>\n",
       "      <td>2006.0</td>\n",
       "      <td>Sports</td>\n",
       "      <td>41.36</td>\n",
       "      <td>28.96</td>\n",
       "      <td>3.77</td>\n",
       "      <td>8.45</td>\n",
       "      <td>76.0</td>\n",
       "      <td>8</td>\n",
       "      <td>E</td>\n",
       "    </tr>\n",
       "    <tr>\n",
       "      <th>1</th>\n",
       "      <td>Super Mario Bros.</td>\n",
       "      <td>NES</td>\n",
       "      <td>1985.0</td>\n",
       "      <td>Platform</td>\n",
       "      <td>29.08</td>\n",
       "      <td>3.58</td>\n",
       "      <td>6.81</td>\n",
       "      <td>0.77</td>\n",
       "      <td>NaN</td>\n",
       "      <td>NaN</td>\n",
       "      <td>NaN</td>\n",
       "    </tr>\n",
       "    <tr>\n",
       "      <th>2</th>\n",
       "      <td>Mario Kart Wii</td>\n",
       "      <td>Wii</td>\n",
       "      <td>2008.0</td>\n",
       "      <td>Racing</td>\n",
       "      <td>15.68</td>\n",
       "      <td>12.76</td>\n",
       "      <td>3.79</td>\n",
       "      <td>3.29</td>\n",
       "      <td>82.0</td>\n",
       "      <td>8.3</td>\n",
       "      <td>E</td>\n",
       "    </tr>\n",
       "    <tr>\n",
       "      <th>3</th>\n",
       "      <td>Wii Sports Resort</td>\n",
       "      <td>Wii</td>\n",
       "      <td>2009.0</td>\n",
       "      <td>Sports</td>\n",
       "      <td>15.61</td>\n",
       "      <td>10.93</td>\n",
       "      <td>3.28</td>\n",
       "      <td>2.95</td>\n",
       "      <td>80.0</td>\n",
       "      <td>8</td>\n",
       "      <td>E</td>\n",
       "    </tr>\n",
       "    <tr>\n",
       "      <th>4</th>\n",
       "      <td>Pokemon Red/Pokemon Blue</td>\n",
       "      <td>GB</td>\n",
       "      <td>1996.0</td>\n",
       "      <td>Role-Playing</td>\n",
       "      <td>11.27</td>\n",
       "      <td>8.89</td>\n",
       "      <td>10.22</td>\n",
       "      <td>1.00</td>\n",
       "      <td>NaN</td>\n",
       "      <td>NaN</td>\n",
       "      <td>NaN</td>\n",
       "    </tr>\n",
       "    <tr>\n",
       "      <th>5</th>\n",
       "      <td>Tetris</td>\n",
       "      <td>GB</td>\n",
       "      <td>1989.0</td>\n",
       "      <td>Puzzle</td>\n",
       "      <td>23.20</td>\n",
       "      <td>2.26</td>\n",
       "      <td>4.22</td>\n",
       "      <td>0.58</td>\n",
       "      <td>NaN</td>\n",
       "      <td>NaN</td>\n",
       "      <td>NaN</td>\n",
       "    </tr>\n",
       "    <tr>\n",
       "      <th>6</th>\n",
       "      <td>New Super Mario Bros.</td>\n",
       "      <td>DS</td>\n",
       "      <td>2006.0</td>\n",
       "      <td>Platform</td>\n",
       "      <td>11.28</td>\n",
       "      <td>9.14</td>\n",
       "      <td>6.50</td>\n",
       "      <td>2.88</td>\n",
       "      <td>89.0</td>\n",
       "      <td>8.5</td>\n",
       "      <td>E</td>\n",
       "    </tr>\n",
       "    <tr>\n",
       "      <th>7</th>\n",
       "      <td>Wii Play</td>\n",
       "      <td>Wii</td>\n",
       "      <td>2006.0</td>\n",
       "      <td>Misc</td>\n",
       "      <td>13.96</td>\n",
       "      <td>9.18</td>\n",
       "      <td>2.93</td>\n",
       "      <td>2.84</td>\n",
       "      <td>58.0</td>\n",
       "      <td>6.6</td>\n",
       "      <td>E</td>\n",
       "    </tr>\n",
       "    <tr>\n",
       "      <th>8</th>\n",
       "      <td>New Super Mario Bros. Wii</td>\n",
       "      <td>Wii</td>\n",
       "      <td>2009.0</td>\n",
       "      <td>Platform</td>\n",
       "      <td>14.44</td>\n",
       "      <td>6.94</td>\n",
       "      <td>4.70</td>\n",
       "      <td>2.24</td>\n",
       "      <td>87.0</td>\n",
       "      <td>8.4</td>\n",
       "      <td>E</td>\n",
       "    </tr>\n",
       "    <tr>\n",
       "      <th>9</th>\n",
       "      <td>Duck Hunt</td>\n",
       "      <td>NES</td>\n",
       "      <td>1984.0</td>\n",
       "      <td>Shooter</td>\n",
       "      <td>26.93</td>\n",
       "      <td>0.63</td>\n",
       "      <td>0.28</td>\n",
       "      <td>0.47</td>\n",
       "      <td>NaN</td>\n",
       "      <td>NaN</td>\n",
       "      <td>NaN</td>\n",
       "    </tr>\n",
       "  </tbody>\n",
       "</table>\n",
       "</div>"
      ],
      "text/plain": [
       "                        Name Platform  Year_of_Release         Genre  \\\n",
       "0                 Wii Sports      Wii           2006.0        Sports   \n",
       "1          Super Mario Bros.      NES           1985.0      Platform   \n",
       "2             Mario Kart Wii      Wii           2008.0        Racing   \n",
       "3          Wii Sports Resort      Wii           2009.0        Sports   \n",
       "4   Pokemon Red/Pokemon Blue       GB           1996.0  Role-Playing   \n",
       "5                     Tetris       GB           1989.0        Puzzle   \n",
       "6      New Super Mario Bros.       DS           2006.0      Platform   \n",
       "7                   Wii Play      Wii           2006.0          Misc   \n",
       "8  New Super Mario Bros. Wii      Wii           2009.0      Platform   \n",
       "9                  Duck Hunt      NES           1984.0       Shooter   \n",
       "\n",
       "   NA_sales  EU_sales  JP_sales  Other_sales  Critic_Score User_Score Rating  \n",
       "0     41.36     28.96      3.77         8.45          76.0          8      E  \n",
       "1     29.08      3.58      6.81         0.77           NaN        NaN    NaN  \n",
       "2     15.68     12.76      3.79         3.29          82.0        8.3      E  \n",
       "3     15.61     10.93      3.28         2.95          80.0          8      E  \n",
       "4     11.27      8.89     10.22         1.00           NaN        NaN    NaN  \n",
       "5     23.20      2.26      4.22         0.58           NaN        NaN    NaN  \n",
       "6     11.28      9.14      6.50         2.88          89.0        8.5      E  \n",
       "7     13.96      9.18      2.93         2.84          58.0        6.6      E  \n",
       "8     14.44      6.94      4.70         2.24          87.0        8.4      E  \n",
       "9     26.93      0.63      0.28         0.47           NaN        NaN    NaN  "
      ]
     },
     "execution_count": 29,
     "metadata": {},
     "output_type": "execute_result"
    }
   ],
   "source": [
    "data = pd.read_csv('C:/Users/78585/Desktop/Анализ данных/Проекты/Датафреймы/games.csv')\n",
    "data.head(10)"
   ]
  },
  {
   "cell_type": "markdown",
   "metadata": {},
   "source": [
    "Name — название игры\n",
    "Platform — платформа\n",
    "Year_of_Release — год выпуска\n",
    "Genre — жанр игры\n",
    "NA_sales — продажи в Северной Америке (миллионы проданных копий)\n",
    "EU_sales — продажи в Европе (миллионы проданных копий)\n",
    "JP_sales — продажи в Японии (миллионы проданных копий)\n",
    "Other_sales — продажи в других странах (миллионы проданных копий)\n",
    "Critic_Score — оценка критиков (максимум 100)\n",
    "User_Score — оценка пользователей (максимум 10)\n",
    "Rating — рейтинг от организации ESRB (англ. Entertainment Software Rating Board). Эта ассоциация определяет рейтинг компьютерных игр и присваивает им подходящую возрастную категорию."
   ]
  },
  {
   "cell_type": "markdown",
   "metadata": {},
   "source": [
    "## 1. Подготовка данных"
   ]
  },
  {
   "cell_type": "code",
   "execution_count": 30,
   "metadata": {},
   "outputs": [],
   "source": [
    "# приведем названия столбцов к нижнему регистру\n",
    "data.columns = data.columns.str.lower()"
   ]
  },
  {
   "cell_type": "code",
   "execution_count": 31,
   "metadata": {},
   "outputs": [
    {
     "name": "stdout",
     "output_type": "stream",
     "text": [
      "<class 'pandas.core.frame.DataFrame'>\n",
      "RangeIndex: 16715 entries, 0 to 16714\n",
      "Data columns (total 11 columns):\n",
      " #   Column           Non-Null Count  Dtype  \n",
      "---  ------           --------------  -----  \n",
      " 0   name             16713 non-null  object \n",
      " 1   platform         16715 non-null  object \n",
      " 2   year_of_release  16446 non-null  float64\n",
      " 3   genre            16713 non-null  object \n",
      " 4   na_sales         16715 non-null  float64\n",
      " 5   eu_sales         16715 non-null  float64\n",
      " 6   jp_sales         16715 non-null  float64\n",
      " 7   other_sales      16715 non-null  float64\n",
      " 8   critic_score     8137 non-null   float64\n",
      " 9   user_score       10014 non-null  object \n",
      " 10  rating           9949 non-null   object \n",
      "dtypes: float64(6), object(5)\n",
      "memory usage: 1.4+ MB\n"
     ]
    }
   ],
   "source": [
    "data.info()"
   ]
  },
  {
   "cell_type": "code",
   "execution_count": 32,
   "metadata": {},
   "outputs": [
    {
     "data": {
      "text/plain": [
       "name                  2\n",
       "platform              0\n",
       "year_of_release     269\n",
       "genre                 2\n",
       "na_sales              0\n",
       "eu_sales              0\n",
       "jp_sales              0\n",
       "other_sales           0\n",
       "critic_score       8578\n",
       "user_score         6701\n",
       "rating             6766\n",
       "dtype: int64"
      ]
     },
     "execution_count": 32,
     "metadata": {},
     "output_type": "execute_result"
    }
   ],
   "source": [
    "data.isna().sum()"
   ]
  },
  {
   "cell_type": "markdown",
   "metadata": {},
   "source": [
    "Пропуски в столбце ['year_of_release'] составляют 1,6% от общего числа данных и их удаление не повлияет на результаты исследования. Также в этом столбце заменим тип данных с float на integer."
   ]
  },
  {
   "cell_type": "code",
   "execution_count": 33,
   "metadata": {},
   "outputs": [
    {
     "data": {
      "text/plain": [
       "0"
      ]
     },
     "execution_count": 33,
     "metadata": {},
     "output_type": "execute_result"
    }
   ],
   "source": [
    "data = data.dropna(subset=['year_of_release']) # Удаление строк с пропусками в столбце 'year_of_release'.\n",
    "data['year_of_release'] = data['year_of_release'].astype('int64') # Перевод типа данных из float в integer.\n",
    "data['year_of_release'].isna().sum()"
   ]
  },
  {
   "cell_type": "code",
   "execution_count": 34,
   "metadata": {
    "scrolled": true
   },
   "outputs": [
    {
     "data": {
      "text/plain": [
       "tbd    2376\n",
       "7.8     322\n",
       "8       285\n",
       "8.2     276\n",
       "8.3     252\n",
       "       ... \n",
       "1.1       2\n",
       "1.9       2\n",
       "9.6       2\n",
       "0         1\n",
       "9.7       1\n",
       "Name: user_score, Length: 96, dtype: int64"
      ]
     },
     "execution_count": 34,
     "metadata": {},
     "output_type": "execute_result"
    }
   ],
   "source": [
    "data['user_score'].value_counts()"
   ]
  },
  {
   "cell_type": "markdown",
   "metadata": {},
   "source": [
    "В столбце ['user_score'] присутствует особое значение 'tbd'(to be determinated - будет определено), оно используется для отметки неясностей или пропусков. Заменим такие значения на NaN и одновременно поменяем тип данных в столбце с object на float."
   ]
  },
  {
   "cell_type": "code",
   "execution_count": 35,
   "metadata": {},
   "outputs": [],
   "source": [
    "data['user_score'] = pd.to_numeric(data['user_score'],errors='coerce')"
   ]
  },
  {
   "cell_type": "markdown",
   "metadata": {},
   "source": [
    "Пропуски в столбцах ['critic_score', 'user_score', rating'] оставим как есть, заменить их без искажения данных нечем."
   ]
  },
  {
   "cell_type": "code",
   "execution_count": 36,
   "metadata": {
    "scrolled": true
   },
   "outputs": [
    {
     "data": {
      "text/html": [
       "<div>\n",
       "<style scoped>\n",
       "    .dataframe tbody tr th:only-of-type {\n",
       "        vertical-align: middle;\n",
       "    }\n",
       "\n",
       "    .dataframe tbody tr th {\n",
       "        vertical-align: top;\n",
       "    }\n",
       "\n",
       "    .dataframe thead th {\n",
       "        text-align: right;\n",
       "    }\n",
       "</style>\n",
       "<table border=\"1\" class=\"dataframe\">\n",
       "  <thead>\n",
       "    <tr style=\"text-align: right;\">\n",
       "      <th></th>\n",
       "      <th>name</th>\n",
       "      <th>platform</th>\n",
       "      <th>year_of_release</th>\n",
       "      <th>genre</th>\n",
       "      <th>na_sales</th>\n",
       "      <th>eu_sales</th>\n",
       "      <th>jp_sales</th>\n",
       "      <th>other_sales</th>\n",
       "      <th>critic_score</th>\n",
       "      <th>user_score</th>\n",
       "      <th>rating</th>\n",
       "      <th>total_sales</th>\n",
       "    </tr>\n",
       "  </thead>\n",
       "  <tbody>\n",
       "    <tr>\n",
       "      <th>0</th>\n",
       "      <td>Wii Sports</td>\n",
       "      <td>Wii</td>\n",
       "      <td>2006</td>\n",
       "      <td>Sports</td>\n",
       "      <td>41.36</td>\n",
       "      <td>28.96</td>\n",
       "      <td>3.77</td>\n",
       "      <td>8.45</td>\n",
       "      <td>76.0</td>\n",
       "      <td>8.0</td>\n",
       "      <td>E</td>\n",
       "      <td>82.54</td>\n",
       "    </tr>\n",
       "    <tr>\n",
       "      <th>1</th>\n",
       "      <td>Super Mario Bros.</td>\n",
       "      <td>NES</td>\n",
       "      <td>1985</td>\n",
       "      <td>Platform</td>\n",
       "      <td>29.08</td>\n",
       "      <td>3.58</td>\n",
       "      <td>6.81</td>\n",
       "      <td>0.77</td>\n",
       "      <td>NaN</td>\n",
       "      <td>NaN</td>\n",
       "      <td>NaN</td>\n",
       "      <td>40.24</td>\n",
       "    </tr>\n",
       "    <tr>\n",
       "      <th>2</th>\n",
       "      <td>Mario Kart Wii</td>\n",
       "      <td>Wii</td>\n",
       "      <td>2008</td>\n",
       "      <td>Racing</td>\n",
       "      <td>15.68</td>\n",
       "      <td>12.76</td>\n",
       "      <td>3.79</td>\n",
       "      <td>3.29</td>\n",
       "      <td>82.0</td>\n",
       "      <td>8.3</td>\n",
       "      <td>E</td>\n",
       "      <td>35.52</td>\n",
       "    </tr>\n",
       "    <tr>\n",
       "      <th>3</th>\n",
       "      <td>Wii Sports Resort</td>\n",
       "      <td>Wii</td>\n",
       "      <td>2009</td>\n",
       "      <td>Sports</td>\n",
       "      <td>15.61</td>\n",
       "      <td>10.93</td>\n",
       "      <td>3.28</td>\n",
       "      <td>2.95</td>\n",
       "      <td>80.0</td>\n",
       "      <td>8.0</td>\n",
       "      <td>E</td>\n",
       "      <td>32.77</td>\n",
       "    </tr>\n",
       "    <tr>\n",
       "      <th>4</th>\n",
       "      <td>Pokemon Red/Pokemon Blue</td>\n",
       "      <td>GB</td>\n",
       "      <td>1996</td>\n",
       "      <td>Role-Playing</td>\n",
       "      <td>11.27</td>\n",
       "      <td>8.89</td>\n",
       "      <td>10.22</td>\n",
       "      <td>1.00</td>\n",
       "      <td>NaN</td>\n",
       "      <td>NaN</td>\n",
       "      <td>NaN</td>\n",
       "      <td>31.38</td>\n",
       "    </tr>\n",
       "  </tbody>\n",
       "</table>\n",
       "</div>"
      ],
      "text/plain": [
       "                       name platform  year_of_release         genre  na_sales  \\\n",
       "0                Wii Sports      Wii             2006        Sports     41.36   \n",
       "1         Super Mario Bros.      NES             1985      Platform     29.08   \n",
       "2            Mario Kart Wii      Wii             2008        Racing     15.68   \n",
       "3         Wii Sports Resort      Wii             2009        Sports     15.61   \n",
       "4  Pokemon Red/Pokemon Blue       GB             1996  Role-Playing     11.27   \n",
       "\n",
       "   eu_sales  jp_sales  other_sales  critic_score  user_score rating  \\\n",
       "0     28.96      3.77         8.45          76.0         8.0      E   \n",
       "1      3.58      6.81         0.77           NaN         NaN    NaN   \n",
       "2     12.76      3.79         3.29          82.0         8.3      E   \n",
       "3     10.93      3.28         2.95          80.0         8.0      E   \n",
       "4      8.89     10.22         1.00           NaN         NaN    NaN   \n",
       "\n",
       "   total_sales  \n",
       "0        82.54  \n",
       "1        40.24  \n",
       "2        35.52  \n",
       "3        32.77  \n",
       "4        31.38  "
      ]
     },
     "execution_count": 36,
     "metadata": {},
     "output_type": "execute_result"
    }
   ],
   "source": [
    "#Посчет суммарных продаж во всех регионах.\n",
    "data['total_sales'] = data[['na_sales', 'eu_sales', 'jp_sales', 'other_sales']].sum(axis=1)\n",
    "data.head()"
   ]
  },
  {
   "cell_type": "markdown",
   "metadata": {},
   "source": [
    "##  2. Исследовательский анализ данных"
   ]
  },
  {
   "cell_type": "markdown",
   "metadata": {},
   "source": [
    "### 2.1 Посмотрим срок жизни платформы."
   ]
  },
  {
   "cell_type": "code",
   "execution_count": 37,
   "metadata": {},
   "outputs": [
    {
     "data": {
      "image/png": "[encoded data removed]",
      "text/plain": [
       "<Figure size 1000x500 with 1 Axes>"
      ]
     },
     "metadata": {},
     "output_type": "display_data"
    }
   ],
   "source": [
    "# Посмотрим на количество выпущенных игр по годам.\n",
    "data.groupby('year_of_release')['name'].count().plot(kind='bar',\\\n",
    "                                                     xlabel = 'Года выпуска игр',\\\n",
    "                                                     ylabel = 'Количество выпущенных игр',\\\n",
    "                                                     figsize = (10,5),\\\n",
    "                                                     title = 'Количество игр по годам');"
   ]
  },
  {
   "cell_type": "markdown",
   "metadata": {},
   "source": [
    "Пик выпуска игр пришелся на 2008-2009 годы. Так как рынок компьютерных игр очень динамичен, то для нашего исследования весь представленный период интереса не представляет. В дальнейшем мы будем рассматривать последние несколько лет."
   ]
  },
  {
   "cell_type": "code",
   "execution_count": 38,
   "metadata": {},
   "outputs": [
    {
     "data": {
      "image/png": "[encoded data removed]",
      "text/plain": [
       "<Figure size 1000x500 with 1 Axes>"
      ]
     },
     "metadata": {},
     "output_type": "display_data"
    }
   ],
   "source": [
    "# Посмотрим на суммарные продажи игр по платформам.\n",
    "best_platform = data.groupby('platform')['total_sales'].sum().sort_values(ascending=False)\n",
    "best_platform.plot(kind='bar',\\\n",
    "                   figsize=(10,5),\\\n",
    "                   xlabel='Платформа',\\\n",
    "                   ylabel='Суммарные продажи',\\\n",
    "                   title='Продажи по платформам.');"
   ]
  },
  {
   "cell_type": "code",
   "execution_count": 39,
   "metadata": {},
   "outputs": [
    {
     "data": {
      "text/plain": [
       "['PS2', 'X360', 'PS3', 'Wii', 'DS', 'PS']"
      ]
     },
     "execution_count": 39,
     "metadata": {},
     "output_type": "execute_result"
    }
   ],
   "source": [
    "# Создадим список платформ с наибольшими суммарными продажами.\n",
    "best_platform_list = list(best_platform.head(6).index)\n",
    "best_platform_list"
   ]
  },
  {
   "cell_type": "code",
   "execution_count": 40,
   "metadata": {},
   "outputs": [
    {
     "data": {
      "image/png": "[encoded data removed]",
      "text/plain": [
       "<Figure size 1800x500 with 1 Axes>"
      ]
     },
     "metadata": {},
     "output_type": "display_data"
    }
   ],
   "source": [
    "# Строим распределение платформ с наибольшими суммарными продажами по годам.\n",
    "data.query('platform in @best_platform_list')\\\n",
    "    .groupby(['platform', 'year_of_release'])['total_sales'].sum()\\\n",
    "    .plot(kind='bar',\n",
    "          figsize = (18,5),\\\n",
    "          xlabel = 'Платформа, год выпуска игр',\\\n",
    "          ylabel='Суммарные продажи',\\\n",
    "          title='Распределение платформ с наибольшими суммарными продажами по годам');"
   ]
  },
  {
   "cell_type": "markdown",
   "metadata": {},
   "source": [
    "Из графика можно увидеть, что с момента появления новой платформы до момента прекращения продаж на ней проходит от 10 до 12 лет. А пик продаж проходится в среднем на 4-5 годы существования платформы. "
   ]
  },
  {
   "cell_type": "markdown",
   "metadata": {},
   "source": [
    "### 2.2 Выберем несколько потенциально прибыльных платформ."
   ]
  },
  {
   "cell_type": "code",
   "execution_count": 41,
   "metadata": {},
   "outputs": [
    {
     "data": {
      "image/png": "[encoded data removed]",
      "text/plain": [
       "<Figure size 2000x500 with 1 Axes>"
      ]
     },
     "metadata": {},
     "output_type": "display_data"
    }
   ],
   "source": [
    "# Данные за актуальный период (с 2013года).\n",
    "data.query('year_of_release >= 2013')\\\n",
    "    .groupby(['platform', 'year_of_release'])['total_sales'].sum()\\\n",
    "    .plot(kind='bar',\\\n",
    "          figsize = (20,5),\\\n",
    "          xlabel = 'Платформа, год выпуска игр',\\\n",
    "          ylabel='Суммарные продажи',\\\n",
    "          title='Распределение платформ по годам за актуальный период.');"
   ]
  },
  {
   "cell_type": "markdown",
   "metadata": {},
   "source": [
    "На графике видно, что в период с 2013 по 2016 годы по продажам лидируют такие платформы как PS3, PS4, X360. Однако на PS3 и X360 продажи в 2016 году уже сильно упали и вероятно в 2017 году они сойдут на нет. К потенциально прибыльным платформам можно отнести ещё 3DS и XOne. Лидером же является платформа PS4, её продажи в 2016 году в районе 70 млн."
   ]
  },
  {
   "cell_type": "code",
   "execution_count": 42,
   "metadata": {},
   "outputs": [
    {
     "data": {
      "image/png": "[encoded data removed]",
      "text/plain": [
       "<Figure size 500x500 with 1 Axes>"
      ]
     },
     "metadata": {},
     "output_type": "display_data"
    }
   ],
   "source": [
    "# График ящик с усами по глобальным продажам в разбивке по платфармам.\n",
    "sns.catplot(data=data.query('platform == \"3DS\" or platform == \"XOne\" or platform == \"PS4\"'),\\\n",
    "            x='platform', y='total_sales', kind='box')\n",
    "plt.ylim(0,4);\n"
   ]
  },
  {
   "cell_type": "code",
   "execution_count": 43,
   "metadata": {},
   "outputs": [
    {
     "data": {
      "text/html": [
       "<div>\n",
       "<style scoped>\n",
       "    .dataframe tbody tr th:only-of-type {\n",
       "        vertical-align: middle;\n",
       "    }\n",
       "\n",
       "    .dataframe tbody tr th {\n",
       "        vertical-align: top;\n",
       "    }\n",
       "\n",
       "    .dataframe thead th {\n",
       "        text-align: right;\n",
       "    }\n",
       "</style>\n",
       "<table border=\"1\" class=\"dataframe\">\n",
       "  <thead>\n",
       "    <tr style=\"text-align: right;\">\n",
       "      <th></th>\n",
       "      <th>count</th>\n",
       "      <th>mean</th>\n",
       "      <th>std</th>\n",
       "      <th>min</th>\n",
       "      <th>25%</th>\n",
       "      <th>50%</th>\n",
       "      <th>75%</th>\n",
       "      <th>max</th>\n",
       "    </tr>\n",
       "    <tr>\n",
       "      <th>platform</th>\n",
       "      <th></th>\n",
       "      <th></th>\n",
       "      <th></th>\n",
       "      <th></th>\n",
       "      <th></th>\n",
       "      <th></th>\n",
       "      <th></th>\n",
       "      <th></th>\n",
       "    </tr>\n",
       "  </thead>\n",
       "  <tbody>\n",
       "    <tr>\n",
       "      <th>3DS</th>\n",
       "      <td>512.0</td>\n",
       "      <td>0.503535</td>\n",
       "      <td>1.441271</td>\n",
       "      <td>0.01</td>\n",
       "      <td>0.05</td>\n",
       "      <td>0.12</td>\n",
       "      <td>0.3325</td>\n",
       "      <td>14.60</td>\n",
       "    </tr>\n",
       "    <tr>\n",
       "      <th>PS4</th>\n",
       "      <td>392.0</td>\n",
       "      <td>0.801378</td>\n",
       "      <td>1.609456</td>\n",
       "      <td>0.01</td>\n",
       "      <td>0.06</td>\n",
       "      <td>0.20</td>\n",
       "      <td>0.7300</td>\n",
       "      <td>14.63</td>\n",
       "    </tr>\n",
       "    <tr>\n",
       "      <th>XOne</th>\n",
       "      <td>247.0</td>\n",
       "      <td>0.645020</td>\n",
       "      <td>1.036139</td>\n",
       "      <td>0.01</td>\n",
       "      <td>0.06</td>\n",
       "      <td>0.22</td>\n",
       "      <td>0.6850</td>\n",
       "      <td>7.39</td>\n",
       "    </tr>\n",
       "  </tbody>\n",
       "</table>\n",
       "</div>"
      ],
      "text/plain": [
       "          count      mean       std   min   25%   50%     75%    max\n",
       "platform                                                            \n",
       "3DS       512.0  0.503535  1.441271  0.01  0.05  0.12  0.3325  14.60\n",
       "PS4       392.0  0.801378  1.609456  0.01  0.06  0.20  0.7300  14.63\n",
       "XOne      247.0  0.645020  1.036139  0.01  0.06  0.22  0.6850   7.39"
      ]
     },
     "execution_count": 43,
     "metadata": {},
     "output_type": "execute_result"
    }
   ],
   "source": [
    "data.query('platform == \"3DS\" or platform == \"XOne\" or platform == \"PS4\"')\\\n",
    "    .groupby('platform')['total_sales'].describe()"
   ]
  },
  {
   "cell_type": "code",
   "execution_count": 44,
   "metadata": {},
   "outputs": [
    {
     "data": {
      "text/plain": [
       "platform\n",
       "3DS     257.81\n",
       "PS4     314.14\n",
       "XOne    159.32\n",
       "Name: total_sales, dtype: float64"
      ]
     },
     "execution_count": 44,
     "metadata": {},
     "output_type": "execute_result"
    }
   ],
   "source": [
    "# Посмотрим на суммарные продажи по выбранным платформам.\n",
    "data.query('platform == \"3DS\" or platform == \"XOne\" or platform == \"PS4\"')\\\n",
    "    .groupby('platform')['total_sales'].sum()"
   ]
  },
  {
   "cell_type": "markdown",
   "metadata": {},
   "source": [
    "Нижний квартиль на всех трёх платформах проходит примерно на одном уровне 0,05 - 0,06. \n",
    "Медиана на платформе 3DS ниже, чем на двух других на 0,1 млн.копий. \n",
    "Верхние квартили на платформах XOne и PS4 выше более, чем в 2 раза. Также на графиках (XOne,PS4) усы заметно длинее. Это говорит о том, что на этих платформах игры чаще продаются большим числом копий.Здесь также видно, что лидером является платформа PS4, все её показатели выше и суммарные продажи почти в 2 раза больше, чем на платформе XOne.\n"
   ]
  },
  {
   "cell_type": "markdown",
   "metadata": {},
   "source": [
    "### 2.3 Посмотрим как влияют отзывы пользователей и критиков на продажи."
   ]
  },
  {
   "cell_type": "code",
   "execution_count": 46,
   "metadata": {},
   "outputs": [
    {
     "data": {
      "image/png": "[encoded data removed]",
      "text/plain": [
       "<Figure size 1000x500 with 1 Axes>"
      ]
     },
     "metadata": {},
     "output_type": "display_data"
    },
    {
     "data": {
      "image/png": "[encoded data removed]",
      "text/plain": [
       "<Figure size 1000x500 with 1 Axes>"
      ]
     },
     "metadata": {},
     "output_type": "display_data"
    }
   ],
   "source": [
    "# Построим диагаммы рассеиния.\n",
    "ps4_scores = data.loc[data['platform'] == 'PS4']\n",
    "\n",
    "ps4_scores.plot(x='critic_score',\\\n",
    "                y='total_sales',\\\n",
    "                kind='scatter',\\\n",
    "                figsize=(10,5),\\\n",
    "                xlabel='Оценка критиков',\\\n",
    "                ylabel='Суммарные продажи',\\\n",
    "                title='Зависимость продаж от оценок критиков',\\\n",
    "                alpha=0.5),\n",
    "ps4_scores.plot(x='user_score',\\\n",
    "                y='total_sales',\\\n",
    "                kind='scatter',\\\n",
    "                figsize=(10,5),\\\n",
    "                xlabel='Оценка пользователей',\\\n",
    "                ylabel='Суммарные продажи',\\\n",
    "                title='Зависимость продаж от оценок пользователей',\\\n",
    "                alpha=0.5);"
   ]
  },
  {
   "cell_type": "code",
   "execution_count": 47,
   "metadata": {
    "scrolled": true
   },
   "outputs": [
    {
     "data": {
      "text/plain": [
       "(0.40656790206178145, -0.03195711020455645)"
      ]
     },
     "execution_count": 47,
     "metadata": {},
     "output_type": "execute_result"
    }
   ],
   "source": [
    "# Подсчет корреляции между отзывами и продажами.\n",
    "ps4_scores['total_sales'].corr(ps4_scores['critic_score']),\\\n",
    "ps4_scores['total_sales'].corr(ps4_scores['user_score'])"
   ]
  },
  {
   "cell_type": "markdown",
   "metadata": {},
   "source": [
    "На первом графике заметно и корреляция это подтверждает, что есть зависимость между продажами и оценками критиков, но небольшая. Зависимости же продаж от оценок пользователей нет."
   ]
  },
  {
   "cell_type": "code",
   "execution_count": 311,
   "metadata": {},
   "outputs": [
    {
     "data": {
      "text/html": [
       "<div>\n",
       "<style scoped>\n",
       "    .dataframe tbody tr th:only-of-type {\n",
       "        vertical-align: middle;\n",
       "    }\n",
       "\n",
       "    .dataframe tbody tr th {\n",
       "        vertical-align: top;\n",
       "    }\n",
       "\n",
       "    .dataframe thead th {\n",
       "        text-align: right;\n",
       "    }\n",
       "</style>\n",
       "<table border=\"1\" class=\"dataframe\">\n",
       "  <thead>\n",
       "    <tr style=\"text-align: right;\">\n",
       "      <th></th>\n",
       "      <th>critic_score</th>\n",
       "      <th>user_score</th>\n",
       "      <th>total_sales</th>\n",
       "    </tr>\n",
       "  </thead>\n",
       "  <tbody>\n",
       "    <tr>\n",
       "      <th>critic_score</th>\n",
       "      <td>1.000000</td>\n",
       "      <td>0.745222</td>\n",
       "      <td>0.348740</td>\n",
       "    </tr>\n",
       "    <tr>\n",
       "      <th>user_score</th>\n",
       "      <td>0.745222</td>\n",
       "      <td>1.000000</td>\n",
       "      <td>0.222078</td>\n",
       "    </tr>\n",
       "    <tr>\n",
       "      <th>total_sales</th>\n",
       "      <td>0.348740</td>\n",
       "      <td>0.222078</td>\n",
       "      <td>1.000000</td>\n",
       "    </tr>\n",
       "  </tbody>\n",
       "</table>\n",
       "</div>"
      ],
      "text/plain": [
       "              critic_score  user_score  total_sales\n",
       "critic_score      1.000000    0.745222     0.348740\n",
       "user_score        0.745222    1.000000     0.222078\n",
       "total_sales       0.348740    0.222078     1.000000"
      ]
     },
     "execution_count": 311,
     "metadata": {},
     "output_type": "execute_result"
    }
   ],
   "source": [
    "# Посмотрим влияние отзывов пользователей и критиков на продажи на платформе 3DS.\n",
    "platform_3ds[['critic_score', 'user_score', 'total_sales']].corr()"
   ]
  },
  {
   "cell_type": "code",
   "execution_count": 312,
   "metadata": {},
   "outputs": [
    {
     "data": {
      "text/html": [
       "<div>\n",
       "<style scoped>\n",
       "    .dataframe tbody tr th:only-of-type {\n",
       "        vertical-align: middle;\n",
       "    }\n",
       "\n",
       "    .dataframe tbody tr th {\n",
       "        vertical-align: top;\n",
       "    }\n",
       "\n",
       "    .dataframe thead th {\n",
       "        text-align: right;\n",
       "    }\n",
       "</style>\n",
       "<table border=\"1\" class=\"dataframe\">\n",
       "  <thead>\n",
       "    <tr style=\"text-align: right;\">\n",
       "      <th></th>\n",
       "      <th>critic_score</th>\n",
       "      <th>user_score</th>\n",
       "      <th>total_sales</th>\n",
       "    </tr>\n",
       "  </thead>\n",
       "  <tbody>\n",
       "    <tr>\n",
       "      <th>critic_score</th>\n",
       "      <td>1.000000</td>\n",
       "      <td>0.472462</td>\n",
       "      <td>0.416998</td>\n",
       "    </tr>\n",
       "    <tr>\n",
       "      <th>user_score</th>\n",
       "      <td>0.472462</td>\n",
       "      <td>1.000000</td>\n",
       "      <td>-0.068925</td>\n",
       "    </tr>\n",
       "    <tr>\n",
       "      <th>total_sales</th>\n",
       "      <td>0.416998</td>\n",
       "      <td>-0.068925</td>\n",
       "      <td>1.000000</td>\n",
       "    </tr>\n",
       "  </tbody>\n",
       "</table>\n",
       "</div>"
      ],
      "text/plain": [
       "              critic_score  user_score  total_sales\n",
       "critic_score      1.000000    0.472462     0.416998\n",
       "user_score        0.472462    1.000000    -0.068925\n",
       "total_sales       0.416998   -0.068925     1.000000"
      ]
     },
     "execution_count": 312,
     "metadata": {},
     "output_type": "execute_result"
    }
   ],
   "source": [
    "# Посмотрим влияние отзывов пользователей и критиков на продажи на платформе XOne.\n",
    "platform_xone[['critic_score', 'user_score', 'total_sales']].corr()"
   ]
  },
  {
   "cell_type": "markdown",
   "metadata": {},
   "source": [
    "Значения коэффициента корреляции на платформах XOne и PS4 практически одинаковые. На 3ds корреляция по оценкам пользователей положительная и составляет 0,22. Однако это слабая корреляция и мы не можем сказать, что оценкb пользователей оказывают большое влияние на продажи."
   ]
  },
  {
   "cell_type": "markdown",
   "metadata": {},
   "source": [
    "### 2.4 Посмотрим какие жанры пользуются большим спросом."
   ]
  },
  {
   "cell_type": "code",
   "execution_count": 48,
   "metadata": {},
   "outputs": [
    {
     "data": {
      "image/png": "[encoded data removed]",
      "text/plain": [
       "<Figure size 700x500 with 1 Axes>"
      ]
     },
     "metadata": {},
     "output_type": "display_data"
    }
   ],
   "source": [
    "# Распределение продаж по жанрам. \n",
    "data.groupby('genre')['total_sales'].sum()\\\n",
    "    .sort_values(ascending=False).plot(kind='bar',\\\n",
    "                                       figsize=(7,5),\\\n",
    "                                       xlabel='Жанры игр',\\\n",
    "                                       ylabel='Суммарные продажи',\\\n",
    "                                       title='Распределение суммарных продаж по жанрам');"
   ]
  },
  {
   "cell_type": "code",
   "execution_count": 49,
   "metadata": {},
   "outputs": [
    {
     "data": {
      "image/png": "[encoded data removed]",
      "text/plain": [
       "<Figure size 700x500 with 1 Axes>"
      ]
     },
     "metadata": {},
     "output_type": "display_data"
    }
   ],
   "source": [
    "# Распределение средних продаж по жанрам.\n",
    "data.groupby('genre')['total_sales'].mean()\\\n",
    "    .sort_values(ascending=False).plot(kind='bar',\\\n",
    "                                       figsize=(7,5),\\\n",
    "                                       xlabel='Жанры игр',\\\n",
    "                                       ylabel='Среднии продажи',\\\n",
    "                                       title='Распределение средних продаж по жанрам');"
   ]
  },
  {
   "cell_type": "markdown",
   "metadata": {},
   "source": [
    "Самые большие продажи у игр с жанрами Action и Sports, а наименьшие продажи в таких жанрах как Puzzle, Adventure и Strategy.\n",
    "Если смотреть на средние продажи, то на первое место выходят такие жанры как Platform и Shooter. на последнем также остаются Adventure и Strategy."
   ]
  },
  {
   "cell_type": "markdown",
   "metadata": {},
   "source": [
    "## 3. Портрет пользователя каждого региона."
   ]
  },
  {
   "cell_type": "markdown",
   "metadata": {},
   "source": [
    "### 3.1 Посмотрим на топ-5 популярных платформ в каждом регионе."
   ]
  },
  {
   "cell_type": "code",
   "execution_count": 53,
   "metadata": {},
   "outputs": [
    {
     "data": {
      "image/png": "[encoded data removed]",
      "text/plain": [
       "<Figure size 500x500 with 1 Axes>"
      ]
     },
     "metadata": {},
     "output_type": "display_data"
    }
   ],
   "source": [
    "# Самые популярные платформы (топ-5) для пользователей из северной америки.\n",
    "data.groupby('platform')['na_sales'].sum().sort_values(ascending=False).head(5).plot(kind='pie',\\\n",
    "                                                                                     autopct='%1.0f%%',\\\n",
    "                                                                                     figsize=(5,5),\\\n",
    "                                                                                     title='Топ-5 платформ Северной Америки');"
   ]
  },
  {
   "cell_type": "markdown",
   "metadata": {},
   "source": [
    "Среди пяти самых популярных платформ в Северной Америке почти половина продаж приходится на две платформы PS2 и X360. Оставшуюся половину делят между собой такие платформы как Wii, PS3, DS. "
   ]
  },
  {
   "cell_type": "code",
   "execution_count": 40,
   "metadata": {},
   "outputs": [
    {
     "data": {
      "image/png": "[encoded data removed]",
      "text/plain": [
       "<Figure size 500x500 with 1 Axes>"
      ]
     },
     "metadata": {},
     "output_type": "display_data"
    }
   ],
   "source": [
    "# Самые популярные платформы (топ-5) для пользователей из европы.\n",
    "data.groupby('platform')['eu_sales'].sum()\\\n",
    ".sort_values(ascending=False).head(5).plot(kind='pie',\\\n",
    "                                           autopct='%1.0f%%',\\\n",
    "                                           figsize=(5,5),\\\n",
    "                                           title='Топ-5 платформ Европы');"
   ]
  },
  {
   "cell_type": "markdown",
   "metadata": {},
   "source": [
    "У пользователей из Европы в пятёрку популярных платформ попали те же, что и в Северной америке, с одним только отличием - в Европе более популярна консоль PS, в то время как в Америке DS. Также отличается и распределение продаж по платформам. Половину из них делят между собой PS2 и PS3, продажы на X360 в Европе ниже и составляют 19%."
   ]
  },
  {
   "cell_type": "code",
   "execution_count": 39,
   "metadata": {},
   "outputs": [
    {
     "data": {
      "image/png": "[encoded data removed]",
      "text/plain": [
       "<Figure size 500x500 with 1 Axes>"
      ]
     },
     "metadata": {},
     "output_type": "display_data"
    }
   ],
   "source": [
    "# Самые популярные платформы (топ-5) для пользователей из японии.\n",
    "data.groupby('platform')['jp_sales'].sum()\\\n",
    "    .sort_values(ascending=False).head(5).plot(kind='pie',\\\n",
    "                                               autopct='%1.0f%%',\\\n",
    "                                               figsize=(5,5),\\\n",
    "                                               title='Топ-5 платформ Японии'); "
   ]
  },
  {
   "cell_type": "markdown",
   "metadata": {},
   "source": [
    "В Японии же самая популярная платформа DS, на неё приходится более 26 продаж. По 21% имеют платформы PS и PS2."
   ]
  },
  {
   "cell_type": "markdown",
   "metadata": {},
   "source": [
    "### 3.2 Посмотрим на топ-5 популярных жанров по каждому региону."
   ]
  },
  {
   "cell_type": "code",
   "execution_count": 318,
   "metadata": {},
   "outputs": [
    {
     "data": {
      "text/plain": [
       "genre\n",
       "Action      863.17\n",
       "Sports      671.20\n",
       "Shooter     584.83\n",
       "Platform    444.44\n",
       "Misc        399.57\n",
       "Name: na_sales, dtype: float64"
      ]
     },
     "execution_count": 318,
     "metadata": {},
     "output_type": "execute_result"
    }
   ],
   "source": [
    "# Самые популярные жанры (топ-5) для пользователей из северной америки.\n",
    "data.groupby('genre')['na_sales'].sum().sort_values(ascending=False).head(5)  "
   ]
  },
  {
   "cell_type": "code",
   "execution_count": 319,
   "metadata": {},
   "outputs": [
    {
     "data": {
      "text/plain": [
       "genre\n",
       "Action     510.99\n",
       "Sports     371.33\n",
       "Shooter    314.52\n",
       "Racing     234.49\n",
       "Misc       210.60\n",
       "Name: eu_sales, dtype: float64"
      ]
     },
     "execution_count": 319,
     "metadata": {},
     "output_type": "execute_result"
    }
   ],
   "source": [
    "# Самые популярные жанры (топ-5) для пользователей из европы.\n",
    "data.groupby('genre')['eu_sales'].sum().sort_values(ascending=False).head(5) "
   ]
  },
  {
   "cell_type": "markdown",
   "metadata": {},
   "source": [
    "Здесь наблюдается схожесть интересов у пользователей из Америки и Европы. И те и другие больше всего предпочитают игры в жанрах Action, Sports, Shooter "
   ]
  },
  {
   "cell_type": "code",
   "execution_count": 320,
   "metadata": {},
   "outputs": [
    {
     "data": {
      "text/plain": [
       "genre\n",
       "Role-Playing    353.39\n",
       "Action          160.14\n",
       "Sports          134.93\n",
       "Platform        130.71\n",
       "Misc            107.02\n",
       "Name: jp_sales, dtype: float64"
      ]
     },
     "execution_count": 320,
     "metadata": {},
     "output_type": "execute_result"
    }
   ],
   "source": [
    "# Самые популярные жанры (топ-5) для пользователей из японии.\n",
    "data.groupby('genre')['jp_sales'].sum().sort_values(ascending=False).head(5)"
   ]
  },
  {
   "cell_type": "markdown",
   "metadata": {},
   "source": [
    "В Японии же на первое место с отрывом более, чем в 2 раза выходят игры в жанре Role-Playing."
   ]
  },
  {
   "cell_type": "markdown",
   "metadata": {},
   "source": [
    "### 3.3 Посмотрим влияет ли рейтинг ESRB на продажи в регионах."
   ]
  },
  {
   "cell_type": "markdown",
   "metadata": {},
   "source": [
    "ESRB (Entertainment Software Rating Board) - ассоциация, определяющая возрастной рейтинг компьютерных игр."
   ]
  },
  {
   "cell_type": "markdown",
   "metadata": {},
   "source": [
    "Рейтинги от организации ESRB:\n",
    "Все (E)\n",
    "Подросток (Т)\n",
    "Зрелые 17+ (М)\n",
    "Все 10+ (E10+)\n",
    "Раннее детство (ЕС)\n",
    "Раннее детство (K-A)\n",
    "Рейтинг в ожидании (RP)\n",
    "Только для взрослых 18+ (АО)"
   ]
  },
  {
   "cell_type": "code",
   "execution_count": 50,
   "metadata": {},
   "outputs": [
    {
     "data": {
      "image/png": "[encoded data removed]",
      "text/plain": [
       "<Figure size 700x500 with 1 Axes>"
      ]
     },
     "metadata": {},
     "output_type": "display_data"
    }
   ],
   "source": [
    "# Распределение продаж по рейтингу ESRB в Америке.\n",
    "data.pivot_table(index='rating', values='na_sales').plot(y='na_sales',\\\n",
    "                                                         kind='bar',\\\n",
    "                                                         figsize=(7,5),\\\n",
    "                                                         xlabel='Рейтинг ESRB',\\\n",
    "                                                         ylabel='Суммарные продажи',\\\n",
    "                                                         title='Распределение продаж по рейтингу ESRB в Америке.');"
   ]
  },
  {
   "cell_type": "code",
   "execution_count": 55,
   "metadata": {},
   "outputs": [
    {
     "data": {
      "image/png": "[encoded data removed]",
      "text/plain": [
       "<Figure size 700x500 with 1 Axes>"
      ]
     },
     "metadata": {},
     "output_type": "display_data"
    }
   ],
   "source": [
    "# Распределение продаж по рейтингу ESRB в Европе.\n",
    "data.pivot_table(index='rating', values='eu_sales').plot(y='eu_sales',\\\n",
    "                                                         kind='bar',\\\n",
    "                                                         figsize=(7,5),\\\n",
    "                                                         xlabel='Рейтинг ESRB',\\\n",
    "                                                         ylabel='Суммарные продажи',\\\n",
    "                                                         title='Распределение продаж по рейтингу ESRB в Европе.');"
   ]
  },
  {
   "cell_type": "markdown",
   "metadata": {},
   "source": [
    "Здесь опять наблюдается схожесть интересов у пользователей из Америки и Европы. И те и другие предпочитают игры для взрослых. Также в Америке пользуются спросом игры для детей раннего возраста."
   ]
  },
  {
   "cell_type": "code",
   "execution_count": 54,
   "metadata": {},
   "outputs": [
    {
     "data": {
      "image/png": "[encoded data removed]",
      "text/plain": [
       "<Figure size 700x500 with 1 Axes>"
      ]
     },
     "metadata": {},
     "output_type": "display_data"
    }
   ],
   "source": [
    "# Распределение продаж по рейтингу ESRB в Японии.\n",
    "data.pivot_table(index='rating', values='jp_sales').plot(y='jp_sales',\\\n",
    "                                                         kind='bar',\\\n",
    "                                                         figsize=(7,5),\\\n",
    "                                                         xlabel='Рейтинг ESRB',\\\n",
    "                                                         ylabel='Суммарные продажи',\\\n",
    "                                                         title='Распределение продаж по рейтингу ESRB в Японии.');"
   ]
  },
  {
   "cell_type": "markdown",
   "metadata": {},
   "source": [
    "В Японии же основной спрос на игры для маленьких детей. И совершенно отсутствует интерес к играм 18+."
   ]
  },
  {
   "cell_type": "markdown",
   "metadata": {},
   "source": [
    "##  4. Проверка гипотез"
   ]
  },
  {
   "cell_type": "code",
   "execution_count": 324,
   "metadata": {},
   "outputs": [
    {
     "data": {
      "text/plain": [
       "0"
      ]
     },
     "execution_count": 324,
     "metadata": {},
     "output_type": "execute_result"
    }
   ],
   "source": [
    "# Удалим пропуски из столбца ['user_score']\n",
    "data = data.dropna(subset=['user_score'])\n",
    "data['user_score'].isna().sum()"
   ]
  },
  {
   "cell_type": "markdown",
   "metadata": {},
   "source": [
    "Ниже будем проверять две гипотезы о равенстве среднего двух генеральных совокупностей по взятым из них выборкам. Для этого будем использовать метод scipy.stats.ttest_ind."
   ]
  },
  {
   "cell_type": "markdown",
   "metadata": {},
   "source": [
    "Проверка гипотезы: Средние пользовательские рейтинги платформ Xbox One и PC одинаковые. \n",
    "```\n",
    "H_0: Пользовательские рейтинги платформы Xbox One = пользовательские рейтинги платформы PC.`\n",
    "H_a: Пользовательские рейтинги платформы Xbox One ≠ пользовательские рейтинги платформы PC.`\n",
    "alpha = 0.05\n",
    "```"
   ]
  },
  {
   "cell_type": "code",
   "execution_count": 325,
   "metadata": {},
   "outputs": [
    {
     "name": "stdout",
     "output_type": "stream",
     "text": [
      "p-значение: 4.5385802963771835e-06\n",
      "Отвергаем нулевую гипотезу\n"
     ]
    }
   ],
   "source": [
    "xbox_one = data.loc[data['platform'] == 'XOne', 'user_score']\n",
    "pc = data.loc[data['platform'] == 'PC', 'user_score']\n",
    "\n",
    "results = st.ttest_ind(xbox_one, pc, equal_var=False) # вызов метода для проверки гипотезы\n",
    "alpha = 0.05 # значение уровня значимости\n",
    "\n",
    "print('p-значение:', results.pvalue) # вывод значения p-value на экран\n",
    "\n",
    "if results.pvalue < alpha:\n",
    "    print(\"Отвергаем нулевую гипотезу\")\n",
    "else:\n",
    "    print(\"Не получилось отвергнуть нулевую гипотезу\") # условный оператор с выводом строки с ответом"
   ]
  },
  {
   "cell_type": "markdown",
   "metadata": {},
   "source": [
    "Проверка гипотезы: Средние пользовательские рейтинги жанров Action и Sports разные.\n",
    "\n",
    "```\n",
    "H_0: Пользовательские рейтинги платформ жанра Action = пользовательские рейтинги жанра Sports.`\n",
    "H_a: Пользовательские рейтинги платформ жанра Action ≠ пользовательские рейтинги жанра Sports.`\n",
    "alpha = 0.05\n",
    "```\n"
   ]
  },
  {
   "cell_type": "code",
   "execution_count": 326,
   "metadata": {},
   "outputs": [
    {
     "name": "stdout",
     "output_type": "stream",
     "text": [
      "p-значение: 0.07370217419278526\n",
      "Не получилось отвергнуть нулевую гипотезу\n"
     ]
    }
   ],
   "source": [
    "action = data.loc[data['genre'] == 'Action', 'user_score']\n",
    "sports = data.loc[data['genre'] == 'Sports', 'user_score']\n",
    "\n",
    "results = st.ttest_ind(action, sports, equal_var=False) # вызов метода для проверки гипотезы\n",
    "alpha = 0.05 # значение уровня значимости\n",
    "\n",
    "print('p-значение:', results.pvalue) # вывод значения p-value на экран\n",
    "\n",
    "if results.pvalue < alpha:\n",
    "    print(\"Отвергаем нулевую гипотезу\")\n",
    "else:\n",
    "    print(\"Не получилось отвергнуть нулевую гипотезу\") # условный оператор с выводом строки с ответом"
   ]
  },
  {
   "cell_type": "markdown",
   "metadata": {},
   "source": [
    "**Общие выводы:**\n",
    "\n",
    "* В период с 2013 по 2016 годы по продажам лидируют такие платформы как PS3, PS4, X360. Однако на PS3 и X360 продажи в 2016 году уже сильно упали и вероятно в 2017 году они сойдут на нет. К потенциально прибыльным платформам можно отнести ещё 3DS и XOne. Лидером же является платформа PS4, её продажи в 2016 году в районе 70 млн.\n",
    "\n",
    "* Нижний квартиль на всех трёх платформах проходит примерно на одном уровне 0,05 - 0,06. Медиана на платформе 3DS ниже, чем на двух других на 0,1 млн.копий. Верхние квартили на платформах XOne и PS4 выше более, чем в 2 раза. Также на графиках (XOne,PS4) усы заметно длинее. Это говорит о том, что на этих платформах игры чаще продаются большим числом копий.Здесь также видно, что лидером является платформа PS4, все её показатели выше и суммарные продажи почти в 2 раза больше, чем на платформе XOne.\n",
    "\n",
    "* Зависимость между продажами и оценками критиков есть, но небольшая. Зависимости же продаж от оценок пользователей нет.Значения коэффициента корреляции на платформах XOne и PS4 практически одинаковые. На 3ds корреляция по оценкам пользователей положительная и составляет 0,22. Однако это слабая корреляция и мы не можем сказать, что оценки пользователей оказывают большое влияние на продажи.\n",
    "\n",
    "* Самые большие продажи у игр с жанрами Action и Sports, а наименьшие продажи в таких жанрах как Puzzle, Adventure и Strategy. Если смотреть на средние продажи, то на первое место выходят такие жанры как Platform и Shooter. на последнем также остаются Adventure и Strategy.\n",
    "\n",
    "*Портрет пользователя каждого региона:*\n",
    "- Среди пяти самых популярных платформ в Северной Америке почти половина продаж приходится на две платформы PS2 и X360. Оставшуюся половину делят между собой такие платформы как Wii, PS3, DS.\n",
    "  У пользователей из Европы в пятёрку популярных платформ попали те же, что и в Северной америке, с одним только отличием - в Европе более популярна консоль PS, в то время как в Америке DS. Также отличается и распределение продаж по платформам. Половину из них делят между собой PS2 и PS3, продажы на X360 в Европе ниже и составляют 19%.\n",
    "  В Японии же самая популярная платформа DS, на неё приходится более 26 продаж. По 21% имеют платформы PS и PS2. \n",
    "  \n",
    "- Что касается жанров, то наблюдается схожесть интересов у пользователей из Америки и Европы. И те и другие больше всего предпочитают игры в жанрах Action, Sports, Shooter\n",
    "  В Японии же на первое место с отрывом более, чем в 2 раза выходят игры в жанре Role-Playing.\n",
    "  \n",
    "- По рейтингу ESRB опять наблюдается схожесть интересов у пользователей из Америки и Европы. И те и другие предпочитают игры для взрослых. Также в Америке пользуются спросом игры для детей раннего возраста.\n",
    "  В Японии же основной спрос на игры для маленьких детей. И совершенно отсутствует интерес к играм 18+.\n"
   ]
  }
 ],
 "metadata": {
  "ExecuteTimeLog": [
   {
    "duration": 456,
    "start_time": "2022-12-12T18:16:34.838Z"
   },
   {
    "duration": 130,
    "start_time": "2022-12-12T18:17:35.860Z"
   },
   {
    "duration": 16,
    "start_time": "2022-12-12T18:19:44.870Z"
   },
   {
    "duration": 3,
    "start_time": "2022-12-12T18:29:16.814Z"
   },
   {
    "duration": 71,
    "start_time": "2022-12-12T18:29:22.605Z"
   },
   {
    "duration": 8,
    "start_time": "2022-12-12T18:29:45.283Z"
   },
   {
    "duration": 7,
    "start_time": "2022-12-12T18:32:07.576Z"
   },
   {
    "duration": 7,
    "start_time": "2022-12-12T18:32:15.734Z"
   },
   {
    "duration": 7,
    "start_time": "2022-12-12T18:32:25.522Z"
   },
   {
    "duration": 8,
    "start_time": "2022-12-12T18:32:41.239Z"
   },
   {
    "duration": 7,
    "start_time": "2022-12-12T18:36:32.704Z"
   },
   {
    "duration": 3,
    "start_time": "2022-12-12T18:36:52.964Z"
   },
   {
    "duration": 76,
    "start_time": "2022-12-12T18:36:52.969Z"
   },
   {
    "duration": 4,
    "start_time": "2022-12-12T18:37:18.637Z"
   },
   {
    "duration": 14,
    "start_time": "2022-12-12T18:37:27.037Z"
   },
   {
    "duration": 5,
    "start_time": "2022-12-12T18:37:57.589Z"
   },
   {
    "duration": 15,
    "start_time": "2022-12-12T18:38:19.243Z"
   },
   {
    "duration": 14,
    "start_time": "2022-12-12T18:38:37.611Z"
   },
   {
    "duration": 7,
    "start_time": "2022-12-12T18:38:46.981Z"
   },
   {
    "duration": 3,
    "start_time": "2022-12-12T18:39:00.381Z"
   },
   {
    "duration": 7,
    "start_time": "2022-12-12T18:39:14.822Z"
   },
   {
    "duration": 10,
    "start_time": "2022-12-12T18:39:37.392Z"
   },
   {
    "duration": 8,
    "start_time": "2022-12-12T18:40:30.788Z"
   },
   {
    "duration": 8,
    "start_time": "2022-12-12T18:40:50.017Z"
   },
   {
    "duration": 7,
    "start_time": "2022-12-12T18:41:48.818Z"
   },
   {
    "duration": 7,
    "start_time": "2022-12-12T18:43:00.111Z"
   },
   {
    "duration": 69,
    "start_time": "2022-12-12T18:43:05.885Z"
   },
   {
    "duration": 6,
    "start_time": "2022-12-12T18:43:12.520Z"
   },
   {
    "duration": 5,
    "start_time": "2022-12-12T18:43:17.354Z"
   },
   {
    "duration": 8,
    "start_time": "2022-12-12T18:43:43.146Z"
   },
   {
    "duration": 9,
    "start_time": "2022-12-12T18:44:56.190Z"
   },
   {
    "duration": 8,
    "start_time": "2022-12-12T18:45:02.003Z"
   },
   {
    "duration": 69,
    "start_time": "2022-12-12T18:45:06.130Z"
   },
   {
    "duration": 4,
    "start_time": "2022-12-12T18:45:11.744Z"
   },
   {
    "duration": 5,
    "start_time": "2022-12-12T18:45:15.164Z"
   },
   {
    "duration": 4,
    "start_time": "2022-12-12T18:48:32.604Z"
   },
   {
    "duration": 18,
    "start_time": "2022-12-12T18:48:39.103Z"
   },
   {
    "duration": 48,
    "start_time": "2022-12-12T18:56:42.153Z"
   },
   {
    "duration": 18,
    "start_time": "2022-12-12T18:57:08.378Z"
   },
   {
    "duration": 16,
    "start_time": "2022-12-12T19:03:27.915Z"
   },
   {
    "duration": 14,
    "start_time": "2022-12-12T19:04:00.597Z"
   },
   {
    "duration": 13,
    "start_time": "2022-12-12T19:04:37.616Z"
   },
   {
    "duration": 8,
    "start_time": "2022-12-12T19:07:55.812Z"
   },
   {
    "duration": 14,
    "start_time": "2022-12-12T19:07:59.205Z"
   },
   {
    "duration": 5,
    "start_time": "2022-12-12T19:09:11.769Z"
   },
   {
    "duration": 9,
    "start_time": "2022-12-12T19:12:27.557Z"
   },
   {
    "duration": 7,
    "start_time": "2022-12-12T19:13:36.954Z"
   },
   {
    "duration": 5,
    "start_time": "2022-12-12T19:14:59.692Z"
   },
   {
    "duration": 18,
    "start_time": "2022-12-12T19:31:42.450Z"
   },
   {
    "duration": 19,
    "start_time": "2022-12-12T19:32:42.429Z"
   },
   {
    "duration": 17,
    "start_time": "2022-12-12T19:32:51.926Z"
   },
   {
    "duration": 8,
    "start_time": "2022-12-12T19:35:08.471Z"
   },
   {
    "duration": 3,
    "start_time": "2022-12-12T19:35:28.694Z"
   },
   {
    "duration": 70,
    "start_time": "2022-12-12T19:35:28.699Z"
   },
   {
    "duration": 4,
    "start_time": "2022-12-12T19:35:28.770Z"
   },
   {
    "duration": 21,
    "start_time": "2022-12-12T19:35:28.775Z"
   },
   {
    "duration": 7,
    "start_time": "2022-12-12T19:35:31.715Z"
   },
   {
    "duration": 5,
    "start_time": "2022-12-12T19:37:01.053Z"
   },
   {
    "duration": 6,
    "start_time": "2022-12-12T19:43:51.762Z"
   },
   {
    "duration": 9,
    "start_time": "2022-12-12T19:44:37.190Z"
   },
   {
    "duration": 13,
    "start_time": "2022-12-12T19:44:40.778Z"
   },
   {
    "duration": 54,
    "start_time": "2022-12-12T19:45:18.748Z"
   },
   {
    "duration": 15,
    "start_time": "2022-12-12T19:45:24.949Z"
   },
   {
    "duration": 12,
    "start_time": "2022-12-12T19:45:37.150Z"
   },
   {
    "duration": 14,
    "start_time": "2022-12-12T19:45:40.712Z"
   },
   {
    "duration": 12,
    "start_time": "2022-12-12T19:46:38.133Z"
   },
   {
    "duration": 15,
    "start_time": "2022-12-12T19:46:43.523Z"
   },
   {
    "duration": 11,
    "start_time": "2022-12-12T19:49:46.854Z"
   },
   {
    "duration": 15,
    "start_time": "2022-12-12T19:49:50.701Z"
   },
   {
    "duration": 15,
    "start_time": "2022-12-12T19:55:28.784Z"
   },
   {
    "duration": 20,
    "start_time": "2022-12-12T19:55:32.833Z"
   },
   {
    "duration": 14,
    "start_time": "2022-12-12T19:55:43.793Z"
   },
   {
    "duration": 8,
    "start_time": "2022-12-12T19:56:07.568Z"
   },
   {
    "duration": 15,
    "start_time": "2022-12-12T19:56:12.068Z"
   },
   {
    "duration": 14,
    "start_time": "2022-12-12T19:56:16.047Z"
   },
   {
    "duration": 15,
    "start_time": "2022-12-12T19:56:48.350Z"
   },
   {
    "duration": 8,
    "start_time": "2022-12-12T19:57:14.541Z"
   },
   {
    "duration": 7,
    "start_time": "2022-12-12T19:57:16.779Z"
   },
   {
    "duration": 14,
    "start_time": "2022-12-12T19:57:18.240Z"
   },
   {
    "duration": 5,
    "start_time": "2022-12-12T19:57:36.353Z"
   },
   {
    "duration": 7,
    "start_time": "2022-12-12T19:57:37.863Z"
   },
   {
    "duration": 15,
    "start_time": "2022-12-12T19:57:38.430Z"
   },
   {
    "duration": 5,
    "start_time": "2022-12-12T19:58:21.698Z"
   },
   {
    "duration": 13,
    "start_time": "2022-12-12T19:58:23.169Z"
   },
   {
    "duration": 5,
    "start_time": "2022-12-12T19:59:16.138Z"
   },
   {
    "duration": 16,
    "start_time": "2022-12-12T19:59:19.259Z"
   },
   {
    "duration": 14,
    "start_time": "2022-12-12T19:59:34.779Z"
   },
   {
    "duration": 14,
    "start_time": "2022-12-12T19:59:41.770Z"
   },
   {
    "duration": 14,
    "start_time": "2022-12-12T19:59:53.037Z"
   },
   {
    "duration": 2,
    "start_time": "2022-12-12T20:00:24.072Z"
   },
   {
    "duration": 14,
    "start_time": "2022-12-12T20:00:31.423Z"
   },
   {
    "duration": 13,
    "start_time": "2022-12-12T20:01:58.334Z"
   },
   {
    "duration": 14,
    "start_time": "2022-12-12T20:02:46.925Z"
   },
   {
    "duration": 418,
    "start_time": "2022-12-13T07:29:05.587Z"
   },
   {
    "duration": 126,
    "start_time": "2022-12-13T07:29:06.007Z"
   },
   {
    "duration": 3,
    "start_time": "2022-12-13T07:29:06.134Z"
   },
   {
    "duration": 38,
    "start_time": "2022-12-13T07:29:06.139Z"
   },
   {
    "duration": 8,
    "start_time": "2022-12-13T07:29:09.261Z"
   },
   {
    "duration": 17,
    "start_time": "2022-12-13T07:32:28.986Z"
   },
   {
    "duration": 15,
    "start_time": "2022-12-13T07:37:43.123Z"
   },
   {
    "duration": 4,
    "start_time": "2022-12-13T08:05:55.241Z"
   },
   {
    "duration": 13,
    "start_time": "2022-12-13T08:06:14.909Z"
   },
   {
    "duration": 13,
    "start_time": "2022-12-13T08:07:01.841Z"
   },
   {
    "duration": 62,
    "start_time": "2022-12-13T08:08:50.613Z"
   },
   {
    "duration": 5,
    "start_time": "2022-12-13T08:09:08.041Z"
   },
   {
    "duration": 53,
    "start_time": "2022-12-13T08:09:14.613Z"
   },
   {
    "duration": 16,
    "start_time": "2022-12-13T08:09:17.452Z"
   },
   {
    "duration": 13,
    "start_time": "2022-12-13T08:09:21.293Z"
   },
   {
    "duration": 12,
    "start_time": "2022-12-13T08:10:28.802Z"
   },
   {
    "duration": 11,
    "start_time": "2022-12-13T08:10:45.822Z"
   },
   {
    "duration": 6,
    "start_time": "2022-12-13T08:11:03.782Z"
   },
   {
    "duration": 12,
    "start_time": "2022-12-13T08:11:10.189Z"
   },
   {
    "duration": 12,
    "start_time": "2022-12-13T08:11:16.540Z"
   },
   {
    "duration": 4,
    "start_time": "2022-12-13T08:15:38.004Z"
   },
   {
    "duration": 12,
    "start_time": "2022-12-13T08:15:41.022Z"
   },
   {
    "duration": 13,
    "start_time": "2022-12-13T08:15:49.066Z"
   },
   {
    "duration": 13,
    "start_time": "2022-12-13T08:16:18.609Z"
   },
   {
    "duration": 13,
    "start_time": "2022-12-13T08:16:25.643Z"
   },
   {
    "duration": 13,
    "start_time": "2022-12-13T08:16:33.759Z"
   },
   {
    "duration": 5,
    "start_time": "2022-12-13T08:16:46.848Z"
   },
   {
    "duration": 13,
    "start_time": "2022-12-13T08:16:49.439Z"
   },
   {
    "duration": 13,
    "start_time": "2022-12-13T08:17:31.554Z"
   },
   {
    "duration": 12,
    "start_time": "2022-12-13T08:17:52.084Z"
   },
   {
    "duration": 12,
    "start_time": "2022-12-13T08:17:55.491Z"
   },
   {
    "duration": 14,
    "start_time": "2022-12-13T08:17:59.983Z"
   },
   {
    "duration": 8,
    "start_time": "2022-12-13T08:18:33.039Z"
   },
   {
    "duration": 13,
    "start_time": "2022-12-13T08:18:33.970Z"
   },
   {
    "duration": 13,
    "start_time": "2022-12-13T08:18:37.290Z"
   },
   {
    "duration": 12,
    "start_time": "2022-12-13T08:19:33.158Z"
   },
   {
    "duration": 15,
    "start_time": "2022-12-13T08:19:35.686Z"
   },
   {
    "duration": 14,
    "start_time": "2022-12-13T08:19:42.337Z"
   },
   {
    "duration": 6,
    "start_time": "2022-12-13T08:25:39.127Z"
   },
   {
    "duration": 13,
    "start_time": "2022-12-13T08:25:42.341Z"
   },
   {
    "duration": 16,
    "start_time": "2022-12-13T08:25:47.933Z"
   },
   {
    "duration": 3,
    "start_time": "2022-12-13T08:26:00.221Z"
   },
   {
    "duration": 71,
    "start_time": "2022-12-13T08:26:00.225Z"
   },
   {
    "duration": 3,
    "start_time": "2022-12-13T08:26:00.298Z"
   },
   {
    "duration": 19,
    "start_time": "2022-12-13T08:26:00.303Z"
   },
   {
    "duration": 10,
    "start_time": "2022-12-13T08:26:00.324Z"
   },
   {
    "duration": 12,
    "start_time": "2022-12-13T08:26:00.335Z"
   },
   {
    "duration": 15,
    "start_time": "2022-12-13T08:26:00.420Z"
   },
   {
    "duration": 37,
    "start_time": "2022-12-13T08:26:00.436Z"
   },
   {
    "duration": 11,
    "start_time": "2022-12-13T08:29:34.451Z"
   },
   {
    "duration": 6,
    "start_time": "2022-12-13T08:31:36.387Z"
   },
   {
    "duration": 9,
    "start_time": "2022-12-13T08:32:51.899Z"
   },
   {
    "duration": 28,
    "start_time": "2022-12-13T08:33:11.396Z"
   },
   {
    "duration": 14,
    "start_time": "2022-12-13T08:33:20.422Z"
   },
   {
    "duration": 32,
    "start_time": "2022-12-13T08:33:37.497Z"
   },
   {
    "duration": 11,
    "start_time": "2022-12-13T08:34:21.984Z"
   },
   {
    "duration": 3,
    "start_time": "2022-12-13T08:36:04.127Z"
   },
   {
    "duration": 8,
    "start_time": "2022-12-13T08:36:10.102Z"
   },
   {
    "duration": 25,
    "start_time": "2022-12-13T08:36:29.701Z"
   },
   {
    "duration": 24,
    "start_time": "2022-12-13T08:44:08.323Z"
   },
   {
    "duration": 15,
    "start_time": "2022-12-13T08:44:58.883Z"
   },
   {
    "duration": 19,
    "start_time": "2022-12-13T08:46:06.089Z"
   },
   {
    "duration": 9,
    "start_time": "2022-12-13T09:16:11.725Z"
   },
   {
    "duration": 25,
    "start_time": "2022-12-13T09:16:49.934Z"
   },
   {
    "duration": 12,
    "start_time": "2022-12-13T09:17:07.720Z"
   },
   {
    "duration": 16,
    "start_time": "2022-12-13T09:22:05.614Z"
   },
   {
    "duration": 10,
    "start_time": "2022-12-13T09:31:05.166Z"
   },
   {
    "duration": 66,
    "start_time": "2022-12-13T10:14:17.679Z"
   },
   {
    "duration": 41,
    "start_time": "2022-12-13T10:14:46.114Z"
   },
   {
    "duration": 11,
    "start_time": "2022-12-13T10:19:18.448Z"
   },
   {
    "duration": 8,
    "start_time": "2022-12-13T10:20:26.196Z"
   },
   {
    "duration": 19,
    "start_time": "2022-12-13T10:24:23.774Z"
   },
   {
    "duration": 8,
    "start_time": "2022-12-13T11:33:58.341Z"
   },
   {
    "duration": 3,
    "start_time": "2022-12-13T11:34:03.361Z"
   },
   {
    "duration": 70,
    "start_time": "2022-12-13T11:34:03.365Z"
   },
   {
    "duration": 3,
    "start_time": "2022-12-13T11:34:03.436Z"
   },
   {
    "duration": 17,
    "start_time": "2022-12-13T11:34:03.441Z"
   },
   {
    "duration": 10,
    "start_time": "2022-12-13T11:34:03.459Z"
   },
   {
    "duration": 20,
    "start_time": "2022-12-13T11:34:03.575Z"
   },
   {
    "duration": 7,
    "start_time": "2022-12-13T11:34:06.680Z"
   },
   {
    "duration": 7,
    "start_time": "2022-12-13T11:36:14.296Z"
   },
   {
    "duration": 6,
    "start_time": "2022-12-13T11:36:36.259Z"
   },
   {
    "duration": 7,
    "start_time": "2022-12-13T11:37:24.074Z"
   },
   {
    "duration": 9,
    "start_time": "2022-12-13T11:37:51.413Z"
   },
   {
    "duration": 49,
    "start_time": "2022-12-13T11:39:24.711Z"
   },
   {
    "duration": 9,
    "start_time": "2022-12-13T11:39:32.165Z"
   },
   {
    "duration": 0,
    "start_time": "2022-12-13T12:46:11.580Z"
   },
   {
    "duration": 18,
    "start_time": "2022-12-13T12:46:13.129Z"
   },
   {
    "duration": 41,
    "start_time": "2022-12-13T12:49:58.277Z"
   },
   {
    "duration": 8,
    "start_time": "2022-12-13T12:50:23.603Z"
   },
   {
    "duration": 8,
    "start_time": "2022-12-13T12:51:23.253Z"
   },
   {
    "duration": 11,
    "start_time": "2022-12-13T12:51:59.611Z"
   },
   {
    "duration": 46,
    "start_time": "2022-12-13T12:54:23.698Z"
   },
   {
    "duration": 14,
    "start_time": "2022-12-13T12:54:40.264Z"
   },
   {
    "duration": 47,
    "start_time": "2022-12-13T12:57:26.143Z"
   },
   {
    "duration": 12,
    "start_time": "2022-12-13T12:57:57.504Z"
   },
   {
    "duration": 14,
    "start_time": "2022-12-13T13:00:17.595Z"
   },
   {
    "duration": 17,
    "start_time": "2022-12-13T14:19:06.050Z"
   },
   {
    "duration": 10,
    "start_time": "2022-12-13T17:42:49.011Z"
   },
   {
    "duration": 9,
    "start_time": "2022-12-13T17:43:58.360Z"
   },
   {
    "duration": 6,
    "start_time": "2022-12-13T17:44:03.983Z"
   },
   {
    "duration": 17,
    "start_time": "2022-12-13T18:33:28.397Z"
   },
   {
    "duration": 349,
    "start_time": "2022-12-13T18:35:17.212Z"
   },
   {
    "duration": 8,
    "start_time": "2022-12-13T18:37:38.653Z"
   },
   {
    "duration": 2,
    "start_time": "2022-12-13T18:45:51.485Z"
   },
   {
    "duration": 13,
    "start_time": "2022-12-13T18:45:57.132Z"
   },
   {
    "duration": 4,
    "start_time": "2022-12-13T18:47:11.818Z"
   },
   {
    "duration": 5,
    "start_time": "2022-12-13T18:47:22.656Z"
   },
   {
    "duration": 7,
    "start_time": "2022-12-13T18:47:56.926Z"
   },
   {
    "duration": 8,
    "start_time": "2022-12-13T18:49:08.407Z"
   },
   {
    "duration": 14,
    "start_time": "2022-12-13T18:50:13.407Z"
   },
   {
    "duration": 17,
    "start_time": "2022-12-13T18:57:53.567Z"
   },
   {
    "duration": 4,
    "start_time": "2022-12-13T19:02:36.703Z"
   },
   {
    "duration": 16,
    "start_time": "2022-12-13T19:03:04.511Z"
   },
   {
    "duration": 5,
    "start_time": "2022-12-13T19:16:39.300Z"
   },
   {
    "duration": 6,
    "start_time": "2022-12-13T19:16:43.329Z"
   },
   {
    "duration": 5,
    "start_time": "2022-12-13T19:19:19.781Z"
   },
   {
    "duration": 5,
    "start_time": "2022-12-13T19:19:22.302Z"
   },
   {
    "duration": 13,
    "start_time": "2022-12-13T19:19:27.079Z"
   },
   {
    "duration": 380,
    "start_time": "2022-12-14T16:06:06.796Z"
   },
   {
    "duration": 211,
    "start_time": "2022-12-14T16:06:07.178Z"
   },
   {
    "duration": 3,
    "start_time": "2022-12-14T16:06:07.391Z"
   },
   {
    "duration": 19,
    "start_time": "2022-12-14T16:06:07.395Z"
   },
   {
    "duration": 8,
    "start_time": "2022-12-14T16:06:07.416Z"
   },
   {
    "duration": 11,
    "start_time": "2022-12-14T16:06:07.425Z"
   },
   {
    "duration": 68,
    "start_time": "2022-12-14T16:06:13.780Z"
   },
   {
    "duration": 11,
    "start_time": "2022-12-14T16:06:26.623Z"
   },
   {
    "duration": 4,
    "start_time": "2022-12-14T16:06:54.165Z"
   },
   {
    "duration": 13,
    "start_time": "2022-12-14T16:07:21.999Z"
   },
   {
    "duration": 17,
    "start_time": "2022-12-14T16:07:53.969Z"
   },
   {
    "duration": 16,
    "start_time": "2022-12-14T16:08:37.923Z"
   },
   {
    "duration": 14,
    "start_time": "2022-12-14T16:08:54.353Z"
   },
   {
    "duration": 6,
    "start_time": "2022-12-14T16:11:01.521Z"
   },
   {
    "duration": 10,
    "start_time": "2022-12-14T16:11:06.132Z"
   },
   {
    "duration": 14,
    "start_time": "2022-12-14T16:12:37.936Z"
   },
   {
    "duration": 8,
    "start_time": "2022-12-14T16:13:20.570Z"
   },
   {
    "duration": 106,
    "start_time": "2022-12-14T16:30:07.519Z"
   },
   {
    "duration": 6,
    "start_time": "2022-12-14T16:30:37.592Z"
   },
   {
    "duration": 3,
    "start_time": "2022-12-14T16:32:06.931Z"
   },
   {
    "duration": 66,
    "start_time": "2022-12-14T16:32:06.941Z"
   },
   {
    "duration": 3,
    "start_time": "2022-12-14T16:32:07.036Z"
   },
   {
    "duration": 14,
    "start_time": "2022-12-14T16:32:07.047Z"
   },
   {
    "duration": 10,
    "start_time": "2022-12-14T16:32:07.063Z"
   },
   {
    "duration": 14,
    "start_time": "2022-12-14T16:32:07.075Z"
   },
   {
    "duration": 18,
    "start_time": "2022-12-14T16:32:07.092Z"
   },
   {
    "duration": 13,
    "start_time": "2022-12-14T16:32:07.112Z"
   },
   {
    "duration": 13,
    "start_time": "2022-12-14T16:32:07.126Z"
   },
   {
    "duration": 73,
    "start_time": "2022-12-14T16:32:07.140Z"
   },
   {
    "duration": 0,
    "start_time": "2022-12-14T16:32:07.215Z"
   },
   {
    "duration": 0,
    "start_time": "2022-12-14T16:32:07.216Z"
   },
   {
    "duration": 0,
    "start_time": "2022-12-14T16:32:07.217Z"
   },
   {
    "duration": 0,
    "start_time": "2022-12-14T16:32:07.218Z"
   },
   {
    "duration": 0,
    "start_time": "2022-12-14T16:32:07.219Z"
   },
   {
    "duration": 7,
    "start_time": "2022-12-14T16:32:43.341Z"
   },
   {
    "duration": 13,
    "start_time": "2022-12-14T16:32:48.053Z"
   },
   {
    "duration": 9,
    "start_time": "2022-12-14T16:32:52.258Z"
   },
   {
    "duration": 15,
    "start_time": "2022-12-14T16:32:57.345Z"
   },
   {
    "duration": 9,
    "start_time": "2022-12-14T16:34:56.494Z"
   },
   {
    "duration": 14,
    "start_time": "2022-12-14T16:35:10.305Z"
   },
   {
    "duration": 14,
    "start_time": "2022-12-14T16:35:18.823Z"
   },
   {
    "duration": 16,
    "start_time": "2022-12-14T16:37:38.229Z"
   },
   {
    "duration": 15,
    "start_time": "2022-12-14T16:37:44.990Z"
   },
   {
    "duration": 62,
    "start_time": "2022-12-14T16:37:55.747Z"
   },
   {
    "duration": 16,
    "start_time": "2022-12-14T16:38:04.786Z"
   },
   {
    "duration": 14,
    "start_time": "2022-12-14T16:38:18.243Z"
   },
   {
    "duration": 16,
    "start_time": "2022-12-14T16:38:24.892Z"
   },
   {
    "duration": 24,
    "start_time": "2022-12-14T16:39:30.986Z"
   },
   {
    "duration": 22,
    "start_time": "2022-12-14T16:39:34.962Z"
   },
   {
    "duration": 654,
    "start_time": "2022-12-14T16:41:11.448Z"
   },
   {
    "duration": 18,
    "start_time": "2022-12-14T16:41:52.196Z"
   },
   {
    "duration": 13,
    "start_time": "2022-12-14T16:42:06.552Z"
   },
   {
    "duration": 19,
    "start_time": "2022-12-14T16:42:39.433Z"
   },
   {
    "duration": 14,
    "start_time": "2022-12-14T16:42:45.859Z"
   },
   {
    "duration": 80,
    "start_time": "2022-12-14T16:43:05.638Z"
   },
   {
    "duration": 15,
    "start_time": "2022-12-14T16:43:15.987Z"
   },
   {
    "duration": 2,
    "start_time": "2022-12-14T16:43:41.419Z"
   },
   {
    "duration": 74,
    "start_time": "2022-12-14T16:43:41.428Z"
   },
   {
    "duration": 3,
    "start_time": "2022-12-14T16:43:41.504Z"
   },
   {
    "duration": 50,
    "start_time": "2022-12-14T16:43:41.509Z"
   },
   {
    "duration": 32,
    "start_time": "2022-12-14T16:43:41.561Z"
   },
   {
    "duration": 22,
    "start_time": "2022-12-14T16:43:41.595Z"
   },
   {
    "duration": 12,
    "start_time": "2022-12-14T16:43:48.077Z"
   },
   {
    "duration": 15,
    "start_time": "2022-12-14T16:43:53.121Z"
   },
   {
    "duration": 24,
    "start_time": "2022-12-14T16:45:16.372Z"
   },
   {
    "duration": 12,
    "start_time": "2022-12-14T16:45:22.171Z"
   },
   {
    "duration": 15,
    "start_time": "2022-12-14T16:45:54.076Z"
   },
   {
    "duration": 830,
    "start_time": "2022-12-14T16:46:10.480Z"
   },
   {
    "duration": 843,
    "start_time": "2022-12-14T16:46:44.029Z"
   },
   {
    "duration": 1683,
    "start_time": "2022-12-14T16:47:09.939Z"
   },
   {
    "duration": 69,
    "start_time": "2022-12-14T16:48:33.405Z"
   },
   {
    "duration": 583,
    "start_time": "2022-12-14T16:50:24.733Z"
   },
   {
    "duration": 1758,
    "start_time": "2022-12-14T16:51:04.222Z"
   },
   {
    "duration": 317,
    "start_time": "2022-12-14T16:52:21.243Z"
   },
   {
    "duration": 297,
    "start_time": "2022-12-14T16:52:39.121Z"
   },
   {
    "duration": 15,
    "start_time": "2022-12-14T16:53:01.663Z"
   },
   {
    "duration": 21,
    "start_time": "2022-12-14T16:53:14.708Z"
   },
   {
    "duration": 2,
    "start_time": "2022-12-14T16:53:48.157Z"
   },
   {
    "duration": 92,
    "start_time": "2022-12-14T16:53:48.167Z"
   },
   {
    "duration": 3,
    "start_time": "2022-12-14T16:53:48.261Z"
   },
   {
    "duration": 50,
    "start_time": "2022-12-14T16:53:48.266Z"
   },
   {
    "duration": 25,
    "start_time": "2022-12-14T16:53:48.318Z"
   },
   {
    "duration": 30,
    "start_time": "2022-12-14T16:53:48.344Z"
   },
   {
    "duration": 14,
    "start_time": "2022-12-14T16:53:52.013Z"
   },
   {
    "duration": 14,
    "start_time": "2022-12-14T16:53:59.835Z"
   },
   {
    "duration": 12,
    "start_time": "2022-12-14T16:54:05.482Z"
   },
   {
    "duration": 3,
    "start_time": "2022-12-14T16:54:20.139Z"
   },
   {
    "duration": 7,
    "start_time": "2022-12-14T16:55:25.865Z"
   },
   {
    "duration": 9,
    "start_time": "2022-12-14T16:59:03.403Z"
   },
   {
    "duration": 3,
    "start_time": "2022-12-14T16:59:15.676Z"
   },
   {
    "duration": 65,
    "start_time": "2022-12-14T16:59:15.700Z"
   },
   {
    "duration": 3,
    "start_time": "2022-12-14T16:59:15.802Z"
   },
   {
    "duration": 16,
    "start_time": "2022-12-14T16:59:15.807Z"
   },
   {
    "duration": 8,
    "start_time": "2022-12-14T16:59:15.824Z"
   },
   {
    "duration": 10,
    "start_time": "2022-12-14T16:59:15.834Z"
   },
   {
    "duration": 8,
    "start_time": "2022-12-14T16:59:15.846Z"
   },
   {
    "duration": 16,
    "start_time": "2022-12-14T16:59:15.856Z"
   },
   {
    "duration": 18,
    "start_time": "2022-12-14T16:59:15.873Z"
   },
   {
    "duration": 5,
    "start_time": "2022-12-14T16:59:15.893Z"
   },
   {
    "duration": 11,
    "start_time": "2022-12-14T16:59:15.900Z"
   },
   {
    "duration": 7,
    "start_time": "2022-12-14T16:59:15.913Z"
   },
   {
    "duration": 12,
    "start_time": "2022-12-14T16:59:15.922Z"
   },
   {
    "duration": 8,
    "start_time": "2022-12-14T16:59:15.936Z"
   },
   {
    "duration": 37,
    "start_time": "2022-12-14T16:59:15.945Z"
   },
   {
    "duration": 7,
    "start_time": "2022-12-14T16:59:21.791Z"
   },
   {
    "duration": 9,
    "start_time": "2022-12-14T17:01:56.501Z"
   },
   {
    "duration": 7,
    "start_time": "2022-12-14T17:02:35.116Z"
   },
   {
    "duration": 4,
    "start_time": "2022-12-14T17:08:33.828Z"
   },
   {
    "duration": 10,
    "start_time": "2022-12-14T17:08:45.075Z"
   },
   {
    "duration": 8,
    "start_time": "2022-12-14T17:09:42.397Z"
   },
   {
    "duration": 10,
    "start_time": "2022-12-14T17:13:55.157Z"
   },
   {
    "duration": 9,
    "start_time": "2022-12-14T17:14:11.677Z"
   },
   {
    "duration": 8,
    "start_time": "2022-12-14T18:05:42.846Z"
   },
   {
    "duration": 8,
    "start_time": "2022-12-14T18:09:19.646Z"
   },
   {
    "duration": 8,
    "start_time": "2022-12-14T18:09:27.205Z"
   },
   {
    "duration": 7,
    "start_time": "2022-12-14T18:11:04.865Z"
   },
   {
    "duration": 7,
    "start_time": "2022-12-14T18:11:10.241Z"
   },
   {
    "duration": 8,
    "start_time": "2022-12-14T18:11:13.529Z"
   },
   {
    "duration": 882,
    "start_time": "2022-12-14T18:51:05.217Z"
   },
   {
    "duration": 17,
    "start_time": "2022-12-14T18:52:05.661Z"
   },
   {
    "duration": 179,
    "start_time": "2022-12-14T18:53:47.619Z"
   },
   {
    "duration": 139,
    "start_time": "2022-12-14T18:53:57.090Z"
   },
   {
    "duration": 174,
    "start_time": "2022-12-14T18:54:59.266Z"
   },
   {
    "duration": 158,
    "start_time": "2022-12-14T18:55:04.239Z"
   },
   {
    "duration": 3,
    "start_time": "2022-12-14T19:14:50.089Z"
   },
   {
    "duration": 13,
    "start_time": "2022-12-14T19:32:28.199Z"
   },
   {
    "duration": 3,
    "start_time": "2022-12-14T19:35:17.229Z"
   },
   {
    "duration": 44,
    "start_time": "2022-12-14T19:35:17.296Z"
   },
   {
    "duration": 3,
    "start_time": "2022-12-14T19:35:33.819Z"
   },
   {
    "duration": 84,
    "start_time": "2022-12-14T19:35:33.844Z"
   },
   {
    "duration": 5,
    "start_time": "2022-12-14T19:35:33.931Z"
   },
   {
    "duration": 59,
    "start_time": "2022-12-14T19:35:33.939Z"
   },
   {
    "duration": 24,
    "start_time": "2022-12-14T19:35:34.001Z"
   },
   {
    "duration": 25,
    "start_time": "2022-12-14T19:35:34.027Z"
   },
   {
    "duration": 25,
    "start_time": "2022-12-14T19:35:34.054Z"
   },
   {
    "duration": 35,
    "start_time": "2022-12-14T19:35:34.082Z"
   },
   {
    "duration": 51,
    "start_time": "2022-12-14T19:35:34.120Z"
   },
   {
    "duration": 24,
    "start_time": "2022-12-14T19:35:34.174Z"
   },
   {
    "duration": 30,
    "start_time": "2022-12-14T19:35:34.200Z"
   },
   {
    "duration": 23,
    "start_time": "2022-12-14T19:35:34.232Z"
   },
   {
    "duration": 30,
    "start_time": "2022-12-14T19:35:34.257Z"
   },
   {
    "duration": 10,
    "start_time": "2022-12-14T19:35:34.289Z"
   },
   {
    "duration": 20,
    "start_time": "2022-12-14T19:35:34.302Z"
   },
   {
    "duration": 24,
    "start_time": "2022-12-14T19:35:34.324Z"
   },
   {
    "duration": 29,
    "start_time": "2022-12-14T19:35:34.351Z"
   },
   {
    "duration": 162,
    "start_time": "2022-12-14T19:35:34.381Z"
   },
   {
    "duration": 9,
    "start_time": "2022-12-14T19:35:34.544Z"
   },
   {
    "duration": 32,
    "start_time": "2022-12-14T19:35:34.555Z"
   },
   {
    "duration": 27,
    "start_time": "2022-12-14T19:35:34.590Z"
   },
   {
    "duration": 22,
    "start_time": "2022-12-14T19:35:34.619Z"
   },
   {
    "duration": 30,
    "start_time": "2022-12-14T19:35:34.643Z"
   },
   {
    "duration": 18,
    "start_time": "2022-12-14T19:35:34.674Z"
   },
   {
    "duration": 238,
    "start_time": "2022-12-14T19:35:34.693Z"
   },
   {
    "duration": 162,
    "start_time": "2022-12-14T19:35:34.932Z"
   },
   {
    "duration": 159,
    "start_time": "2022-12-14T19:35:35.775Z"
   },
   {
    "duration": 3,
    "start_time": "2022-12-14T19:35:35.936Z"
   },
   {
    "duration": 48,
    "start_time": "2022-12-14T19:35:35.941Z"
   },
   {
    "duration": 11,
    "start_time": "2022-12-14T19:35:41.970Z"
   },
   {
    "duration": 9,
    "start_time": "2022-12-14T19:35:56.036Z"
   },
   {
    "duration": 9,
    "start_time": "2022-12-14T19:40:34.868Z"
   },
   {
    "duration": 9,
    "start_time": "2022-12-14T19:41:12.930Z"
   },
   {
    "duration": 230,
    "start_time": "2022-12-14T19:42:59.779Z"
   },
   {
    "duration": 1411,
    "start_time": "2022-12-15T19:37:07.441Z"
   },
   {
    "duration": 208,
    "start_time": "2022-12-15T19:37:08.854Z"
   },
   {
    "duration": 3,
    "start_time": "2022-12-15T19:37:09.064Z"
   },
   {
    "duration": 30,
    "start_time": "2022-12-15T19:37:09.068Z"
   },
   {
    "duration": 22,
    "start_time": "2022-12-15T19:37:09.100Z"
   },
   {
    "duration": 30,
    "start_time": "2022-12-15T19:37:09.123Z"
   },
   {
    "duration": 24,
    "start_time": "2022-12-15T19:37:09.155Z"
   },
   {
    "duration": 31,
    "start_time": "2022-12-15T19:37:09.180Z"
   },
   {
    "duration": 58,
    "start_time": "2022-12-15T19:37:09.213Z"
   },
   {
    "duration": 15,
    "start_time": "2022-12-15T19:37:09.273Z"
   },
   {
    "duration": 34,
    "start_time": "2022-12-15T19:37:09.291Z"
   },
   {
    "duration": 30,
    "start_time": "2022-12-15T19:37:09.330Z"
   },
   {
    "duration": 18,
    "start_time": "2022-12-15T19:37:09.362Z"
   },
   {
    "duration": 11,
    "start_time": "2022-12-15T19:37:09.384Z"
   },
   {
    "duration": 22,
    "start_time": "2022-12-15T19:37:09.398Z"
   },
   {
    "duration": 21,
    "start_time": "2022-12-15T19:37:09.422Z"
   },
   {
    "duration": 25,
    "start_time": "2022-12-15T19:37:09.446Z"
   },
   {
    "duration": 77,
    "start_time": "2022-12-15T19:40:00.325Z"
   },
   {
    "duration": 16,
    "start_time": "2022-12-15T19:40:17.741Z"
   },
   {
    "duration": 14,
    "start_time": "2022-12-15T19:40:41.164Z"
   },
   {
    "duration": 121,
    "start_time": "2022-12-15T19:41:40.059Z"
   },
   {
    "duration": 6356,
    "start_time": "2022-12-15T19:42:44.554Z"
   },
   {
    "duration": 3186,
    "start_time": "2022-12-15T19:43:34.386Z"
   },
   {
    "duration": 1410,
    "start_time": "2022-12-15T19:44:29.655Z"
   },
   {
    "duration": 156,
    "start_time": "2022-12-15T19:44:52.725Z"
   },
   {
    "duration": 10,
    "start_time": "2022-12-15T19:53:00.814Z"
   },
   {
    "duration": 24,
    "start_time": "2022-12-15T19:53:22.122Z"
   },
   {
    "duration": 2,
    "start_time": "2022-12-15T19:53:56.846Z"
   },
   {
    "duration": 2,
    "start_time": "2022-12-15T19:54:39.516Z"
   },
   {
    "duration": 24,
    "start_time": "2022-12-15T19:54:48.815Z"
   },
   {
    "duration": 6,
    "start_time": "2022-12-15T20:02:33.783Z"
   },
   {
    "duration": 11,
    "start_time": "2022-12-15T20:02:44.056Z"
   },
   {
    "duration": 288,
    "start_time": "2022-12-15T20:09:40.776Z"
   },
   {
    "duration": 274,
    "start_time": "2022-12-15T20:09:56.804Z"
   },
   {
    "duration": 5,
    "start_time": "2022-12-15T20:34:31.977Z"
   },
   {
    "duration": 9,
    "start_time": "2022-12-15T20:34:37.978Z"
   },
   {
    "duration": 7,
    "start_time": "2022-12-15T20:36:46.377Z"
   },
   {
    "duration": 12,
    "start_time": "2022-12-15T20:37:24.594Z"
   },
   {
    "duration": 26,
    "start_time": "2022-12-15T20:40:59.059Z"
   },
   {
    "duration": 11,
    "start_time": "2022-12-15T20:41:16.227Z"
   },
   {
    "duration": 24,
    "start_time": "2022-12-15T20:43:08.649Z"
   },
   {
    "duration": 8,
    "start_time": "2022-12-15T20:44:51.135Z"
   },
   {
    "duration": 80,
    "start_time": "2022-12-15T20:45:32.732Z"
   },
   {
    "duration": 28,
    "start_time": "2022-12-15T20:45:49.402Z"
   },
   {
    "duration": 1141,
    "start_time": "2022-12-15T20:47:42.317Z"
   },
   {
    "duration": 1076,
    "start_time": "2022-12-15T20:47:58.166Z"
   },
   {
    "duration": 4,
    "start_time": "2022-12-15T20:48:23.664Z"
   },
   {
    "duration": 31,
    "start_time": "2022-12-15T20:49:06.067Z"
   },
   {
    "duration": 3,
    "start_time": "2022-12-15T20:49:23.796Z"
   },
   {
    "duration": 68,
    "start_time": "2022-12-15T20:49:23.801Z"
   },
   {
    "duration": 3,
    "start_time": "2022-12-15T20:49:23.871Z"
   },
   {
    "duration": 18,
    "start_time": "2022-12-15T20:49:23.876Z"
   },
   {
    "duration": 9,
    "start_time": "2022-12-15T20:49:23.896Z"
   },
   {
    "duration": 24,
    "start_time": "2022-12-15T20:49:23.906Z"
   },
   {
    "duration": 4,
    "start_time": "2022-12-15T20:49:23.932Z"
   },
   {
    "duration": 21,
    "start_time": "2022-12-15T20:49:23.938Z"
   },
   {
    "duration": 19,
    "start_time": "2022-12-15T20:49:23.960Z"
   },
   {
    "duration": 7,
    "start_time": "2022-12-15T20:49:23.981Z"
   },
   {
    "duration": 37,
    "start_time": "2022-12-15T20:49:23.990Z"
   },
   {
    "duration": 8,
    "start_time": "2022-12-15T20:49:24.029Z"
   },
   {
    "duration": 16,
    "start_time": "2022-12-15T20:49:24.040Z"
   },
   {
    "duration": 15,
    "start_time": "2022-12-15T20:49:24.058Z"
   },
   {
    "duration": 19,
    "start_time": "2022-12-15T20:49:24.075Z"
   },
   {
    "duration": 6,
    "start_time": "2022-12-15T20:49:24.095Z"
   },
   {
    "duration": 27,
    "start_time": "2022-12-15T20:49:24.103Z"
   },
   {
    "duration": 4,
    "start_time": "2022-12-15T20:49:24.132Z"
   },
   {
    "duration": 37,
    "start_time": "2022-12-15T20:49:52.776Z"
   },
   {
    "duration": 39,
    "start_time": "2022-12-15T20:51:36.310Z"
   },
   {
    "duration": 41,
    "start_time": "2022-12-15T20:51:45.297Z"
   },
   {
    "duration": 12,
    "start_time": "2022-12-15T20:52:02.204Z"
   },
   {
    "duration": 4,
    "start_time": "2022-12-15T20:53:11.656Z"
   },
   {
    "duration": 3,
    "start_time": "2022-12-15T20:53:27.296Z"
   },
   {
    "duration": 33,
    "start_time": "2022-12-15T20:54:59.806Z"
   },
   {
    "duration": 8,
    "start_time": "2022-12-15T20:56:02.837Z"
   },
   {
    "duration": 1131,
    "start_time": "2022-12-15T20:56:34.756Z"
   },
   {
    "duration": 1154,
    "start_time": "2022-12-15T20:57:04.397Z"
   },
   {
    "duration": 1071,
    "start_time": "2022-12-15T20:57:22.805Z"
   },
   {
    "duration": 1118,
    "start_time": "2022-12-15T20:59:22.676Z"
   },
   {
    "duration": 3,
    "start_time": "2022-12-15T20:59:42.307Z"
   },
   {
    "duration": 4,
    "start_time": "2022-12-15T21:00:01.409Z"
   },
   {
    "duration": 27,
    "start_time": "2022-12-15T21:00:36.476Z"
   },
   {
    "duration": 3,
    "start_time": "2022-12-15T21:01:25.986Z"
   },
   {
    "duration": 27,
    "start_time": "2022-12-15T21:02:07.326Z"
   },
   {
    "duration": 29,
    "start_time": "2022-12-15T21:02:57.459Z"
   },
   {
    "duration": 8,
    "start_time": "2022-12-15T21:05:28.758Z"
   },
   {
    "duration": 4,
    "start_time": "2022-12-15T21:05:50.004Z"
   },
   {
    "duration": 9,
    "start_time": "2022-12-15T21:06:07.857Z"
   },
   {
    "duration": 32,
    "start_time": "2022-12-15T21:06:32.626Z"
   },
   {
    "duration": 75,
    "start_time": "2022-12-15T21:07:19.809Z"
   },
   {
    "duration": 11,
    "start_time": "2022-12-15T21:07:50.368Z"
   },
   {
    "duration": 92,
    "start_time": "2022-12-15T21:08:35.786Z"
   },
   {
    "duration": 23,
    "start_time": "2022-12-15T21:09:06.918Z"
   },
   {
    "duration": 28,
    "start_time": "2022-12-15T21:09:36.825Z"
   },
   {
    "duration": 23,
    "start_time": "2022-12-15T21:10:32.839Z"
   },
   {
    "duration": 128,
    "start_time": "2022-12-15T21:13:02.517Z"
   },
   {
    "duration": 8,
    "start_time": "2022-12-15T21:23:00.595Z"
   },
   {
    "duration": 120,
    "start_time": "2022-12-15T21:23:10.136Z"
   },
   {
    "duration": 25,
    "start_time": "2022-12-15T21:24:36.734Z"
   },
   {
    "duration": 31,
    "start_time": "2022-12-15T21:24:55.995Z"
   },
   {
    "duration": 36,
    "start_time": "2022-12-15T21:25:21.524Z"
   },
   {
    "duration": 25,
    "start_time": "2022-12-15T21:26:08.296Z"
   },
   {
    "duration": 66,
    "start_time": "2022-12-15T21:26:37.989Z"
   },
   {
    "duration": 1017,
    "start_time": "2022-12-15T21:28:06.253Z"
   },
   {
    "duration": 1080,
    "start_time": "2022-12-15T21:28:41.885Z"
   },
   {
    "duration": 1083,
    "start_time": "2022-12-15T21:29:10.283Z"
   },
   {
    "duration": 1099,
    "start_time": "2022-12-15T21:29:22.443Z"
   },
   {
    "duration": 1092,
    "start_time": "2022-12-15T21:29:53.953Z"
   },
   {
    "duration": 1269,
    "start_time": "2022-12-15T21:30:32.634Z"
   },
   {
    "duration": 1124,
    "start_time": "2022-12-15T21:33:27.726Z"
   },
   {
    "duration": 1140,
    "start_time": "2022-12-15T21:33:55.317Z"
   },
   {
    "duration": 4,
    "start_time": "2022-12-15T21:34:08.706Z"
   },
   {
    "duration": 1497,
    "start_time": "2022-12-16T07:33:01.563Z"
   },
   {
    "duration": 206,
    "start_time": "2022-12-16T07:33:03.062Z"
   },
   {
    "duration": 4,
    "start_time": "2022-12-16T07:33:03.269Z"
   },
   {
    "duration": 22,
    "start_time": "2022-12-16T07:33:03.276Z"
   },
   {
    "duration": 13,
    "start_time": "2022-12-16T07:33:03.300Z"
   },
   {
    "duration": 18,
    "start_time": "2022-12-16T07:33:03.314Z"
   },
   {
    "duration": 6,
    "start_time": "2022-12-16T07:33:03.334Z"
   },
   {
    "duration": 18,
    "start_time": "2022-12-16T07:33:03.342Z"
   },
   {
    "duration": 20,
    "start_time": "2022-12-16T07:33:03.363Z"
   },
   {
    "duration": 17,
    "start_time": "2022-12-16T07:33:03.385Z"
   },
   {
    "duration": 8,
    "start_time": "2022-12-16T07:33:03.404Z"
   },
   {
    "duration": 18,
    "start_time": "2022-12-16T07:33:03.414Z"
   },
   {
    "duration": 22,
    "start_time": "2022-12-16T07:33:03.433Z"
   },
   {
    "duration": 24,
    "start_time": "2022-12-16T07:33:03.458Z"
   },
   {
    "duration": 10,
    "start_time": "2022-12-16T07:33:03.484Z"
   },
   {
    "duration": 5,
    "start_time": "2022-12-16T07:33:03.496Z"
   },
   {
    "duration": 8,
    "start_time": "2022-12-16T07:33:10.047Z"
   },
   {
    "duration": 26,
    "start_time": "2022-12-16T07:33:32.499Z"
   },
   {
    "duration": 1062,
    "start_time": "2022-12-16T07:34:09.354Z"
   },
   {
    "duration": 7,
    "start_time": "2022-12-16T07:35:19.337Z"
   },
   {
    "duration": 8,
    "start_time": "2022-12-16T07:58:14.735Z"
   },
   {
    "duration": 122,
    "start_time": "2022-12-16T07:58:56.085Z"
   },
   {
    "duration": 232,
    "start_time": "2022-12-16T08:01:25.158Z"
   },
   {
    "duration": 7,
    "start_time": "2022-12-16T08:01:33.875Z"
   },
   {
    "duration": 96,
    "start_time": "2022-12-16T08:24:25.165Z"
   },
   {
    "duration": 3382,
    "start_time": "2022-12-16T08:24:47.920Z"
   },
   {
    "duration": 3367,
    "start_time": "2022-12-16T08:25:49.889Z"
   },
   {
    "duration": 10,
    "start_time": "2022-12-16T08:36:48.445Z"
   },
   {
    "duration": 23,
    "start_time": "2022-12-16T08:36:57.253Z"
   },
   {
    "duration": 450,
    "start_time": "2022-12-16T08:39:25.593Z"
   },
   {
    "duration": 531,
    "start_time": "2022-12-16T08:42:54.828Z"
   },
   {
    "duration": 961,
    "start_time": "2022-12-16T08:44:48.779Z"
   },
   {
    "duration": 337,
    "start_time": "2022-12-16T08:45:26.257Z"
   },
   {
    "duration": 387,
    "start_time": "2022-12-16T08:48:31.009Z"
   },
   {
    "duration": 334,
    "start_time": "2022-12-16T08:50:16.127Z"
   },
   {
    "duration": 487,
    "start_time": "2022-12-16T08:50:25.186Z"
   },
   {
    "duration": 9,
    "start_time": "2022-12-16T08:56:09.297Z"
   },
   {
    "duration": 357,
    "start_time": "2022-12-16T08:56:42.381Z"
   },
   {
    "duration": 13,
    "start_time": "2022-12-16T08:56:53.118Z"
   },
   {
    "duration": 11,
    "start_time": "2022-12-16T08:58:35.020Z"
   },
   {
    "duration": 32,
    "start_time": "2022-12-16T09:02:47.507Z"
   },
   {
    "duration": 15,
    "start_time": "2022-12-16T09:03:13.834Z"
   },
   {
    "duration": 11,
    "start_time": "2022-12-16T09:04:27.375Z"
   },
   {
    "duration": 12,
    "start_time": "2022-12-16T09:07:23.375Z"
   },
   {
    "duration": 14,
    "start_time": "2022-12-16T09:07:56.915Z"
   },
   {
    "duration": 26,
    "start_time": "2022-12-16T09:08:50.031Z"
   },
   {
    "duration": 27,
    "start_time": "2022-12-16T09:09:03.543Z"
   },
   {
    "duration": 26,
    "start_time": "2022-12-16T09:12:45.634Z"
   },
   {
    "duration": 12,
    "start_time": "2022-12-16T09:16:20.592Z"
   },
   {
    "duration": 10,
    "start_time": "2022-12-16T09:16:52.295Z"
   },
   {
    "duration": 11,
    "start_time": "2022-12-16T09:17:01.625Z"
   },
   {
    "duration": 25,
    "start_time": "2022-12-16T09:17:38.247Z"
   },
   {
    "duration": 48,
    "start_time": "2022-12-16T16:36:13.520Z"
   },
   {
    "duration": 1300,
    "start_time": "2022-12-16T16:36:20.997Z"
   },
   {
    "duration": 226,
    "start_time": "2022-12-16T16:36:22.299Z"
   },
   {
    "duration": 3,
    "start_time": "2022-12-16T16:36:22.527Z"
   },
   {
    "duration": 20,
    "start_time": "2022-12-16T16:36:22.532Z"
   },
   {
    "duration": 10,
    "start_time": "2022-12-16T16:36:22.553Z"
   },
   {
    "duration": 16,
    "start_time": "2022-12-16T16:36:22.564Z"
   },
   {
    "duration": 8,
    "start_time": "2022-12-16T16:36:22.581Z"
   },
   {
    "duration": 26,
    "start_time": "2022-12-16T16:36:22.591Z"
   },
   {
    "duration": 13,
    "start_time": "2022-12-16T16:36:22.619Z"
   },
   {
    "duration": 17,
    "start_time": "2022-12-16T16:36:22.634Z"
   },
   {
    "duration": 17,
    "start_time": "2022-12-16T16:36:22.652Z"
   },
   {
    "duration": 17,
    "start_time": "2022-12-16T16:36:22.671Z"
   },
   {
    "duration": 28,
    "start_time": "2022-12-16T16:36:22.690Z"
   },
   {
    "duration": 7,
    "start_time": "2022-12-16T16:36:22.720Z"
   },
   {
    "duration": 286,
    "start_time": "2022-12-16T16:36:22.729Z"
   },
   {
    "duration": 5,
    "start_time": "2022-12-16T16:36:23.017Z"
   },
   {
    "duration": 12,
    "start_time": "2022-12-16T16:36:23.024Z"
   },
   {
    "duration": 32,
    "start_time": "2022-12-16T16:36:23.038Z"
   },
   {
    "duration": 1142,
    "start_time": "2022-12-16T16:36:23.071Z"
   },
   {
    "duration": 383,
    "start_time": "2022-12-16T16:36:24.215Z"
   },
   {
    "duration": 26,
    "start_time": "2022-12-16T16:36:24.600Z"
   },
   {
    "duration": 91,
    "start_time": "2022-12-16T16:36:31.412Z"
   },
   {
    "duration": 17,
    "start_time": "2022-12-16T16:36:48.677Z"
   },
   {
    "duration": 1144,
    "start_time": "2022-12-16T16:37:36.450Z"
   },
   {
    "duration": 3,
    "start_time": "2022-12-16T16:38:11.645Z"
   },
   {
    "duration": 1185,
    "start_time": "2022-12-16T16:38:34.805Z"
   },
   {
    "duration": 13,
    "start_time": "2022-12-16T16:39:07.124Z"
   },
   {
    "duration": 17,
    "start_time": "2022-12-16T16:39:44.628Z"
   },
   {
    "duration": 163,
    "start_time": "2022-12-16T16:40:54.848Z"
   },
   {
    "duration": 315,
    "start_time": "2022-12-16T16:47:29.991Z"
   },
   {
    "duration": 9,
    "start_time": "2022-12-16T16:51:48.076Z"
   },
   {
    "duration": 276,
    "start_time": "2022-12-16T17:06:51.465Z"
   },
   {
    "duration": 169,
    "start_time": "2022-12-16T17:07:04.885Z"
   },
   {
    "duration": 188,
    "start_time": "2022-12-16T17:08:12.499Z"
   },
   {
    "duration": 177,
    "start_time": "2022-12-16T17:09:15.002Z"
   },
   {
    "duration": 82,
    "start_time": "2022-12-16T17:37:41.353Z"
   },
   {
    "duration": 110,
    "start_time": "2022-12-16T17:43:46.486Z"
   },
   {
    "duration": 103,
    "start_time": "2022-12-16T17:49:49.827Z"
   },
   {
    "duration": 99,
    "start_time": "2022-12-16T17:55:11.490Z"
   },
   {
    "duration": 103,
    "start_time": "2022-12-16T17:55:27.568Z"
   },
   {
    "duration": 96,
    "start_time": "2022-12-16T17:55:54.613Z"
   },
   {
    "duration": 96,
    "start_time": "2022-12-16T17:56:43.409Z"
   },
   {
    "duration": 99,
    "start_time": "2022-12-16T17:58:09.261Z"
   },
   {
    "duration": 11,
    "start_time": "2022-12-16T17:58:56.041Z"
   },
   {
    "duration": 8,
    "start_time": "2022-12-16T18:36:28.124Z"
   },
   {
    "duration": 14,
    "start_time": "2022-12-16T19:03:42.915Z"
   },
   {
    "duration": 3,
    "start_time": "2022-12-16T19:03:52.856Z"
   },
   {
    "duration": 8,
    "start_time": "2022-12-16T19:03:56.309Z"
   },
   {
    "duration": 8,
    "start_time": "2022-12-16T19:11:29.466Z"
   },
   {
    "duration": 284,
    "start_time": "2022-12-16T19:19:09.035Z"
   },
   {
    "duration": 360,
    "start_time": "2022-12-16T19:19:36.868Z"
   },
   {
    "duration": 1143,
    "start_time": "2022-12-16T19:23:21.121Z"
   },
   {
    "duration": 9,
    "start_time": "2022-12-16T20:45:52.194Z"
   },
   {
    "duration": 11,
    "start_time": "2022-12-16T20:45:57.628Z"
   },
   {
    "duration": 8,
    "start_time": "2022-12-16T20:46:51.475Z"
   },
   {
    "duration": 5,
    "start_time": "2022-12-16T20:47:21.523Z"
   },
   {
    "duration": 17,
    "start_time": "2022-12-16T20:47:38.337Z"
   },
   {
    "duration": 8,
    "start_time": "2022-12-16T20:48:54.784Z"
   },
   {
    "duration": 11,
    "start_time": "2022-12-16T20:57:36.164Z"
   },
   {
    "duration": 8,
    "start_time": "2022-12-16T20:57:48.286Z"
   },
   {
    "duration": 3,
    "start_time": "2022-12-16T20:57:58.166Z"
   },
   {
    "duration": 80,
    "start_time": "2022-12-16T20:57:58.175Z"
   },
   {
    "duration": 3,
    "start_time": "2022-12-16T20:57:58.257Z"
   },
   {
    "duration": 23,
    "start_time": "2022-12-16T20:57:58.262Z"
   },
   {
    "duration": 13,
    "start_time": "2022-12-16T20:57:58.288Z"
   },
   {
    "duration": 8,
    "start_time": "2022-12-16T20:57:58.303Z"
   },
   {
    "duration": 7,
    "start_time": "2022-12-16T20:57:58.313Z"
   },
   {
    "duration": 9,
    "start_time": "2022-12-16T20:57:58.350Z"
   },
   {
    "duration": 10,
    "start_time": "2022-12-16T20:57:58.368Z"
   },
   {
    "duration": 6,
    "start_time": "2022-12-16T20:57:58.859Z"
   },
   {
    "duration": 14,
    "start_time": "2022-12-16T20:57:58.868Z"
   },
   {
    "duration": 22,
    "start_time": "2022-12-16T20:57:58.884Z"
   },
   {
    "duration": 7,
    "start_time": "2022-12-16T20:57:58.909Z"
   },
   {
    "duration": 315,
    "start_time": "2022-12-16T20:57:58.918Z"
   },
   {
    "duration": 16,
    "start_time": "2022-12-16T20:57:59.236Z"
   },
   {
    "duration": 0,
    "start_time": "2022-12-16T20:57:59.253Z"
   },
   {
    "duration": 0,
    "start_time": "2022-12-16T20:57:59.254Z"
   },
   {
    "duration": 0,
    "start_time": "2022-12-16T20:57:59.256Z"
   },
   {
    "duration": 6,
    "start_time": "2022-12-16T20:57:59.367Z"
   },
   {
    "duration": 160,
    "start_time": "2022-12-16T20:57:59.375Z"
   },
   {
    "duration": 132,
    "start_time": "2022-12-16T20:57:59.537Z"
   },
   {
    "duration": 146,
    "start_time": "2022-12-16T20:57:59.672Z"
   },
   {
    "duration": 131,
    "start_time": "2022-12-16T20:57:59.821Z"
   },
   {
    "duration": 11,
    "start_time": "2022-12-16T20:57:59.954Z"
   },
   {
    "duration": 10,
    "start_time": "2022-12-16T20:57:59.967Z"
   },
   {
    "duration": 8,
    "start_time": "2022-12-16T20:57:59.979Z"
   },
   {
    "duration": 188,
    "start_time": "2022-12-16T20:57:59.988Z"
   },
   {
    "duration": 174,
    "start_time": "2022-12-16T20:58:00.178Z"
   },
   {
    "duration": 178,
    "start_time": "2022-12-16T20:58:00.355Z"
   },
   {
    "duration": 3,
    "start_time": "2022-12-16T20:58:00.535Z"
   },
   {
    "duration": 7,
    "start_time": "2022-12-16T20:58:00.550Z"
   },
   {
    "duration": 13,
    "start_time": "2022-12-16T20:58:13.085Z"
   },
   {
    "duration": 36,
    "start_time": "2022-12-16T20:58:46.325Z"
   },
   {
    "duration": 8,
    "start_time": "2022-12-16T20:58:58.440Z"
   },
   {
    "duration": 7,
    "start_time": "2022-12-16T20:59:14.295Z"
   },
   {
    "duration": 10,
    "start_time": "2022-12-16T20:59:20.007Z"
   },
   {
    "duration": 27,
    "start_time": "2022-12-16T20:59:45.092Z"
   },
   {
    "duration": 10,
    "start_time": "2022-12-16T21:00:44.958Z"
   },
   {
    "duration": 7,
    "start_time": "2022-12-16T21:00:53.372Z"
   },
   {
    "duration": 10,
    "start_time": "2022-12-16T21:01:09.030Z"
   },
   {
    "duration": 1365,
    "start_time": "2022-12-17T08:27:42.894Z"
   },
   {
    "duration": 202,
    "start_time": "2022-12-17T08:27:44.262Z"
   },
   {
    "duration": 4,
    "start_time": "2022-12-17T08:27:44.465Z"
   },
   {
    "duration": 25,
    "start_time": "2022-12-17T08:27:44.470Z"
   },
   {
    "duration": 8,
    "start_time": "2022-12-17T08:27:44.497Z"
   },
   {
    "duration": 13,
    "start_time": "2022-12-17T08:27:44.506Z"
   },
   {
    "duration": 5,
    "start_time": "2022-12-17T08:27:44.522Z"
   },
   {
    "duration": 11,
    "start_time": "2022-12-17T08:27:44.529Z"
   },
   {
    "duration": 11,
    "start_time": "2022-12-17T08:27:44.542Z"
   },
   {
    "duration": 10,
    "start_time": "2022-12-17T08:27:44.555Z"
   },
   {
    "duration": 12,
    "start_time": "2022-12-17T08:27:44.567Z"
   },
   {
    "duration": 53,
    "start_time": "2022-12-17T08:27:44.581Z"
   },
   {
    "duration": 9,
    "start_time": "2022-12-17T08:27:44.636Z"
   },
   {
    "duration": 332,
    "start_time": "2022-12-17T08:27:44.649Z"
   },
   {
    "duration": 118,
    "start_time": "2022-12-17T08:27:44.983Z"
   },
   {
    "duration": 0,
    "start_time": "2022-12-17T08:27:45.104Z"
   },
   {
    "duration": 0,
    "start_time": "2022-12-17T08:27:45.113Z"
   },
   {
    "duration": 0,
    "start_time": "2022-12-17T08:27:45.115Z"
   },
   {
    "duration": 0,
    "start_time": "2022-12-17T08:27:45.116Z"
   },
   {
    "duration": 0,
    "start_time": "2022-12-17T08:27:45.117Z"
   },
   {
    "duration": 0,
    "start_time": "2022-12-17T08:27:45.119Z"
   },
   {
    "duration": 0,
    "start_time": "2022-12-17T08:27:45.120Z"
   },
   {
    "duration": 0,
    "start_time": "2022-12-17T08:27:45.122Z"
   },
   {
    "duration": 0,
    "start_time": "2022-12-17T08:27:45.123Z"
   },
   {
    "duration": 0,
    "start_time": "2022-12-17T08:27:45.125Z"
   },
   {
    "duration": 0,
    "start_time": "2022-12-17T08:27:45.126Z"
   },
   {
    "duration": 0,
    "start_time": "2022-12-17T08:27:45.127Z"
   },
   {
    "duration": 0,
    "start_time": "2022-12-17T08:27:45.128Z"
   },
   {
    "duration": 0,
    "start_time": "2022-12-17T08:27:45.130Z"
   },
   {
    "duration": 3,
    "start_time": "2022-12-17T08:28:15.942Z"
   },
   {
    "duration": 9,
    "start_time": "2022-12-17T08:28:18.787Z"
   },
   {
    "duration": 8,
    "start_time": "2022-12-17T08:28:22.857Z"
   },
   {
    "duration": 11,
    "start_time": "2022-12-17T08:28:27.407Z"
   },
   {
    "duration": 11,
    "start_time": "2022-12-17T08:35:34.642Z"
   },
   {
    "duration": 3,
    "start_time": "2022-12-17T08:35:41.934Z"
   },
   {
    "duration": 68,
    "start_time": "2022-12-17T08:35:41.938Z"
   },
   {
    "duration": 3,
    "start_time": "2022-12-17T08:35:42.007Z"
   },
   {
    "duration": 35,
    "start_time": "2022-12-17T08:35:42.012Z"
   },
   {
    "duration": 8,
    "start_time": "2022-12-17T08:35:42.049Z"
   },
   {
    "duration": 12,
    "start_time": "2022-12-17T08:35:42.059Z"
   },
   {
    "duration": 4,
    "start_time": "2022-12-17T08:35:42.073Z"
   },
   {
    "duration": 13,
    "start_time": "2022-12-17T08:35:42.078Z"
   },
   {
    "duration": 13,
    "start_time": "2022-12-17T08:35:42.094Z"
   },
   {
    "duration": 25,
    "start_time": "2022-12-17T08:35:42.109Z"
   },
   {
    "duration": 8,
    "start_time": "2022-12-17T08:35:42.135Z"
   },
   {
    "duration": 16,
    "start_time": "2022-12-17T08:35:42.145Z"
   },
   {
    "duration": 7,
    "start_time": "2022-12-17T08:35:42.162Z"
   },
   {
    "duration": 269,
    "start_time": "2022-12-17T08:35:42.170Z"
   },
   {
    "duration": 10,
    "start_time": "2022-12-17T08:35:42.440Z"
   },
   {
    "duration": 1,
    "start_time": "2022-12-17T08:35:42.451Z"
   },
   {
    "duration": 0,
    "start_time": "2022-12-17T08:35:42.453Z"
   },
   {
    "duration": 0,
    "start_time": "2022-12-17T08:35:42.454Z"
   },
   {
    "duration": 11,
    "start_time": "2022-12-17T08:36:00.613Z"
   },
   {
    "duration": 73,
    "start_time": "2022-12-17T08:36:03.053Z"
   },
   {
    "duration": 1290,
    "start_time": "2022-12-17T14:32:01.168Z"
   },
   {
    "duration": 2,
    "start_time": "2022-12-17T14:32:13.076Z"
   },
   {
    "duration": 236,
    "start_time": "2022-12-17T14:32:13.099Z"
   },
   {
    "duration": 4,
    "start_time": "2022-12-17T14:32:13.338Z"
   },
   {
    "duration": 37,
    "start_time": "2022-12-17T14:32:13.343Z"
   },
   {
    "duration": 8,
    "start_time": "2022-12-17T14:32:13.382Z"
   },
   {
    "duration": 8,
    "start_time": "2022-12-17T14:32:13.392Z"
   },
   {
    "duration": 3,
    "start_time": "2022-12-17T14:32:13.402Z"
   },
   {
    "duration": 7,
    "start_time": "2022-12-17T14:32:13.407Z"
   },
   {
    "duration": 9,
    "start_time": "2022-12-17T14:32:13.416Z"
   },
   {
    "duration": 28,
    "start_time": "2022-12-17T14:32:13.427Z"
   },
   {
    "duration": 9,
    "start_time": "2022-12-17T14:32:13.458Z"
   },
   {
    "duration": 21,
    "start_time": "2022-12-17T14:32:13.468Z"
   },
   {
    "duration": 5,
    "start_time": "2022-12-17T14:32:13.491Z"
   },
   {
    "duration": 317,
    "start_time": "2022-12-17T14:32:13.498Z"
   },
   {
    "duration": 97,
    "start_time": "2022-12-17T14:32:13.817Z"
   },
   {
    "duration": 0,
    "start_time": "2022-12-17T14:32:13.916Z"
   },
   {
    "duration": 0,
    "start_time": "2022-12-17T14:32:13.918Z"
   },
   {
    "duration": 1,
    "start_time": "2022-12-17T14:32:13.918Z"
   },
   {
    "duration": 0,
    "start_time": "2022-12-17T14:32:13.920Z"
   },
   {
    "duration": 0,
    "start_time": "2022-12-17T14:32:13.921Z"
   },
   {
    "duration": 0,
    "start_time": "2022-12-17T14:32:13.921Z"
   },
   {
    "duration": 0,
    "start_time": "2022-12-17T14:32:13.922Z"
   },
   {
    "duration": 0,
    "start_time": "2022-12-17T14:32:13.923Z"
   },
   {
    "duration": 0,
    "start_time": "2022-12-17T14:32:13.924Z"
   },
   {
    "duration": 0,
    "start_time": "2022-12-17T14:32:13.925Z"
   },
   {
    "duration": 0,
    "start_time": "2022-12-17T14:32:13.926Z"
   },
   {
    "duration": 0,
    "start_time": "2022-12-17T14:32:13.927Z"
   },
   {
    "duration": 0,
    "start_time": "2022-12-17T14:32:13.928Z"
   },
   {
    "duration": 170,
    "start_time": "2022-12-17T14:32:13.970Z"
   },
   {
    "duration": 2,
    "start_time": "2022-12-17T14:32:14.142Z"
   },
   {
    "duration": 8,
    "start_time": "2022-12-17T14:32:14.151Z"
   },
   {
    "duration": 7,
    "start_time": "2022-12-17T14:32:14.160Z"
   },
   {
    "duration": 11,
    "start_time": "2022-12-17T14:32:14.170Z"
   },
   {
    "duration": 6,
    "start_time": "2022-12-17T14:32:55.802Z"
   },
   {
    "duration": 6,
    "start_time": "2022-12-17T14:33:09.453Z"
   },
   {
    "duration": 5,
    "start_time": "2022-12-17T14:33:50.918Z"
   },
   {
    "duration": 6,
    "start_time": "2022-12-17T14:34:07.889Z"
   },
   {
    "duration": 5,
    "start_time": "2022-12-17T14:35:01.416Z"
   },
   {
    "duration": 9,
    "start_time": "2022-12-17T14:35:22.490Z"
   },
   {
    "duration": 48,
    "start_time": "2022-12-17T17:44:13.046Z"
   },
   {
    "duration": 1418,
    "start_time": "2022-12-17T17:44:24.513Z"
   },
   {
    "duration": 132,
    "start_time": "2022-12-17T17:44:25.933Z"
   },
   {
    "duration": 4,
    "start_time": "2022-12-17T17:44:26.068Z"
   },
   {
    "duration": 21,
    "start_time": "2022-12-17T17:44:26.074Z"
   },
   {
    "duration": 9,
    "start_time": "2022-12-17T17:44:26.096Z"
   },
   {
    "duration": 10,
    "start_time": "2022-12-17T17:44:26.107Z"
   },
   {
    "duration": 5,
    "start_time": "2022-12-17T17:44:26.118Z"
   },
   {
    "duration": 11,
    "start_time": "2022-12-17T17:44:26.124Z"
   },
   {
    "duration": 7,
    "start_time": "2022-12-17T17:44:26.137Z"
   },
   {
    "duration": 10,
    "start_time": "2022-12-17T17:44:26.180Z"
   },
   {
    "duration": 16,
    "start_time": "2022-12-17T17:44:26.192Z"
   },
   {
    "duration": 6,
    "start_time": "2022-12-17T17:44:26.210Z"
   },
   {
    "duration": 317,
    "start_time": "2022-12-17T17:44:26.218Z"
   },
   {
    "duration": 78,
    "start_time": "2022-12-17T17:44:26.537Z"
   },
   {
    "duration": 0,
    "start_time": "2022-12-17T17:44:26.616Z"
   },
   {
    "duration": 1,
    "start_time": "2022-12-17T17:44:26.617Z"
   },
   {
    "duration": 0,
    "start_time": "2022-12-17T17:44:26.619Z"
   },
   {
    "duration": 0,
    "start_time": "2022-12-17T17:44:26.620Z"
   },
   {
    "duration": 0,
    "start_time": "2022-12-17T17:44:26.621Z"
   },
   {
    "duration": 0,
    "start_time": "2022-12-17T17:44:26.622Z"
   },
   {
    "duration": 0,
    "start_time": "2022-12-17T17:44:26.624Z"
   },
   {
    "duration": 0,
    "start_time": "2022-12-17T17:44:26.625Z"
   },
   {
    "duration": 0,
    "start_time": "2022-12-17T17:44:26.627Z"
   },
   {
    "duration": 0,
    "start_time": "2022-12-17T17:44:26.627Z"
   },
   {
    "duration": 0,
    "start_time": "2022-12-17T17:44:26.629Z"
   },
   {
    "duration": 0,
    "start_time": "2022-12-17T17:44:26.630Z"
   },
   {
    "duration": 0,
    "start_time": "2022-12-17T17:44:26.632Z"
   },
   {
    "duration": 0,
    "start_time": "2022-12-17T17:44:26.633Z"
   },
   {
    "duration": 0,
    "start_time": "2022-12-17T17:44:26.634Z"
   },
   {
    "duration": 0,
    "start_time": "2022-12-17T17:44:26.635Z"
   },
   {
    "duration": 0,
    "start_time": "2022-12-17T17:44:26.636Z"
   },
   {
    "duration": 0,
    "start_time": "2022-12-17T17:44:26.637Z"
   },
   {
    "duration": 8,
    "start_time": "2022-12-17T17:45:35.270Z"
   },
   {
    "duration": 164,
    "start_time": "2022-12-17T17:46:50.243Z"
   },
   {
    "duration": 151,
    "start_time": "2022-12-17T17:47:02.992Z"
   },
   {
    "duration": 16,
    "start_time": "2022-12-17T17:53:34.313Z"
   },
   {
    "duration": 7,
    "start_time": "2022-12-17T17:54:18.871Z"
   },
   {
    "duration": 4,
    "start_time": "2022-12-17T17:54:35.542Z"
   },
   {
    "duration": 88,
    "start_time": "2022-12-17T17:54:35.548Z"
   },
   {
    "duration": 4,
    "start_time": "2022-12-17T17:54:35.638Z"
   },
   {
    "duration": 24,
    "start_time": "2022-12-17T17:54:35.645Z"
   },
   {
    "duration": 13,
    "start_time": "2022-12-17T17:54:35.673Z"
   },
   {
    "duration": 11,
    "start_time": "2022-12-17T17:54:35.744Z"
   },
   {
    "duration": 8,
    "start_time": "2022-12-17T17:54:38.845Z"
   },
   {
    "duration": 20,
    "start_time": "2022-12-17T18:13:34.184Z"
   },
   {
    "duration": 16,
    "start_time": "2022-12-17T18:17:59.740Z"
   },
   {
    "duration": 9,
    "start_time": "2022-12-17T18:20:58.560Z"
   },
   {
    "duration": 14,
    "start_time": "2022-12-17T18:21:02.863Z"
   },
   {
    "duration": 22,
    "start_time": "2022-12-17T18:21:40.626Z"
   },
   {
    "duration": 11,
    "start_time": "2022-12-17T18:22:42.290Z"
   },
   {
    "duration": 25,
    "start_time": "2022-12-17T18:22:55.060Z"
   },
   {
    "duration": 71,
    "start_time": "2022-12-17T18:23:38.662Z"
   },
   {
    "duration": 34,
    "start_time": "2022-12-17T18:23:57.786Z"
   },
   {
    "duration": 5,
    "start_time": "2022-12-17T18:26:36.630Z"
   },
   {
    "duration": 26,
    "start_time": "2022-12-17T18:27:07.956Z"
   },
   {
    "duration": 9,
    "start_time": "2022-12-17T18:27:56.538Z"
   },
   {
    "duration": 298,
    "start_time": "2022-12-17T18:29:25.044Z"
   },
   {
    "duration": 5,
    "start_time": "2022-12-17T18:29:36.571Z"
   },
   {
    "duration": 294,
    "start_time": "2022-12-17T18:30:17.279Z"
   },
   {
    "duration": 5,
    "start_time": "2022-12-17T18:30:55.623Z"
   },
   {
    "duration": 1270,
    "start_time": "2022-12-17T18:36:28.021Z"
   },
   {
    "duration": 299,
    "start_time": "2022-12-17T18:40:28.551Z"
   },
   {
    "duration": 6,
    "start_time": "2022-12-17T18:40:40.029Z"
   },
   {
    "duration": 181,
    "start_time": "2022-12-17T18:40:43.913Z"
   },
   {
    "duration": 294,
    "start_time": "2022-12-17T18:48:53.462Z"
   },
   {
    "duration": 296,
    "start_time": "2022-12-17T18:49:34.670Z"
   },
   {
    "duration": 285,
    "start_time": "2022-12-17T19:05:26.640Z"
   },
   {
    "duration": 6,
    "start_time": "2022-12-17T19:05:39.548Z"
   },
   {
    "duration": 18,
    "start_time": "2022-12-17T19:11:19.289Z"
   },
   {
    "duration": 27,
    "start_time": "2022-12-17T19:14:09.202Z"
   },
   {
    "duration": 39,
    "start_time": "2022-12-17T19:15:13.511Z"
   },
   {
    "duration": 25,
    "start_time": "2022-12-17T19:16:24.050Z"
   },
   {
    "duration": 20,
    "start_time": "2022-12-17T19:16:31.805Z"
   },
   {
    "duration": 25,
    "start_time": "2022-12-17T19:17:22.952Z"
   },
   {
    "duration": 8,
    "start_time": "2022-12-17T19:18:14.557Z"
   },
   {
    "duration": 25,
    "start_time": "2022-12-17T19:18:47.380Z"
   },
   {
    "duration": 47,
    "start_time": "2022-12-17T19:19:31.644Z"
   },
   {
    "duration": 17,
    "start_time": "2022-12-17T19:19:39.045Z"
   },
   {
    "duration": 23,
    "start_time": "2022-12-17T19:21:19.928Z"
   },
   {
    "duration": 10,
    "start_time": "2022-12-17T19:22:39.151Z"
   },
   {
    "duration": 26,
    "start_time": "2022-12-17T19:23:53.920Z"
   },
   {
    "duration": 382,
    "start_time": "2022-12-17T19:26:36.567Z"
   },
   {
    "duration": 209,
    "start_time": "2022-12-17T19:42:20.735Z"
   },
   {
    "duration": 45,
    "start_time": "2022-12-17T19:46:18.580Z"
   },
   {
    "duration": 676,
    "start_time": "2022-12-17T19:48:37.820Z"
   },
   {
    "duration": 111,
    "start_time": "2022-12-17T19:48:53.700Z"
   },
   {
    "duration": 202,
    "start_time": "2022-12-17T19:50:08.654Z"
   },
   {
    "duration": 363,
    "start_time": "2022-12-17T19:50:42.694Z"
   },
   {
    "duration": 151,
    "start_time": "2022-12-17T19:52:05.818Z"
   },
   {
    "duration": 175,
    "start_time": "2022-12-17T19:53:19.264Z"
   },
   {
    "duration": 31,
    "start_time": "2022-12-17T19:55:22.157Z"
   },
   {
    "duration": 17,
    "start_time": "2022-12-17T20:03:30.475Z"
   },
   {
    "duration": 271,
    "start_time": "2022-12-17T20:04:33.392Z"
   },
   {
    "duration": 312,
    "start_time": "2022-12-17T20:04:55.571Z"
   },
   {
    "duration": 44,
    "start_time": "2022-12-17T20:15:22.051Z"
   },
   {
    "duration": 289,
    "start_time": "2022-12-17T20:15:33.813Z"
   },
   {
    "duration": 309,
    "start_time": "2022-12-17T20:15:59.351Z"
   },
   {
    "duration": 17,
    "start_time": "2022-12-17T20:23:41.064Z"
   },
   {
    "duration": 291,
    "start_time": "2022-12-17T20:23:54.893Z"
   },
   {
    "duration": 322,
    "start_time": "2022-12-17T20:26:35.665Z"
   },
   {
    "duration": 344,
    "start_time": "2022-12-17T20:26:50.587Z"
   },
   {
    "duration": 516,
    "start_time": "2022-12-17T20:27:30.872Z"
   },
   {
    "duration": 298,
    "start_time": "2022-12-17T20:31:09.180Z"
   },
   {
    "duration": 20,
    "start_time": "2022-12-17T20:31:21.064Z"
   },
   {
    "duration": 327,
    "start_time": "2022-12-17T20:32:55.021Z"
   },
   {
    "duration": 343,
    "start_time": "2022-12-17T20:34:15.631Z"
   },
   {
    "duration": 111,
    "start_time": "2022-12-17T20:34:56.104Z"
   },
   {
    "duration": 119,
    "start_time": "2022-12-17T20:35:51.813Z"
   },
   {
    "duration": 56,
    "start_time": "2022-12-17T20:39:54.720Z"
   },
   {
    "duration": 46,
    "start_time": "2022-12-17T20:41:22.044Z"
   },
   {
    "duration": 104,
    "start_time": "2022-12-17T20:41:32.537Z"
   },
   {
    "duration": 122,
    "start_time": "2022-12-17T20:41:49.992Z"
   },
   {
    "duration": 103,
    "start_time": "2022-12-17T20:43:50.442Z"
   },
   {
    "duration": 51,
    "start_time": "2022-12-17T20:46:35.742Z"
   },
   {
    "duration": 820,
    "start_time": "2022-12-17T20:46:48.961Z"
   },
   {
    "duration": 9,
    "start_time": "2022-12-17T20:47:25.447Z"
   },
   {
    "duration": 16,
    "start_time": "2022-12-17T20:47:37.074Z"
   },
   {
    "duration": 117,
    "start_time": "2022-12-17T20:48:12.450Z"
   },
   {
    "duration": 323,
    "start_time": "2022-12-17T20:48:47.263Z"
   },
   {
    "duration": 347,
    "start_time": "2022-12-17T20:52:16.773Z"
   },
   {
    "duration": 554,
    "start_time": "2022-12-17T20:52:37.431Z"
   },
   {
    "duration": 12,
    "start_time": "2022-12-17T20:54:55.096Z"
   },
   {
    "duration": 14,
    "start_time": "2022-12-17T20:55:09.181Z"
   },
   {
    "duration": 246,
    "start_time": "2022-12-17T20:55:29.484Z"
   },
   {
    "duration": 309,
    "start_time": "2022-12-17T20:55:53.668Z"
   },
   {
    "duration": 120,
    "start_time": "2022-12-17T20:59:43.338Z"
   },
   {
    "duration": 233,
    "start_time": "2022-12-17T21:00:30.735Z"
   },
   {
    "duration": 357,
    "start_time": "2022-12-17T21:01:10.959Z"
   },
   {
    "duration": 496,
    "start_time": "2022-12-17T21:05:17.491Z"
   },
   {
    "duration": 345,
    "start_time": "2022-12-17T21:07:40.419Z"
   },
   {
    "duration": 368,
    "start_time": "2022-12-17T21:08:45.756Z"
   },
   {
    "duration": 349,
    "start_time": "2022-12-17T21:09:11.238Z"
   },
   {
    "duration": 348,
    "start_time": "2022-12-17T21:09:40.043Z"
   },
   {
    "duration": 348,
    "start_time": "2022-12-17T21:10:22.531Z"
   },
   {
    "duration": 45,
    "start_time": "2022-12-18T15:34:38.372Z"
   },
   {
    "duration": 1316,
    "start_time": "2022-12-18T15:34:48.154Z"
   },
   {
    "duration": 122,
    "start_time": "2022-12-18T15:34:49.472Z"
   },
   {
    "duration": 4,
    "start_time": "2022-12-18T15:34:49.596Z"
   },
   {
    "duration": 16,
    "start_time": "2022-12-18T15:34:49.602Z"
   },
   {
    "duration": 9,
    "start_time": "2022-12-18T15:34:49.620Z"
   },
   {
    "duration": 11,
    "start_time": "2022-12-18T15:34:49.631Z"
   },
   {
    "duration": 7,
    "start_time": "2022-12-18T15:34:49.644Z"
   },
   {
    "duration": 10,
    "start_time": "2022-12-18T15:34:49.653Z"
   },
   {
    "duration": 51,
    "start_time": "2022-12-18T15:34:49.664Z"
   },
   {
    "duration": 7,
    "start_time": "2022-12-18T15:34:49.719Z"
   },
   {
    "duration": 305,
    "start_time": "2022-12-18T15:34:49.728Z"
   },
   {
    "duration": 4,
    "start_time": "2022-12-18T15:34:50.035Z"
   },
   {
    "duration": 1149,
    "start_time": "2022-12-18T15:34:50.041Z"
   },
   {
    "duration": 381,
    "start_time": "2022-12-18T15:34:51.192Z"
   },
   {
    "duration": 350,
    "start_time": "2022-12-18T15:34:51.575Z"
   },
   {
    "duration": 37,
    "start_time": "2022-12-18T15:35:04.796Z"
   },
   {
    "duration": 39,
    "start_time": "2022-12-18T15:38:16.891Z"
   },
   {
    "duration": 8,
    "start_time": "2022-12-18T15:39:17.458Z"
   },
   {
    "duration": 68,
    "start_time": "2022-12-18T15:54:47.779Z"
   },
   {
    "duration": 14,
    "start_time": "2022-12-18T15:54:59.438Z"
   },
   {
    "duration": 14,
    "start_time": "2022-12-18T15:57:54.457Z"
   },
   {
    "duration": 9,
    "start_time": "2022-12-18T16:21:53.562Z"
   },
   {
    "duration": 15,
    "start_time": "2022-12-18T16:22:11.141Z"
   },
   {
    "duration": 3,
    "start_time": "2022-12-18T16:22:16.329Z"
   },
   {
    "duration": 78,
    "start_time": "2022-12-18T16:22:16.361Z"
   },
   {
    "duration": 8,
    "start_time": "2022-12-18T16:22:16.441Z"
   },
   {
    "duration": 109,
    "start_time": "2022-12-18T16:22:16.451Z"
   },
   {
    "duration": 12,
    "start_time": "2022-12-18T16:22:16.562Z"
   },
   {
    "duration": 9,
    "start_time": "2022-12-18T16:22:16.599Z"
   },
   {
    "duration": 7,
    "start_time": "2022-12-18T16:22:16.619Z"
   },
   {
    "duration": 8,
    "start_time": "2022-12-18T16:22:16.661Z"
   },
   {
    "duration": 19,
    "start_time": "2022-12-18T16:22:16.671Z"
   },
   {
    "duration": 6,
    "start_time": "2022-12-18T16:22:16.692Z"
   },
   {
    "duration": 266,
    "start_time": "2022-12-18T16:22:16.864Z"
   },
   {
    "duration": 17,
    "start_time": "2022-12-18T16:22:17.132Z"
   },
   {
    "duration": 1162,
    "start_time": "2022-12-18T16:22:17.151Z"
   },
   {
    "duration": 392,
    "start_time": "2022-12-18T16:22:18.316Z"
   },
   {
    "duration": 363,
    "start_time": "2022-12-18T16:22:18.711Z"
   },
   {
    "duration": 16,
    "start_time": "2022-12-18T16:22:19.076Z"
   },
   {
    "duration": 340,
    "start_time": "2022-12-18T16:22:19.094Z"
   },
   {
    "duration": 6,
    "start_time": "2022-12-18T16:22:19.436Z"
   },
   {
    "duration": 187,
    "start_time": "2022-12-18T16:22:19.443Z"
   },
   {
    "duration": 193,
    "start_time": "2022-12-18T16:22:19.632Z"
   },
   {
    "duration": 115,
    "start_time": "2022-12-18T16:22:19.827Z"
   },
   {
    "duration": 106,
    "start_time": "2022-12-18T16:22:19.944Z"
   },
   {
    "duration": 7,
    "start_time": "2022-12-18T16:22:20.052Z"
   },
   {
    "duration": 10,
    "start_time": "2022-12-18T16:22:20.062Z"
   },
   {
    "duration": 18,
    "start_time": "2022-12-18T16:22:20.073Z"
   },
   {
    "duration": 183,
    "start_time": "2022-12-18T16:22:20.093Z"
   },
   {
    "duration": 178,
    "start_time": "2022-12-18T16:22:20.279Z"
   },
   {
    "duration": 171,
    "start_time": "2022-12-18T16:22:20.459Z"
   },
   {
    "duration": 3,
    "start_time": "2022-12-18T16:22:20.632Z"
   },
   {
    "duration": 13,
    "start_time": "2022-12-18T16:22:20.637Z"
   },
   {
    "duration": 9,
    "start_time": "2022-12-18T16:22:20.651Z"
   },
   {
    "duration": 7,
    "start_time": "2022-12-18T16:23:51.327Z"
   },
   {
    "duration": 8,
    "start_time": "2022-12-18T16:25:19.769Z"
   },
   {
    "duration": 8,
    "start_time": "2022-12-18T16:25:25.367Z"
   },
   {
    "duration": 9,
    "start_time": "2022-12-18T16:31:36.876Z"
   },
   {
    "duration": 9,
    "start_time": "2022-12-18T16:31:47.895Z"
   },
   {
    "duration": 9,
    "start_time": "2022-12-18T16:32:01.569Z"
   },
   {
    "duration": 9,
    "start_time": "2022-12-18T16:32:09.648Z"
   },
   {
    "duration": 8,
    "start_time": "2022-12-18T16:33:09.424Z"
   },
   {
    "duration": 10,
    "start_time": "2022-12-18T16:33:39.408Z"
   },
   {
    "duration": 12,
    "start_time": "2022-12-18T16:34:16.451Z"
   },
   {
    "duration": 8,
    "start_time": "2022-12-18T16:34:32.413Z"
   },
   {
    "duration": 8,
    "start_time": "2022-12-18T16:34:53.847Z"
   },
   {
    "duration": 10,
    "start_time": "2022-12-18T16:35:36.809Z"
   },
   {
    "duration": 5,
    "start_time": "2022-12-18T17:07:26.395Z"
   },
   {
    "duration": 689,
    "start_time": "2022-12-18T17:08:15.162Z"
   },
   {
    "duration": 46,
    "start_time": "2022-12-18T17:08:54.224Z"
   },
   {
    "duration": 15,
    "start_time": "2022-12-18T17:09:04.939Z"
   },
   {
    "duration": 16,
    "start_time": "2022-12-18T17:09:29.540Z"
   },
   {
    "duration": 13,
    "start_time": "2022-12-18T17:09:54.288Z"
   },
   {
    "duration": 15,
    "start_time": "2022-12-18T17:11:46.790Z"
   },
   {
    "duration": 22,
    "start_time": "2022-12-18T17:12:55.813Z"
   },
   {
    "duration": 12,
    "start_time": "2022-12-18T17:13:29.438Z"
   },
   {
    "duration": 10,
    "start_time": "2022-12-18T17:13:59.772Z"
   },
   {
    "duration": 12,
    "start_time": "2022-12-18T17:14:35.447Z"
   },
   {
    "duration": 10,
    "start_time": "2022-12-18T17:14:44.733Z"
   },
   {
    "duration": 10,
    "start_time": "2022-12-18T17:15:29.117Z"
   },
   {
    "duration": 11,
    "start_time": "2022-12-18T17:15:35.179Z"
   },
   {
    "duration": 10,
    "start_time": "2022-12-18T17:34:58.085Z"
   },
   {
    "duration": 4,
    "start_time": "2022-12-18T17:42:02.805Z"
   },
   {
    "duration": 17,
    "start_time": "2022-12-18T17:42:36.147Z"
   },
   {
    "duration": 340,
    "start_time": "2022-12-18T17:58:25.702Z"
   },
   {
    "duration": 394,
    "start_time": "2022-12-18T17:59:34.876Z"
   },
   {
    "duration": 5,
    "start_time": "2022-12-18T18:01:15.506Z"
   },
   {
    "duration": 5,
    "start_time": "2022-12-18T18:18:43.398Z"
   },
   {
    "duration": 5,
    "start_time": "2022-12-18T18:19:41.299Z"
   },
   {
    "duration": 6,
    "start_time": "2022-12-18T18:20:03.145Z"
   },
   {
    "duration": 350,
    "start_time": "2022-12-18T18:44:22.931Z"
   },
   {
    "duration": 439,
    "start_time": "2022-12-18T18:44:39.336Z"
   },
   {
    "duration": 323,
    "start_time": "2022-12-18T18:45:02.313Z"
   },
   {
    "duration": 381,
    "start_time": "2022-12-18T18:45:26.631Z"
   },
   {
    "duration": 7,
    "start_time": "2022-12-18T19:13:35.691Z"
   },
   {
    "duration": 5,
    "start_time": "2022-12-18T19:14:12.023Z"
   },
   {
    "duration": 1196,
    "start_time": "2022-12-19T09:41:02.130Z"
   },
   {
    "duration": 64,
    "start_time": "2022-12-19T09:41:03.328Z"
   },
   {
    "duration": 3,
    "start_time": "2022-12-19T09:41:03.394Z"
   },
   {
    "duration": 30,
    "start_time": "2022-12-19T09:41:03.399Z"
   },
   {
    "duration": 37,
    "start_time": "2022-12-19T09:41:03.430Z"
   },
   {
    "duration": 17,
    "start_time": "2022-12-19T09:41:03.468Z"
   },
   {
    "duration": 23,
    "start_time": "2022-12-19T09:41:03.487Z"
   },
   {
    "duration": 24,
    "start_time": "2022-12-19T09:41:03.512Z"
   },
   {
    "duration": 26,
    "start_time": "2022-12-19T09:41:03.537Z"
   },
   {
    "duration": 19,
    "start_time": "2022-12-19T09:41:03.567Z"
   },
   {
    "duration": 305,
    "start_time": "2022-12-19T09:41:03.587Z"
   },
   {
    "duration": 5,
    "start_time": "2022-12-19T09:41:03.894Z"
   },
   {
    "duration": 1205,
    "start_time": "2022-12-19T09:41:03.901Z"
   },
   {
    "duration": 426,
    "start_time": "2022-12-19T09:41:05.108Z"
   },
   {
    "duration": 381,
    "start_time": "2022-12-19T09:41:05.537Z"
   },
   {
    "duration": 6,
    "start_time": "2022-12-19T09:41:05.919Z"
   },
   {
    "duration": 34,
    "start_time": "2022-12-19T09:41:05.927Z"
   },
   {
    "duration": 6,
    "start_time": "2022-12-19T09:41:05.964Z"
   },
   {
    "duration": 379,
    "start_time": "2022-12-19T09:41:05.978Z"
   },
   {
    "duration": 6,
    "start_time": "2022-12-19T09:41:06.359Z"
   },
   {
    "duration": 11,
    "start_time": "2022-12-19T09:41:06.378Z"
   },
   {
    "duration": 15,
    "start_time": "2022-12-19T09:41:06.392Z"
   },
   {
    "duration": 206,
    "start_time": "2022-12-19T09:41:06.408Z"
   },
   {
    "duration": 125,
    "start_time": "2022-12-19T09:41:06.616Z"
   },
   {
    "duration": 104,
    "start_time": "2022-12-19T09:41:06.743Z"
   },
   {
    "duration": 162,
    "start_time": "2022-12-19T09:41:06.849Z"
   },
   {
    "duration": 9,
    "start_time": "2022-12-19T09:41:07.014Z"
   },
   {
    "duration": 12,
    "start_time": "2022-12-19T09:41:07.026Z"
   },
   {
    "duration": 41,
    "start_time": "2022-12-19T09:41:07.039Z"
   },
   {
    "duration": 337,
    "start_time": "2022-12-19T09:41:07.083Z"
   },
   {
    "duration": 556,
    "start_time": "2022-12-19T09:41:07.422Z"
   },
   {
    "duration": 399,
    "start_time": "2022-12-19T09:41:07.981Z"
   },
   {
    "duration": 3,
    "start_time": "2022-12-19T09:41:08.382Z"
   },
   {
    "duration": 18,
    "start_time": "2022-12-19T09:41:08.387Z"
   },
   {
    "duration": 9,
    "start_time": "2022-12-19T09:41:08.407Z"
   },
   {
    "duration": 60,
    "start_time": "2022-12-19T09:41:08.418Z"
   },
   {
    "duration": 52,
    "start_time": "2022-12-19T15:34:58.851Z"
   },
   {
    "duration": 1327,
    "start_time": "2022-12-19T15:35:04.681Z"
   },
   {
    "duration": 123,
    "start_time": "2022-12-19T15:35:06.010Z"
   },
   {
    "duration": 4,
    "start_time": "2022-12-19T15:35:06.135Z"
   },
   {
    "duration": 35,
    "start_time": "2022-12-19T15:35:06.140Z"
   },
   {
    "duration": 17,
    "start_time": "2022-12-19T15:35:06.178Z"
   },
   {
    "duration": 36,
    "start_time": "2022-12-19T15:35:06.198Z"
   },
   {
    "duration": 10,
    "start_time": "2022-12-19T15:35:06.236Z"
   },
   {
    "duration": 34,
    "start_time": "2022-12-19T15:35:06.248Z"
   },
   {
    "duration": 31,
    "start_time": "2022-12-19T15:35:06.284Z"
   },
   {
    "duration": 18,
    "start_time": "2022-12-19T15:35:06.317Z"
   },
   {
    "duration": 265,
    "start_time": "2022-12-19T15:35:06.337Z"
   },
   {
    "duration": 5,
    "start_time": "2022-12-19T15:35:06.604Z"
   },
   {
    "duration": 1145,
    "start_time": "2022-12-19T15:35:06.611Z"
   },
   {
    "duration": 374,
    "start_time": "2022-12-19T15:35:07.759Z"
   },
   {
    "duration": 354,
    "start_time": "2022-12-19T15:35:08.135Z"
   },
   {
    "duration": 186,
    "start_time": "2022-12-19T15:36:15.782Z"
   },
   {
    "duration": 81,
    "start_time": "2022-12-20T03:11:45.732Z"
   },
   {
    "duration": 1526,
    "start_time": "2022-12-20T03:11:51.005Z"
   },
   {
    "duration": 262,
    "start_time": "2022-12-20T03:11:52.534Z"
   },
   {
    "duration": 4,
    "start_time": "2022-12-20T03:11:52.798Z"
   },
   {
    "duration": 24,
    "start_time": "2022-12-20T03:11:52.804Z"
   },
   {
    "duration": 10,
    "start_time": "2022-12-20T03:11:52.830Z"
   },
   {
    "duration": 18,
    "start_time": "2022-12-20T03:11:52.841Z"
   },
   {
    "duration": 24,
    "start_time": "2022-12-20T03:11:52.861Z"
   },
   {
    "duration": 12,
    "start_time": "2022-12-20T03:11:52.888Z"
   },
   {
    "duration": 105,
    "start_time": "2022-12-20T03:11:58.569Z"
   },
   {
    "duration": 40,
    "start_time": "2022-12-20T03:13:49.721Z"
   },
   {
    "duration": 11,
    "start_time": "2022-12-20T03:15:08.177Z"
   },
   {
    "duration": 11,
    "start_time": "2022-12-20T03:15:40.636Z"
   },
   {
    "duration": 7,
    "start_time": "2022-12-20T03:15:52.624Z"
   },
   {
    "duration": 164,
    "start_time": "2022-12-20T03:16:53.690Z"
   },
   {
    "duration": 186,
    "start_time": "2022-12-20T03:20:30.587Z"
   },
   {
    "duration": 20,
    "start_time": "2022-12-20T03:24:59.526Z"
   },
   {
    "duration": 4,
    "start_time": "2022-12-20T03:25:13.577Z"
   },
   {
    "duration": 110,
    "start_time": "2022-12-20T03:25:13.585Z"
   },
   {
    "duration": 4,
    "start_time": "2022-12-20T03:25:13.697Z"
   },
   {
    "duration": 43,
    "start_time": "2022-12-20T03:25:13.702Z"
   },
   {
    "duration": 75,
    "start_time": "2022-12-20T03:25:13.747Z"
   },
   {
    "duration": 26,
    "start_time": "2022-12-20T03:25:13.825Z"
   },
   {
    "duration": 48,
    "start_time": "2022-12-20T03:25:13.853Z"
   },
   {
    "duration": 34,
    "start_time": "2022-12-20T03:25:13.903Z"
   },
   {
    "duration": 65,
    "start_time": "2022-12-20T03:25:13.939Z"
   },
   {
    "duration": 175,
    "start_time": "2022-12-20T03:25:14.006Z"
   },
   {
    "duration": 347,
    "start_time": "2022-12-20T03:25:14.184Z"
   },
   {
    "duration": 7,
    "start_time": "2022-12-20T03:25:14.534Z"
   },
   {
    "duration": 1356,
    "start_time": "2022-12-20T03:25:14.564Z"
   },
   {
    "duration": 554,
    "start_time": "2022-12-20T03:25:15.923Z"
   },
   {
    "duration": 409,
    "start_time": "2022-12-20T03:25:16.480Z"
   },
   {
    "duration": 7,
    "start_time": "2022-12-20T03:25:16.891Z"
   },
   {
    "duration": 48,
    "start_time": "2022-12-20T03:25:16.899Z"
   },
   {
    "duration": 36,
    "start_time": "2022-12-20T03:25:16.950Z"
   },
   {
    "duration": 401,
    "start_time": "2022-12-20T03:25:16.987Z"
   },
   {
    "duration": 7,
    "start_time": "2022-12-20T03:25:17.390Z"
   },
   {
    "duration": 13,
    "start_time": "2022-12-20T03:25:17.398Z"
   },
   {
    "duration": 12,
    "start_time": "2022-12-20T03:25:17.413Z"
   },
   {
    "duration": 218,
    "start_time": "2022-12-20T03:25:17.427Z"
   },
   {
    "duration": 125,
    "start_time": "2022-12-20T03:25:17.650Z"
   },
   {
    "duration": 114,
    "start_time": "2022-12-20T03:25:17.777Z"
   },
   {
    "duration": 126,
    "start_time": "2022-12-20T03:25:17.893Z"
   },
   {
    "duration": 10,
    "start_time": "2022-12-20T03:25:18.021Z"
   },
   {
    "duration": 22,
    "start_time": "2022-12-20T03:25:18.033Z"
   },
   {
    "duration": 24,
    "start_time": "2022-12-20T03:25:18.059Z"
   },
   {
    "duration": 187,
    "start_time": "2022-12-20T03:25:18.084Z"
   },
   {
    "duration": 199,
    "start_time": "2022-12-20T03:25:18.273Z"
   },
   {
    "duration": 198,
    "start_time": "2022-12-20T03:25:18.474Z"
   },
   {
    "duration": 3,
    "start_time": "2022-12-20T03:25:18.675Z"
   },
   {
    "duration": 12,
    "start_time": "2022-12-20T03:25:18.680Z"
   },
   {
    "duration": 10,
    "start_time": "2022-12-20T03:25:18.694Z"
   },
   {
    "duration": 19,
    "start_time": "2022-12-20T03:25:18.706Z"
   },
   {
    "duration": 1502,
    "start_time": "2022-12-20T03:27:59.114Z"
   },
   {
    "duration": 484,
    "start_time": "2022-12-20T03:29:59.312Z"
   },
   {
    "duration": 566,
    "start_time": "2022-12-20T03:30:13.844Z"
   },
   {
    "duration": 681,
    "start_time": "2022-12-20T03:31:52.570Z"
   },
   {
    "duration": 1560,
    "start_time": "2022-12-20T03:32:16.627Z"
   },
   {
    "duration": 231,
    "start_time": "2022-12-20T03:32:34.525Z"
   },
   {
    "duration": 276,
    "start_time": "2022-12-20T03:32:49.763Z"
   },
   {
    "duration": 287,
    "start_time": "2022-12-20T03:33:36.104Z"
   },
   {
    "duration": 384,
    "start_time": "2022-12-20T03:34:11.529Z"
   },
   {
    "duration": 6,
    "start_time": "2022-12-20T03:35:42.843Z"
   },
   {
    "duration": 34,
    "start_time": "2022-12-20T03:46:11.673Z"
   },
   {
    "duration": 532,
    "start_time": "2022-12-20T03:46:50.431Z"
   },
   {
    "duration": 394,
    "start_time": "2022-12-20T03:47:33.151Z"
   },
   {
    "duration": 277,
    "start_time": "2022-12-20T03:48:39.491Z"
   },
   {
    "duration": 279,
    "start_time": "2022-12-20T04:00:42.706Z"
   },
   {
    "duration": 338,
    "start_time": "2022-12-20T04:01:05.039Z"
   },
   {
    "duration": 24,
    "start_time": "2022-12-20T04:04:35.907Z"
   },
   {
    "duration": 140,
    "start_time": "2022-12-20T04:06:37.586Z"
   },
   {
    "duration": 120,
    "start_time": "2022-12-20T04:06:52.495Z"
   },
   {
    "duration": 158,
    "start_time": "2022-12-20T04:07:03.881Z"
   },
   {
    "duration": 525,
    "start_time": "2022-12-20T04:07:49.237Z"
   },
   {
    "duration": 497,
    "start_time": "2022-12-20T04:07:58.702Z"
   },
   {
    "duration": 514,
    "start_time": "2022-12-20T04:08:12.888Z"
   },
   {
    "duration": 521,
    "start_time": "2022-12-20T04:09:57.650Z"
   },
   {
    "duration": 500,
    "start_time": "2022-12-20T04:10:06.800Z"
   },
   {
    "duration": 527,
    "start_time": "2022-12-20T04:15:04.497Z"
   },
   {
    "duration": 8,
    "start_time": "2022-12-20T04:16:42.738Z"
   },
   {
    "duration": 1671,
    "start_time": "2022-12-20T04:16:46.046Z"
   },
   {
    "duration": 491,
    "start_time": "2022-12-20T04:18:29.505Z"
   },
   {
    "duration": 437,
    "start_time": "2022-12-20T04:18:49.671Z"
   },
   {
    "duration": 387,
    "start_time": "2022-12-20T04:24:03.923Z"
   },
   {
    "duration": 442,
    "start_time": "2022-12-20T04:25:35.632Z"
   },
   {
    "duration": 14,
    "start_time": "2022-12-20T04:26:20.076Z"
   },
   {
    "duration": 622,
    "start_time": "2022-12-20T04:26:28.800Z"
   },
   {
    "duration": 425,
    "start_time": "2022-12-20T04:26:38.628Z"
   },
   {
    "duration": 435,
    "start_time": "2022-12-20T04:26:55.193Z"
   },
   {
    "duration": 416,
    "start_time": "2022-12-20T04:27:12.216Z"
   },
   {
    "duration": 467,
    "start_time": "2022-12-20T04:29:20.792Z"
   },
   {
    "duration": 167,
    "start_time": "2022-12-20T04:33:09.980Z"
   },
   {
    "duration": 356,
    "start_time": "2022-12-20T04:33:22.237Z"
   },
   {
    "duration": 439,
    "start_time": "2022-12-20T04:34:29.436Z"
   },
   {
    "duration": 73,
    "start_time": "2022-12-20T04:36:43.051Z"
   },
   {
    "duration": 3639,
    "start_time": "2022-12-20T04:37:01.684Z"
   },
   {
    "duration": 3301,
    "start_time": "2022-12-20T04:37:30.648Z"
   },
   {
    "duration": 3458,
    "start_time": "2022-12-20T04:38:05.594Z"
   },
   {
    "duration": 3,
    "start_time": "2022-12-20T04:39:31.010Z"
   },
   {
    "duration": 107,
    "start_time": "2022-12-20T04:39:31.016Z"
   },
   {
    "duration": 5,
    "start_time": "2022-12-20T04:39:31.132Z"
   },
   {
    "duration": 36,
    "start_time": "2022-12-20T04:39:31.139Z"
   },
   {
    "duration": 31,
    "start_time": "2022-12-20T04:39:31.180Z"
   },
   {
    "duration": 46,
    "start_time": "2022-12-20T04:39:31.213Z"
   },
   {
    "duration": 11,
    "start_time": "2022-12-20T04:39:31.308Z"
   },
   {
    "duration": 36,
    "start_time": "2022-12-20T04:39:31.322Z"
   },
   {
    "duration": 40,
    "start_time": "2022-12-20T04:39:31.361Z"
   },
   {
    "duration": 2097,
    "start_time": "2022-12-20T04:39:31.403Z"
   },
   {
    "duration": 553,
    "start_time": "2022-12-20T04:39:33.503Z"
   },
   {
    "duration": 7,
    "start_time": "2022-12-20T04:39:34.058Z"
   },
   {
    "duration": 3509,
    "start_time": "2022-12-20T04:39:34.067Z"
   },
   {
    "duration": 800,
    "start_time": "2022-12-20T04:39:37.580Z"
   },
   {
    "duration": 406,
    "start_time": "2022-12-20T04:39:38.382Z"
   },
   {
    "duration": 19,
    "start_time": "2022-12-20T04:39:38.790Z"
   },
   {
    "duration": 17,
    "start_time": "2022-12-20T04:39:38.814Z"
   },
   {
    "duration": 2960,
    "start_time": "2022-12-20T04:39:38.834Z"
   },
   {
    "duration": 106,
    "start_time": "2022-12-20T04:39:41.797Z"
   },
   {
    "duration": 0,
    "start_time": "2022-12-20T04:39:41.905Z"
   },
   {
    "duration": 0,
    "start_time": "2022-12-20T04:39:41.905Z"
   },
   {
    "duration": 0,
    "start_time": "2022-12-20T04:39:41.906Z"
   },
   {
    "duration": 0,
    "start_time": "2022-12-20T04:39:41.907Z"
   },
   {
    "duration": 0,
    "start_time": "2022-12-20T04:39:41.908Z"
   },
   {
    "duration": 0,
    "start_time": "2022-12-20T04:39:41.909Z"
   },
   {
    "duration": 0,
    "start_time": "2022-12-20T04:39:41.912Z"
   },
   {
    "duration": 0,
    "start_time": "2022-12-20T04:39:41.913Z"
   },
   {
    "duration": 0,
    "start_time": "2022-12-20T04:39:41.914Z"
   },
   {
    "duration": 0,
    "start_time": "2022-12-20T04:39:41.915Z"
   },
   {
    "duration": 0,
    "start_time": "2022-12-20T04:39:41.916Z"
   },
   {
    "duration": 0,
    "start_time": "2022-12-20T04:39:41.918Z"
   },
   {
    "duration": 0,
    "start_time": "2022-12-20T04:39:41.919Z"
   },
   {
    "duration": 0,
    "start_time": "2022-12-20T04:39:41.920Z"
   },
   {
    "duration": 0,
    "start_time": "2022-12-20T04:39:41.921Z"
   },
   {
    "duration": 0,
    "start_time": "2022-12-20T04:39:41.922Z"
   },
   {
    "duration": 0,
    "start_time": "2022-12-20T04:39:41.924Z"
   },
   {
    "duration": 20,
    "start_time": "2022-12-20T04:41:07.169Z"
   },
   {
    "duration": 4,
    "start_time": "2022-12-20T04:47:27.632Z"
   },
   {
    "duration": 95,
    "start_time": "2022-12-20T04:47:27.649Z"
   },
   {
    "duration": 4,
    "start_time": "2022-12-20T04:47:27.747Z"
   },
   {
    "duration": 26,
    "start_time": "2022-12-20T04:47:27.754Z"
   },
   {
    "duration": 17,
    "start_time": "2022-12-20T04:47:27.782Z"
   },
   {
    "duration": 16,
    "start_time": "2022-12-20T04:47:27.803Z"
   },
   {
    "duration": 39,
    "start_time": "2022-12-20T04:47:27.821Z"
   },
   {
    "duration": 16,
    "start_time": "2022-12-20T04:47:27.863Z"
   },
   {
    "duration": 25,
    "start_time": "2022-12-20T04:47:27.883Z"
   },
   {
    "duration": 1720,
    "start_time": "2022-12-20T04:47:27.910Z"
   },
   {
    "duration": 517,
    "start_time": "2022-12-20T04:47:29.632Z"
   },
   {
    "duration": 6,
    "start_time": "2022-12-20T04:47:30.151Z"
   },
   {
    "duration": 3846,
    "start_time": "2022-12-20T04:47:30.159Z"
   },
   {
    "duration": 572,
    "start_time": "2022-12-20T04:47:34.007Z"
   },
   {
    "duration": 470,
    "start_time": "2022-12-20T04:47:34.583Z"
   },
   {
    "duration": 19,
    "start_time": "2022-12-20T04:47:35.056Z"
   },
   {
    "duration": 33,
    "start_time": "2022-12-20T04:47:35.078Z"
   },
   {
    "duration": 3107,
    "start_time": "2022-12-20T04:47:35.113Z"
   },
   {
    "duration": 73,
    "start_time": "2022-12-20T04:47:38.222Z"
   },
   {
    "duration": 0,
    "start_time": "2022-12-20T04:47:38.298Z"
   },
   {
    "duration": 0,
    "start_time": "2022-12-20T04:47:38.299Z"
   },
   {
    "duration": 0,
    "start_time": "2022-12-20T04:47:38.301Z"
   },
   {
    "duration": 0,
    "start_time": "2022-12-20T04:47:38.303Z"
   },
   {
    "duration": 0,
    "start_time": "2022-12-20T04:47:38.305Z"
   },
   {
    "duration": 0,
    "start_time": "2022-12-20T04:47:38.306Z"
   },
   {
    "duration": 0,
    "start_time": "2022-12-20T04:47:38.308Z"
   },
   {
    "duration": 0,
    "start_time": "2022-12-20T04:47:38.309Z"
   },
   {
    "duration": 0,
    "start_time": "2022-12-20T04:47:38.311Z"
   },
   {
    "duration": 1,
    "start_time": "2022-12-20T04:47:38.312Z"
   },
   {
    "duration": 0,
    "start_time": "2022-12-20T04:47:38.314Z"
   },
   {
    "duration": 0,
    "start_time": "2022-12-20T04:47:38.316Z"
   },
   {
    "duration": 0,
    "start_time": "2022-12-20T04:47:38.317Z"
   },
   {
    "duration": 0,
    "start_time": "2022-12-20T04:47:38.319Z"
   },
   {
    "duration": 0,
    "start_time": "2022-12-20T04:47:38.320Z"
   },
   {
    "duration": 0,
    "start_time": "2022-12-20T04:47:38.321Z"
   },
   {
    "duration": 0,
    "start_time": "2022-12-20T04:47:38.323Z"
   },
   {
    "duration": 82,
    "start_time": "2022-12-20T04:50:19.032Z"
   },
   {
    "duration": 498,
    "start_time": "2022-12-20T04:50:29.926Z"
   },
   {
    "duration": 7,
    "start_time": "2022-12-20T04:54:19.889Z"
   },
   {
    "duration": 1982,
    "start_time": "2022-12-20T04:56:39.718Z"
   },
   {
    "duration": 691,
    "start_time": "2022-12-20T04:57:12.637Z"
   },
   {
    "duration": 389,
    "start_time": "2022-12-20T04:59:20.052Z"
   },
   {
    "duration": 16,
    "start_time": "2022-12-20T04:59:29.716Z"
   },
   {
    "duration": 6,
    "start_time": "2022-12-20T04:59:34.788Z"
   },
   {
    "duration": 569,
    "start_time": "2022-12-20T04:59:41.744Z"
   },
   {
    "duration": 11,
    "start_time": "2022-12-20T05:00:05.686Z"
   },
   {
    "duration": 15,
    "start_time": "2022-12-20T05:00:09.055Z"
   },
   {
    "duration": 9,
    "start_time": "2022-12-20T05:00:13.900Z"
   },
   {
    "duration": 1086,
    "start_time": "2022-12-20T05:01:33.477Z"
   },
   {
    "duration": 634,
    "start_time": "2022-12-20T05:02:24.850Z"
   },
   {
    "duration": 4,
    "start_time": "2022-12-20T05:13:01.116Z"
   },
   {
    "duration": 113,
    "start_time": "2022-12-20T05:13:01.123Z"
   },
   {
    "duration": 5,
    "start_time": "2022-12-20T05:13:01.238Z"
   },
   {
    "duration": 54,
    "start_time": "2022-12-20T05:13:01.245Z"
   },
   {
    "duration": 16,
    "start_time": "2022-12-20T05:13:01.301Z"
   },
   {
    "duration": 22,
    "start_time": "2022-12-20T05:13:01.319Z"
   },
   {
    "duration": 19,
    "start_time": "2022-12-20T05:13:01.343Z"
   },
   {
    "duration": 17,
    "start_time": "2022-12-20T05:13:01.364Z"
   },
   {
    "duration": 38,
    "start_time": "2022-12-20T05:13:01.384Z"
   },
   {
    "duration": 425,
    "start_time": "2022-12-20T05:13:01.425Z"
   },
   {
    "duration": 369,
    "start_time": "2022-12-20T05:13:01.852Z"
   },
   {
    "duration": 4,
    "start_time": "2022-12-20T05:13:02.223Z"
   },
   {
    "duration": 2818,
    "start_time": "2022-12-20T05:13:02.230Z"
   },
   {
    "duration": 722,
    "start_time": "2022-12-20T05:13:05.052Z"
   },
   {
    "duration": 383,
    "start_time": "2022-12-20T05:13:05.776Z"
   },
   {
    "duration": 18,
    "start_time": "2022-12-20T05:13:06.161Z"
   },
   {
    "duration": 7,
    "start_time": "2022-12-20T05:13:06.182Z"
   },
   {
    "duration": 503,
    "start_time": "2022-12-20T05:13:06.191Z"
   },
   {
    "duration": 72,
    "start_time": "2022-12-20T05:13:06.696Z"
   },
   {
    "duration": 0,
    "start_time": "2022-12-20T05:13:06.770Z"
   },
   {
    "duration": 0,
    "start_time": "2022-12-20T05:13:06.771Z"
   },
   {
    "duration": 0,
    "start_time": "2022-12-20T05:13:06.773Z"
   },
   {
    "duration": 0,
    "start_time": "2022-12-20T05:13:06.775Z"
   },
   {
    "duration": 0,
    "start_time": "2022-12-20T05:13:06.775Z"
   },
   {
    "duration": 0,
    "start_time": "2022-12-20T05:13:06.777Z"
   },
   {
    "duration": 0,
    "start_time": "2022-12-20T05:13:06.778Z"
   },
   {
    "duration": 0,
    "start_time": "2022-12-20T05:13:06.779Z"
   },
   {
    "duration": 0,
    "start_time": "2022-12-20T05:13:06.780Z"
   },
   {
    "duration": 0,
    "start_time": "2022-12-20T05:13:06.781Z"
   },
   {
    "duration": 0,
    "start_time": "2022-12-20T05:13:06.782Z"
   },
   {
    "duration": 0,
    "start_time": "2022-12-20T05:13:06.783Z"
   },
   {
    "duration": 0,
    "start_time": "2022-12-20T05:13:06.784Z"
   },
   {
    "duration": 0,
    "start_time": "2022-12-20T05:13:06.786Z"
   },
   {
    "duration": 0,
    "start_time": "2022-12-20T05:13:06.787Z"
   },
   {
    "duration": 0,
    "start_time": "2022-12-20T05:13:06.788Z"
   },
   {
    "duration": 0,
    "start_time": "2022-12-20T05:13:06.790Z"
   },
   {
    "duration": 388,
    "start_time": "2022-12-20T05:13:51.204Z"
   },
   {
    "duration": 4,
    "start_time": "2022-12-20T05:14:09.095Z"
   },
   {
    "duration": 94,
    "start_time": "2022-12-20T05:14:09.102Z"
   },
   {
    "duration": 5,
    "start_time": "2022-12-20T05:14:09.198Z"
   },
   {
    "duration": 29,
    "start_time": "2022-12-20T05:14:09.205Z"
   },
   {
    "duration": 16,
    "start_time": "2022-12-20T05:14:09.250Z"
   },
   {
    "duration": 23,
    "start_time": "2022-12-20T05:14:09.269Z"
   },
   {
    "duration": 14,
    "start_time": "2022-12-20T05:14:09.295Z"
   },
   {
    "duration": 40,
    "start_time": "2022-12-20T05:14:09.311Z"
   },
   {
    "duration": 28,
    "start_time": "2022-12-20T05:14:09.354Z"
   },
   {
    "duration": 596,
    "start_time": "2022-12-20T05:14:09.384Z"
   },
   {
    "duration": 464,
    "start_time": "2022-12-20T05:14:09.982Z"
   },
   {
    "duration": 7,
    "start_time": "2022-12-20T05:14:10.450Z"
   },
   {
    "duration": 3313,
    "start_time": "2022-12-20T05:14:10.459Z"
   },
   {
    "duration": 618,
    "start_time": "2022-12-20T05:14:13.777Z"
   },
   {
    "duration": 457,
    "start_time": "2022-12-20T05:14:14.397Z"
   },
   {
    "duration": 0,
    "start_time": "2022-12-20T05:14:14.856Z"
   },
   {
    "duration": 0,
    "start_time": "2022-12-20T05:14:14.857Z"
   },
   {
    "duration": 0,
    "start_time": "2022-12-20T05:14:14.858Z"
   },
   {
    "duration": 0,
    "start_time": "2022-12-20T05:14:14.861Z"
   },
   {
    "duration": 0,
    "start_time": "2022-12-20T05:14:14.862Z"
   },
   {
    "duration": 0,
    "start_time": "2022-12-20T05:14:14.863Z"
   },
   {
    "duration": 0,
    "start_time": "2022-12-20T05:14:14.865Z"
   },
   {
    "duration": 0,
    "start_time": "2022-12-20T05:14:14.866Z"
   },
   {
    "duration": 0,
    "start_time": "2022-12-20T05:14:14.867Z"
   },
   {
    "duration": 0,
    "start_time": "2022-12-20T05:14:14.869Z"
   },
   {
    "duration": 0,
    "start_time": "2022-12-20T05:14:14.871Z"
   },
   {
    "duration": 0,
    "start_time": "2022-12-20T05:14:14.873Z"
   },
   {
    "duration": 0,
    "start_time": "2022-12-20T05:14:14.875Z"
   },
   {
    "duration": 0,
    "start_time": "2022-12-20T05:14:14.876Z"
   },
   {
    "duration": 0,
    "start_time": "2022-12-20T05:14:14.878Z"
   },
   {
    "duration": 0,
    "start_time": "2022-12-20T05:14:14.879Z"
   },
   {
    "duration": 0,
    "start_time": "2022-12-20T05:14:14.881Z"
   },
   {
    "duration": 0,
    "start_time": "2022-12-20T05:14:14.885Z"
   },
   {
    "duration": 0,
    "start_time": "2022-12-20T05:14:14.887Z"
   },
   {
    "duration": 0,
    "start_time": "2022-12-20T05:14:14.888Z"
   },
   {
    "duration": 0,
    "start_time": "2022-12-20T05:14:14.890Z"
   },
   {
    "duration": 7,
    "start_time": "2022-12-20T05:14:24.195Z"
   },
   {
    "duration": 23,
    "start_time": "2022-12-20T05:14:29.355Z"
   },
   {
    "duration": 517,
    "start_time": "2022-12-20T05:14:55.095Z"
   },
   {
    "duration": 2176,
    "start_time": "2022-12-20T05:15:13.100Z"
   },
   {
    "duration": 1206,
    "start_time": "2022-12-20T05:17:11.275Z"
   },
   {
    "duration": 1090,
    "start_time": "2022-12-20T05:17:24.867Z"
   },
   {
    "duration": 3,
    "start_time": "2022-12-20T05:17:53.907Z"
   },
   {
    "duration": 99,
    "start_time": "2022-12-20T05:17:53.913Z"
   },
   {
    "duration": 4,
    "start_time": "2022-12-20T05:17:54.014Z"
   },
   {
    "duration": 35,
    "start_time": "2022-12-20T05:17:54.020Z"
   },
   {
    "duration": 37,
    "start_time": "2022-12-20T05:17:54.057Z"
   },
   {
    "duration": 29,
    "start_time": "2022-12-20T05:17:54.095Z"
   },
   {
    "duration": 16,
    "start_time": "2022-12-20T05:17:54.126Z"
   },
   {
    "duration": 36,
    "start_time": "2022-12-20T05:17:54.144Z"
   },
   {
    "duration": 38,
    "start_time": "2022-12-20T05:17:54.183Z"
   },
   {
    "duration": 475,
    "start_time": "2022-12-20T05:17:54.223Z"
   },
   {
    "duration": 436,
    "start_time": "2022-12-20T05:17:54.700Z"
   },
   {
    "duration": 13,
    "start_time": "2022-12-20T05:17:55.138Z"
   },
   {
    "duration": 2836,
    "start_time": "2022-12-20T05:17:55.155Z"
   },
   {
    "duration": 765,
    "start_time": "2022-12-20T05:17:57.993Z"
   },
   {
    "duration": 340,
    "start_time": "2022-12-20T05:17:58.760Z"
   },
   {
    "duration": 1,
    "start_time": "2022-12-20T05:17:59.101Z"
   },
   {
    "duration": 0,
    "start_time": "2022-12-20T05:17:59.103Z"
   },
   {
    "duration": 0,
    "start_time": "2022-12-20T05:17:59.104Z"
   },
   {
    "duration": 0,
    "start_time": "2022-12-20T05:17:59.106Z"
   },
   {
    "duration": 0,
    "start_time": "2022-12-20T05:17:59.107Z"
   },
   {
    "duration": 0,
    "start_time": "2022-12-20T05:17:59.108Z"
   },
   {
    "duration": 0,
    "start_time": "2022-12-20T05:17:59.109Z"
   },
   {
    "duration": 0,
    "start_time": "2022-12-20T05:17:59.110Z"
   },
   {
    "duration": 0,
    "start_time": "2022-12-20T05:17:59.111Z"
   },
   {
    "duration": 0,
    "start_time": "2022-12-20T05:17:59.112Z"
   },
   {
    "duration": 0,
    "start_time": "2022-12-20T05:17:59.113Z"
   },
   {
    "duration": 0,
    "start_time": "2022-12-20T05:17:59.114Z"
   },
   {
    "duration": 0,
    "start_time": "2022-12-20T05:17:59.115Z"
   },
   {
    "duration": 0,
    "start_time": "2022-12-20T05:17:59.116Z"
   },
   {
    "duration": 0,
    "start_time": "2022-12-20T05:17:59.116Z"
   },
   {
    "duration": 0,
    "start_time": "2022-12-20T05:17:59.117Z"
   },
   {
    "duration": 0,
    "start_time": "2022-12-20T05:17:59.118Z"
   },
   {
    "duration": 0,
    "start_time": "2022-12-20T05:17:59.153Z"
   },
   {
    "duration": 0,
    "start_time": "2022-12-20T05:17:59.155Z"
   },
   {
    "duration": 0,
    "start_time": "2022-12-20T05:17:59.157Z"
   },
   {
    "duration": 0,
    "start_time": "2022-12-20T05:17:59.159Z"
   },
   {
    "duration": 1322,
    "start_time": "2022-12-20T05:19:37.185Z"
   },
   {
    "duration": 487,
    "start_time": "2022-12-20T05:20:11.879Z"
   },
   {
    "duration": 1343,
    "start_time": "2022-12-20T05:20:45.541Z"
   },
   {
    "duration": 3,
    "start_time": "2022-12-20T05:23:44.632Z"
   },
   {
    "duration": 478,
    "start_time": "2022-12-20T05:24:09.267Z"
   },
   {
    "duration": 18,
    "start_time": "2022-12-20T05:24:18.312Z"
   },
   {
    "duration": 7,
    "start_time": "2022-12-20T05:25:38.667Z"
   },
   {
    "duration": 2613,
    "start_time": "2022-12-20T05:26:18.576Z"
   },
   {
    "duration": 1351,
    "start_time": "2022-12-20T05:28:41.420Z"
   },
   {
    "duration": 1400,
    "start_time": "2022-12-20T05:28:51.897Z"
   },
   {
    "duration": 77,
    "start_time": "2022-12-20T05:31:08.462Z"
   },
   {
    "duration": 432,
    "start_time": "2022-12-20T05:31:23.695Z"
   },
   {
    "duration": 8,
    "start_time": "2022-12-20T05:32:53.027Z"
   },
   {
    "duration": 14,
    "start_time": "2022-12-20T05:32:55.667Z"
   },
   {
    "duration": 13,
    "start_time": "2022-12-20T05:33:06.637Z"
   },
   {
    "duration": 1108,
    "start_time": "2022-12-20T05:33:24.743Z"
   },
   {
    "duration": 236,
    "start_time": "2022-12-20T05:33:52.293Z"
   },
   {
    "duration": 290,
    "start_time": "2022-12-20T05:33:59.740Z"
   },
   {
    "duration": 237,
    "start_time": "2022-12-20T05:34:25.145Z"
   },
   {
    "duration": 1182,
    "start_time": "2022-12-20T05:36:42.695Z"
   },
   {
    "duration": 313,
    "start_time": "2022-12-20T05:37:07.925Z"
   },
   {
    "duration": 216,
    "start_time": "2022-12-20T05:37:52.724Z"
   },
   {
    "duration": 215,
    "start_time": "2022-12-20T05:38:03.596Z"
   },
   {
    "duration": 207,
    "start_time": "2022-12-20T05:38:15.476Z"
   },
   {
    "duration": 305,
    "start_time": "2022-12-20T05:38:27.154Z"
   },
   {
    "duration": 221,
    "start_time": "2022-12-20T05:42:34.289Z"
   },
   {
    "duration": 223,
    "start_time": "2022-12-20T05:42:40.199Z"
   },
   {
    "duration": 226,
    "start_time": "2022-12-20T05:43:20.466Z"
   },
   {
    "duration": 134,
    "start_time": "2022-12-20T05:55:38.183Z"
   },
   {
    "duration": 133,
    "start_time": "2022-12-20T05:55:47.089Z"
   },
   {
    "duration": 130,
    "start_time": "2022-12-20T05:55:55.852Z"
   },
   {
    "duration": 112,
    "start_time": "2022-12-20T05:56:02.405Z"
   },
   {
    "duration": 12,
    "start_time": "2022-12-20T05:56:32.723Z"
   },
   {
    "duration": 12,
    "start_time": "2022-12-20T05:56:42.068Z"
   },
   {
    "duration": 10,
    "start_time": "2022-12-20T05:56:45.426Z"
   },
   {
    "duration": 1247,
    "start_time": "2022-12-20T05:56:52.467Z"
   },
   {
    "duration": 283,
    "start_time": "2022-12-20T05:57:09.212Z"
   },
   {
    "duration": 202,
    "start_time": "2022-12-20T05:57:16.923Z"
   },
   {
    "duration": 195,
    "start_time": "2022-12-20T05:57:46.735Z"
   },
   {
    "duration": 98,
    "start_time": "2022-12-20T05:58:06.900Z"
   },
   {
    "duration": 203,
    "start_time": "2022-12-20T05:58:21.842Z"
   },
   {
    "duration": 142,
    "start_time": "2022-12-20T06:00:28.735Z"
   },
   {
    "duration": 109,
    "start_time": "2022-12-20T06:02:14.792Z"
   },
   {
    "duration": 146,
    "start_time": "2022-12-20T06:02:54.333Z"
   },
   {
    "duration": 504,
    "start_time": "2022-12-20T06:04:03.641Z"
   },
   {
    "duration": 204,
    "start_time": "2022-12-20T06:04:13.739Z"
   },
   {
    "duration": 208,
    "start_time": "2022-12-20T06:04:43.022Z"
   },
   {
    "duration": 266,
    "start_time": "2022-12-20T06:05:45.693Z"
   },
   {
    "duration": 3,
    "start_time": "2022-12-20T06:06:10.614Z"
   },
   {
    "duration": 460,
    "start_time": "2022-12-20T06:14:13.492Z"
   },
   {
    "duration": 470,
    "start_time": "2022-12-20T06:14:19.939Z"
   },
   {
    "duration": 3219,
    "start_time": "2022-12-20T06:14:27.907Z"
   },
   {
    "duration": 559,
    "start_time": "2022-12-20T06:14:57.599Z"
   },
   {
    "duration": 410,
    "start_time": "2022-12-20T06:15:12.721Z"
   },
   {
    "duration": 15,
    "start_time": "2022-12-20T06:15:34.226Z"
   },
   {
    "duration": 10,
    "start_time": "2022-12-20T06:15:49.453Z"
   },
   {
    "duration": 661,
    "start_time": "2022-12-20T06:16:00.818Z"
   },
   {
    "duration": 47,
    "start_time": "2022-12-20T06:21:12.964Z"
   },
   {
    "duration": 17,
    "start_time": "2022-12-20T06:22:01.492Z"
   },
   {
    "duration": 37,
    "start_time": "2022-12-20T06:22:49.741Z"
   },
   {
    "duration": 15,
    "start_time": "2022-12-20T06:23:43.023Z"
   },
   {
    "duration": 673,
    "start_time": "2022-12-20T06:26:06.930Z"
   },
   {
    "duration": 444,
    "start_time": "2022-12-20T06:31:46.975Z"
   },
   {
    "duration": 4,
    "start_time": "2022-12-20T06:50:20.881Z"
   },
   {
    "duration": 80,
    "start_time": "2022-12-20T06:50:20.888Z"
   },
   {
    "duration": 4,
    "start_time": "2022-12-20T06:50:20.970Z"
   },
   {
    "duration": 29,
    "start_time": "2022-12-20T06:50:20.976Z"
   },
   {
    "duration": 13,
    "start_time": "2022-12-20T06:50:21.008Z"
   },
   {
    "duration": 12,
    "start_time": "2022-12-20T06:50:21.022Z"
   },
   {
    "duration": 11,
    "start_time": "2022-12-20T06:50:21.051Z"
   },
   {
    "duration": 12,
    "start_time": "2022-12-20T06:50:21.118Z"
   },
   {
    "duration": 31,
    "start_time": "2022-12-20T06:50:21.132Z"
   },
   {
    "duration": 556,
    "start_time": "2022-12-20T06:50:21.172Z"
   },
   {
    "duration": 400,
    "start_time": "2022-12-20T06:50:21.730Z"
   },
   {
    "duration": 5,
    "start_time": "2022-12-20T06:50:22.133Z"
   },
   {
    "duration": 3072,
    "start_time": "2022-12-20T06:50:22.153Z"
   },
   {
    "duration": 559,
    "start_time": "2022-12-20T06:50:25.227Z"
   },
   {
    "duration": 432,
    "start_time": "2022-12-20T06:50:25.788Z"
   },
   {
    "duration": 50,
    "start_time": "2022-12-20T06:50:26.222Z"
   },
   {
    "duration": 12,
    "start_time": "2022-12-20T06:50:26.274Z"
   },
   {
    "duration": 493,
    "start_time": "2022-12-20T06:50:26.289Z"
   },
   {
    "duration": 8,
    "start_time": "2022-12-20T06:50:26.784Z"
   },
   {
    "duration": 17,
    "start_time": "2022-12-20T06:50:26.794Z"
   },
   {
    "duration": 12,
    "start_time": "2022-12-20T06:50:26.814Z"
   },
   {
    "duration": 257,
    "start_time": "2022-12-20T06:50:26.852Z"
   },
   {
    "duration": 299,
    "start_time": "2022-12-20T06:50:27.112Z"
   },
   {
    "duration": 140,
    "start_time": "2022-12-20T06:50:27.413Z"
   },
   {
    "duration": 138,
    "start_time": "2022-12-20T06:50:27.561Z"
   },
   {
    "duration": 128,
    "start_time": "2022-12-20T06:50:27.701Z"
   },
   {
    "duration": 9,
    "start_time": "2022-12-20T06:50:27.831Z"
   },
   {
    "duration": 19,
    "start_time": "2022-12-20T06:50:27.857Z"
   },
   {
    "duration": 14,
    "start_time": "2022-12-20T06:50:27.878Z"
   },
   {
    "duration": 223,
    "start_time": "2022-12-20T06:50:27.894Z"
   },
   {
    "duration": 272,
    "start_time": "2022-12-20T06:50:28.119Z"
   },
   {
    "duration": 261,
    "start_time": "2022-12-20T06:50:28.393Z"
   },
   {
    "duration": 17,
    "start_time": "2022-12-20T06:50:28.660Z"
   },
   {
    "duration": 19,
    "start_time": "2022-12-20T06:50:28.679Z"
   },
   {
    "duration": 16,
    "start_time": "2022-12-20T06:50:28.700Z"
   }
  ],
  "kernelspec": {
   "display_name": "Python 3 (ipykernel)",
   "language": "python",
   "name": "python3"
  },
  "language_info": {
   "codemirror_mode": {
    "name": "ipython",
    "version": 3
   },
   "file_extension": ".py",
   "mimetype": "text/x-python",
   "name": "python",
   "nbconvert_exporter": "python",
   "pygments_lexer": "ipython3",
   "version": "3.9.13"
  },
  "toc": {
   "base_numbering": 1,
   "nav_menu": {},
   "number_sections": true,
   "sideBar": true,
   "skip_h1_title": true,
   "title_cell": "Table of Contents",
   "title_sidebar": "Contents",
   "toc_cell": false,
   "toc_position": {
    "height": "calc(100% - 180px)",
    "left": "10px",
    "top": "150px",
    "width": "249px"
   },
   "toc_section_display": true,
   "toc_window_display": false
  }
 },
 "nbformat": 4,
 "nbformat_minor": 2
}

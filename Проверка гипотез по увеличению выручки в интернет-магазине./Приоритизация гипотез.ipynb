{
 "cells": [
  {
   "cell_type": "markdown",
   "metadata": {},
   "source": [
    "Отдел маркетинга крупного интернет-магазина подготовил список гипотез по увеличению выручки.\n",
    "\n",
    "**Задача:**\n",
    "1. Приоритизировать 9 гипотез, с целью выяснить какую из гипотез целесообразнее проветить в первую очередь.\n",
    "2. Построить графики кумулятивной выручки, среднего чека и среднего количества заказов на посетителя по группам, а также графики их относительного изменения, с целью анализа динамики этих метрик за время проведения теста.\n",
    "3. Посчитать статистическую значимость различий в среднем числе заказов на пользователя и среднем чеке между группами по «сырым» и по «очищенным» данным с целью выяснить есть ли смысл вводить предлогаемые изменения."
   ]
  },
  {
   "cell_type": "code",
   "execution_count": 1,
   "metadata": {},
   "outputs": [],
   "source": [
    "import pandas as pd\n",
    "import datetime as dt\n",
    "import numpy as np\n",
    "import scipy.stats as stats\n",
    "import matplotlib.pyplot as plt\n",
    "from pandas.plotting import register_matplotlib_converters\n",
    "import warnings\n",
    "# конвертеры, которые позволяют использовать типы pandas в matplotlib  \n",
    "register_matplotlib_converters()"
   ]
  },
  {
   "cell_type": "markdown",
   "metadata": {},
   "source": [
    "# Часть 1. Приоритизация гипотез."
   ]
  },
  {
   "cell_type": "code",
   "execution_count": 30,
   "metadata": {},
   "outputs": [
    {
     "data": {
      "text/html": [
       "<div>\n",
       "<style scoped>\n",
       "    .dataframe tbody tr th:only-of-type {\n",
       "        vertical-align: middle;\n",
       "    }\n",
       "\n",
       "    .dataframe tbody tr th {\n",
       "        vertical-align: top;\n",
       "    }\n",
       "\n",
       "    .dataframe thead th {\n",
       "        text-align: right;\n",
       "    }\n",
       "</style>\n",
       "<table border=\"1\" class=\"dataframe\">\n",
       "  <thead>\n",
       "    <tr style=\"text-align: right;\">\n",
       "      <th></th>\n",
       "      <th>Hypothesis</th>\n",
       "      <th>Reach</th>\n",
       "      <th>Impact</th>\n",
       "      <th>Confidence</th>\n",
       "      <th>Efforts</th>\n",
       "    </tr>\n",
       "  </thead>\n",
       "  <tbody>\n",
       "    <tr>\n",
       "      <th>0</th>\n",
       "      <td>Добавить два новых канала привлечения трафика, что позволит привлекать на 30% больше пользователей</td>\n",
       "      <td>3</td>\n",
       "      <td>10</td>\n",
       "      <td>8</td>\n",
       "      <td>6</td>\n",
       "    </tr>\n",
       "    <tr>\n",
       "      <th>1</th>\n",
       "      <td>Запустить собственную службу доставки, что сократит срок доставки заказов</td>\n",
       "      <td>2</td>\n",
       "      <td>5</td>\n",
       "      <td>4</td>\n",
       "      <td>10</td>\n",
       "    </tr>\n",
       "    <tr>\n",
       "      <th>2</th>\n",
       "      <td>Добавить блоки рекомендаций товаров на сайт интернет магазина, чтобы повысить конверсию и средний чек заказа</td>\n",
       "      <td>8</td>\n",
       "      <td>3</td>\n",
       "      <td>7</td>\n",
       "      <td>3</td>\n",
       "    </tr>\n",
       "    <tr>\n",
       "      <th>3</th>\n",
       "      <td>Изменить структура категорий, что увеличит конверсию, т.к. пользователи быстрее найдут нужный товар</td>\n",
       "      <td>8</td>\n",
       "      <td>3</td>\n",
       "      <td>3</td>\n",
       "      <td>8</td>\n",
       "    </tr>\n",
       "    <tr>\n",
       "      <th>4</th>\n",
       "      <td>Изменить цвет фона главной страницы, чтобы увеличить вовлеченность пользователей</td>\n",
       "      <td>3</td>\n",
       "      <td>1</td>\n",
       "      <td>1</td>\n",
       "      <td>1</td>\n",
       "    </tr>\n",
       "    <tr>\n",
       "      <th>5</th>\n",
       "      <td>Добавить страницу отзывов клиентов о магазине, что позволит увеличить количество заказов</td>\n",
       "      <td>3</td>\n",
       "      <td>2</td>\n",
       "      <td>2</td>\n",
       "      <td>3</td>\n",
       "    </tr>\n",
       "    <tr>\n",
       "      <th>6</th>\n",
       "      <td>Показать на главной странице баннеры с актуальными акциями и распродажами, чтобы увеличить конверсию</td>\n",
       "      <td>5</td>\n",
       "      <td>3</td>\n",
       "      <td>8</td>\n",
       "      <td>3</td>\n",
       "    </tr>\n",
       "    <tr>\n",
       "      <th>7</th>\n",
       "      <td>Добавить форму подписки на все основные страницы, чтобы собрать базу клиентов для email-рассылок</td>\n",
       "      <td>10</td>\n",
       "      <td>7</td>\n",
       "      <td>8</td>\n",
       "      <td>5</td>\n",
       "    </tr>\n",
       "    <tr>\n",
       "      <th>8</th>\n",
       "      <td>Запустить акцию, дающую скидку на товар в день рождения</td>\n",
       "      <td>1</td>\n",
       "      <td>9</td>\n",
       "      <td>9</td>\n",
       "      <td>5</td>\n",
       "    </tr>\n",
       "  </tbody>\n",
       "</table>\n",
       "</div>"
      ],
      "text/plain": [
       "                                                                                                     Hypothesis  \\\n",
       "0            Добавить два новых канала привлечения трафика, что позволит привлекать на 30% больше пользователей   \n",
       "1                                     Запустить собственную службу доставки, что сократит срок доставки заказов   \n",
       "2  Добавить блоки рекомендаций товаров на сайт интернет магазина, чтобы повысить конверсию и средний чек заказа   \n",
       "3           Изменить структура категорий, что увеличит конверсию, т.к. пользователи быстрее найдут нужный товар   \n",
       "4                              Изменить цвет фона главной страницы, чтобы увеличить вовлеченность пользователей   \n",
       "5                      Добавить страницу отзывов клиентов о магазине, что позволит увеличить количество заказов   \n",
       "6          Показать на главной странице баннеры с актуальными акциями и распродажами, чтобы увеличить конверсию   \n",
       "7              Добавить форму подписки на все основные страницы, чтобы собрать базу клиентов для email-рассылок   \n",
       "8                                                       Запустить акцию, дающую скидку на товар в день рождения   \n",
       "\n",
       "   Reach  Impact  Confidence  Efforts  \n",
       "0      3      10           8        6  \n",
       "1      2       5           4       10  \n",
       "2      8       3           7        3  \n",
       "3      8       3           3        8  \n",
       "4      3       1           1        1  \n",
       "5      3       2           2        3  \n",
       "6      5       3           8        3  \n",
       "7     10       7           8        5  \n",
       "8      1       9           9        5  "
      ]
     },
     "execution_count": 30,
     "metadata": {},
     "output_type": "execute_result"
    }
   ],
   "source": [
    "hypothesis = pd.read_csv('C:\\\\Users\\\\78585\\\\Desktop\\\\Анализ данных\\\\Проекты\\\\Датафреймы\\\\hypothesis.csv')\n",
    "pd.set_option('display.max_colwidth', None)\n",
    "hypothesis"
   ]
  },
  {
   "cell_type": "markdown",
   "metadata": {},
   "source": [
    "Hypothesis - краткое описание гипотезы,  \n",
    "Reach - охват пользователей по  10 бальной шкале,  \n",
    "Impact - влияние на пользователей по  бальной шкале,  \n",
    "Confedence - уверенность в гипотезе по 10 бальной шкале,  \n",
    "Efforts - затраты ресурсов на проверу гипотезы по 10 бальной шкале. Чем больше значение , тем дороже проверка гипотезы."
   ]
  },
  {
   "cell_type": "code",
   "execution_count": 31,
   "metadata": {},
   "outputs": [],
   "source": [
    "hypothesis.columns = hypothesis.columns.str.lower()"
   ]
  },
  {
   "cell_type": "code",
   "execution_count": 38,
   "metadata": {},
   "outputs": [
    {
     "data": {
      "text/html": [
       "<div>\n",
       "<style scoped>\n",
       "    .dataframe tbody tr th:only-of-type {\n",
       "        vertical-align: middle;\n",
       "    }\n",
       "\n",
       "    .dataframe tbody tr th {\n",
       "        vertical-align: top;\n",
       "    }\n",
       "\n",
       "    .dataframe thead th {\n",
       "        text-align: right;\n",
       "    }\n",
       "</style>\n",
       "<table border=\"1\" class=\"dataframe\">\n",
       "  <thead>\n",
       "    <tr style=\"text-align: right;\">\n",
       "      <th></th>\n",
       "      <th>hypothesis</th>\n",
       "      <th>ICE</th>\n",
       "    </tr>\n",
       "  </thead>\n",
       "  <tbody>\n",
       "    <tr>\n",
       "      <th>8</th>\n",
       "      <td>Запустить акцию, дающую скидку на товар в день рождения</td>\n",
       "      <td>16.20</td>\n",
       "    </tr>\n",
       "    <tr>\n",
       "      <th>0</th>\n",
       "      <td>Добавить два новых канала привлечения трафика, что позволит привлекать на 30% больше пользователей</td>\n",
       "      <td>13.33</td>\n",
       "    </tr>\n",
       "    <tr>\n",
       "      <th>7</th>\n",
       "      <td>Добавить форму подписки на все основные страницы, чтобы собрать базу клиентов для email-рассылок</td>\n",
       "      <td>11.20</td>\n",
       "    </tr>\n",
       "    <tr>\n",
       "      <th>6</th>\n",
       "      <td>Показать на главной странице баннеры с актуальными акциями и распродажами, чтобы увеличить конверсию</td>\n",
       "      <td>8.00</td>\n",
       "    </tr>\n",
       "    <tr>\n",
       "      <th>2</th>\n",
       "      <td>Добавить блоки рекомендаций товаров на сайт интернет магазина, чтобы повысить конверсию и средний чек заказа</td>\n",
       "      <td>7.00</td>\n",
       "    </tr>\n",
       "    <tr>\n",
       "      <th>1</th>\n",
       "      <td>Запустить собственную службу доставки, что сократит срок доставки заказов</td>\n",
       "      <td>2.00</td>\n",
       "    </tr>\n",
       "    <tr>\n",
       "      <th>5</th>\n",
       "      <td>Добавить страницу отзывов клиентов о магазине, что позволит увеличить количество заказов</td>\n",
       "      <td>1.33</td>\n",
       "    </tr>\n",
       "    <tr>\n",
       "      <th>3</th>\n",
       "      <td>Изменить структура категорий, что увеличит конверсию, т.к. пользователи быстрее найдут нужный товар</td>\n",
       "      <td>1.12</td>\n",
       "    </tr>\n",
       "    <tr>\n",
       "      <th>4</th>\n",
       "      <td>Изменить цвет фона главной страницы, чтобы увеличить вовлеченность пользователей</td>\n",
       "      <td>1.00</td>\n",
       "    </tr>\n",
       "  </tbody>\n",
       "</table>\n",
       "</div>"
      ],
      "text/plain": [
       "                                                                                                     hypothesis  \\\n",
       "8                                                       Запустить акцию, дающую скидку на товар в день рождения   \n",
       "0            Добавить два новых канала привлечения трафика, что позволит привлекать на 30% больше пользователей   \n",
       "7              Добавить форму подписки на все основные страницы, чтобы собрать базу клиентов для email-рассылок   \n",
       "6          Показать на главной странице баннеры с актуальными акциями и распродажами, чтобы увеличить конверсию   \n",
       "2  Добавить блоки рекомендаций товаров на сайт интернет магазина, чтобы повысить конверсию и средний чек заказа   \n",
       "1                                     Запустить собственную службу доставки, что сократит срок доставки заказов   \n",
       "5                      Добавить страницу отзывов клиентов о магазине, что позволит увеличить количество заказов   \n",
       "3           Изменить структура категорий, что увеличит конверсию, т.к. пользователи быстрее найдут нужный товар   \n",
       "4                              Изменить цвет фона главной страницы, чтобы увеличить вовлеченность пользователей   \n",
       "\n",
       "     ICE  \n",
       "8  16.20  \n",
       "0  13.33  \n",
       "7  11.20  \n",
       "6   8.00  \n",
       "2   7.00  \n",
       "1   2.00  \n",
       "5   1.33  \n",
       "3   1.12  \n",
       "4   1.00  "
      ]
     },
     "execution_count": 38,
     "metadata": {},
     "output_type": "execute_result"
    }
   ],
   "source": [
    "# Расчет фреймворка ICE для приоритизации гипотез.\n",
    "hypothesis['ICE'] = ((hypothesis['impact'] * hypothesis['confidence']) / hypothesis['efforts']).round(2)\n",
    "hypothesis[['hypothesis', 'ICE']].sort_values(by='ICE', ascending=False)"
   ]
  },
  {
   "cell_type": "markdown",
   "metadata": {},
   "source": [
    "Наиболее перспективные гипотезы под номерами 8,0,7,6 и 2."
   ]
  },
  {
   "cell_type": "code",
   "execution_count": 39,
   "metadata": {},
   "outputs": [
    {
     "data": {
      "text/html": [
       "<div>\n",
       "<style scoped>\n",
       "    .dataframe tbody tr th:only-of-type {\n",
       "        vertical-align: middle;\n",
       "    }\n",
       "\n",
       "    .dataframe tbody tr th {\n",
       "        vertical-align: top;\n",
       "    }\n",
       "\n",
       "    .dataframe thead th {\n",
       "        text-align: right;\n",
       "    }\n",
       "</style>\n",
       "<table border=\"1\" class=\"dataframe\">\n",
       "  <thead>\n",
       "    <tr style=\"text-align: right;\">\n",
       "      <th></th>\n",
       "      <th>hypothesis</th>\n",
       "      <th>RICE</th>\n",
       "    </tr>\n",
       "  </thead>\n",
       "  <tbody>\n",
       "    <tr>\n",
       "      <th>7</th>\n",
       "      <td>Добавить форму подписки на все основные страницы, чтобы собрать базу клиентов для email-рассылок</td>\n",
       "      <td>112.0</td>\n",
       "    </tr>\n",
       "    <tr>\n",
       "      <th>2</th>\n",
       "      <td>Добавить блоки рекомендаций товаров на сайт интернет магазина, чтобы повысить конверсию и средний чек заказа</td>\n",
       "      <td>56.0</td>\n",
       "    </tr>\n",
       "    <tr>\n",
       "      <th>0</th>\n",
       "      <td>Добавить два новых канала привлечения трафика, что позволит привлекать на 30% больше пользователей</td>\n",
       "      <td>40.0</td>\n",
       "    </tr>\n",
       "    <tr>\n",
       "      <th>6</th>\n",
       "      <td>Показать на главной странице баннеры с актуальными акциями и распродажами, чтобы увеличить конверсию</td>\n",
       "      <td>40.0</td>\n",
       "    </tr>\n",
       "    <tr>\n",
       "      <th>8</th>\n",
       "      <td>Запустить акцию, дающую скидку на товар в день рождения</td>\n",
       "      <td>16.2</td>\n",
       "    </tr>\n",
       "    <tr>\n",
       "      <th>3</th>\n",
       "      <td>Изменить структура категорий, что увеличит конверсию, т.к. пользователи быстрее найдут нужный товар</td>\n",
       "      <td>9.0</td>\n",
       "    </tr>\n",
       "    <tr>\n",
       "      <th>1</th>\n",
       "      <td>Запустить собственную службу доставки, что сократит срок доставки заказов</td>\n",
       "      <td>4.0</td>\n",
       "    </tr>\n",
       "    <tr>\n",
       "      <th>5</th>\n",
       "      <td>Добавить страницу отзывов клиентов о магазине, что позволит увеличить количество заказов</td>\n",
       "      <td>4.0</td>\n",
       "    </tr>\n",
       "    <tr>\n",
       "      <th>4</th>\n",
       "      <td>Изменить цвет фона главной страницы, чтобы увеличить вовлеченность пользователей</td>\n",
       "      <td>3.0</td>\n",
       "    </tr>\n",
       "  </tbody>\n",
       "</table>\n",
       "</div>"
      ],
      "text/plain": [
       "                                                                                                     hypothesis  \\\n",
       "7              Добавить форму подписки на все основные страницы, чтобы собрать базу клиентов для email-рассылок   \n",
       "2  Добавить блоки рекомендаций товаров на сайт интернет магазина, чтобы повысить конверсию и средний чек заказа   \n",
       "0            Добавить два новых канала привлечения трафика, что позволит привлекать на 30% больше пользователей   \n",
       "6          Показать на главной странице баннеры с актуальными акциями и распродажами, чтобы увеличить конверсию   \n",
       "8                                                       Запустить акцию, дающую скидку на товар в день рождения   \n",
       "3           Изменить структура категорий, что увеличит конверсию, т.к. пользователи быстрее найдут нужный товар   \n",
       "1                                     Запустить собственную службу доставки, что сократит срок доставки заказов   \n",
       "5                      Добавить страницу отзывов клиентов о магазине, что позволит увеличить количество заказов   \n",
       "4                              Изменить цвет фона главной страницы, чтобы увеличить вовлеченность пользователей   \n",
       "\n",
       "    RICE  \n",
       "7  112.0  \n",
       "2   56.0  \n",
       "0   40.0  \n",
       "6   40.0  \n",
       "8   16.2  \n",
       "3    9.0  \n",
       "1    4.0  \n",
       "5    4.0  \n",
       "4    3.0  "
      ]
     },
     "execution_count": 39,
     "metadata": {},
     "output_type": "execute_result"
    }
   ],
   "source": [
    "# Расчет фреймворка RICE для приоритизации гипотез.\n",
    "hypothesis['RICE'] = (hypothesis['reach'] * hypothesis['impact'] * hypothesis['confidence']) / hypothesis['efforts']\n",
    "hypothesis[['hypothesis', 'RICE']].sort_values(by='RICE', ascending=False)"
   ]
  },
  {
   "cell_type": "markdown",
   "metadata": {},
   "source": [
    "По показателю RICE наиболее перспективные гипотезы под номерами 7,2,0,6 и 8. При этом гипотеза под номером 8 скатилась на пятое место. Это связано с тем, что у этой гипотезы низкое значение показателя 'reach', т.к. изменение затронит лишь небольшое число пользователей. \n",
    "\n",
    "Таким образом будет целесообразно первой протестировать гипотезу под номером 7 - \"Добавить форму подписки на все основные страницы, чтобы собрать базу клиентов для email-рассылок\"."
   ]
  },
  {
   "cell_type": "markdown",
   "metadata": {},
   "source": [
    "# Часть 2. Анализ A/B-теста"
   ]
  },
  {
   "cell_type": "code",
   "execution_count": 7,
   "metadata": {},
   "outputs": [],
   "source": [
    "orders = pd.read_csv('C:\\\\Users\\\\78585\\\\Desktop\\\\Анализ данных\\\\Проекты\\\\Датафреймы\\\\orders.csv')\n",
    "visitors = pd.read_csv('C:\\\\Users\\\\78585\\\\Desktop\\\\Анализ данных\\\\Проекты\\\\Датафреймы\\\\visitors.csv')"
   ]
  },
  {
   "cell_type": "code",
   "execution_count": 9,
   "metadata": {},
   "outputs": [
    {
     "data": {
      "text/html": [
       "<div>\n",
       "<style scoped>\n",
       "    .dataframe tbody tr th:only-of-type {\n",
       "        vertical-align: middle;\n",
       "    }\n",
       "\n",
       "    .dataframe tbody tr th {\n",
       "        vertical-align: top;\n",
       "    }\n",
       "\n",
       "    .dataframe thead th {\n",
       "        text-align: right;\n",
       "    }\n",
       "</style>\n",
       "<table border=\"1\" class=\"dataframe\">\n",
       "  <thead>\n",
       "    <tr style=\"text-align: right;\">\n",
       "      <th></th>\n",
       "      <th>transactionId</th>\n",
       "      <th>visitorId</th>\n",
       "      <th>date</th>\n",
       "      <th>revenue</th>\n",
       "      <th>group</th>\n",
       "    </tr>\n",
       "  </thead>\n",
       "  <tbody>\n",
       "    <tr>\n",
       "      <th>0</th>\n",
       "      <td>3667963787</td>\n",
       "      <td>3312258926</td>\n",
       "      <td>2019-08-15</td>\n",
       "      <td>1650</td>\n",
       "      <td>B</td>\n",
       "    </tr>\n",
       "    <tr>\n",
       "      <th>1</th>\n",
       "      <td>2804400009</td>\n",
       "      <td>3642806036</td>\n",
       "      <td>2019-08-15</td>\n",
       "      <td>730</td>\n",
       "      <td>B</td>\n",
       "    </tr>\n",
       "    <tr>\n",
       "      <th>2</th>\n",
       "      <td>2961555356</td>\n",
       "      <td>4069496402</td>\n",
       "      <td>2019-08-15</td>\n",
       "      <td>400</td>\n",
       "      <td>A</td>\n",
       "    </tr>\n",
       "    <tr>\n",
       "      <th>3</th>\n",
       "      <td>3797467345</td>\n",
       "      <td>1196621759</td>\n",
       "      <td>2019-08-15</td>\n",
       "      <td>9759</td>\n",
       "      <td>B</td>\n",
       "    </tr>\n",
       "    <tr>\n",
       "      <th>4</th>\n",
       "      <td>2282983706</td>\n",
       "      <td>2322279887</td>\n",
       "      <td>2019-08-15</td>\n",
       "      <td>2308</td>\n",
       "      <td>B</td>\n",
       "    </tr>\n",
       "  </tbody>\n",
       "</table>\n",
       "</div>"
      ],
      "text/plain": [
       "   transactionId   visitorId        date  revenue group\n",
       "0     3667963787  3312258926  2019-08-15     1650     B\n",
       "1     2804400009  3642806036  2019-08-15      730     B\n",
       "2     2961555356  4069496402  2019-08-15      400     A\n",
       "3     3797467345  1196621759  2019-08-15     9759     B\n",
       "4     2282983706  2322279887  2019-08-15     2308     B"
      ]
     },
     "execution_count": 9,
     "metadata": {},
     "output_type": "execute_result"
    }
   ],
   "source": [
    "orders.head(5)"
   ]
  },
  {
   "cell_type": "markdown",
   "metadata": {},
   "source": [
    "transactionID - идентификатор заказа,  \n",
    "visitorID - идентификатор пользователя, совершившего заказ,  \n",
    "date - дата совершения заказа,  \n",
    "revenue - выручка заказа,  \n",
    "group - группа А/В теста, в которую попал заказ"
   ]
  },
  {
   "cell_type": "code",
   "execution_count": 10,
   "metadata": {},
   "outputs": [
    {
     "data": {
      "text/html": [
       "<div>\n",
       "<style scoped>\n",
       "    .dataframe tbody tr th:only-of-type {\n",
       "        vertical-align: middle;\n",
       "    }\n",
       "\n",
       "    .dataframe tbody tr th {\n",
       "        vertical-align: top;\n",
       "    }\n",
       "\n",
       "    .dataframe thead th {\n",
       "        text-align: right;\n",
       "    }\n",
       "</style>\n",
       "<table border=\"1\" class=\"dataframe\">\n",
       "  <thead>\n",
       "    <tr style=\"text-align: right;\">\n",
       "      <th></th>\n",
       "      <th>date</th>\n",
       "      <th>group</th>\n",
       "      <th>visitors</th>\n",
       "    </tr>\n",
       "  </thead>\n",
       "  <tbody>\n",
       "    <tr>\n",
       "      <th>0</th>\n",
       "      <td>2019-08-01</td>\n",
       "      <td>A</td>\n",
       "      <td>719</td>\n",
       "    </tr>\n",
       "    <tr>\n",
       "      <th>1</th>\n",
       "      <td>2019-08-02</td>\n",
       "      <td>A</td>\n",
       "      <td>619</td>\n",
       "    </tr>\n",
       "    <tr>\n",
       "      <th>2</th>\n",
       "      <td>2019-08-03</td>\n",
       "      <td>A</td>\n",
       "      <td>507</td>\n",
       "    </tr>\n",
       "    <tr>\n",
       "      <th>3</th>\n",
       "      <td>2019-08-04</td>\n",
       "      <td>A</td>\n",
       "      <td>717</td>\n",
       "    </tr>\n",
       "    <tr>\n",
       "      <th>4</th>\n",
       "      <td>2019-08-05</td>\n",
       "      <td>A</td>\n",
       "      <td>756</td>\n",
       "    </tr>\n",
       "  </tbody>\n",
       "</table>\n",
       "</div>"
      ],
      "text/plain": [
       "         date group  visitors\n",
       "0  2019-08-01     A       719\n",
       "1  2019-08-02     A       619\n",
       "2  2019-08-03     A       507\n",
       "3  2019-08-04     A       717\n",
       "4  2019-08-05     A       756"
      ]
     },
     "execution_count": 10,
     "metadata": {},
     "output_type": "execute_result"
    }
   ],
   "source": [
    "visitors.head(5)"
   ]
  },
  {
   "cell_type": "markdown",
   "metadata": {},
   "source": [
    "date - дата,  \n",
    "group - группа А/В теста,  \n",
    "visitors - количество пользователей в указанную дату в указанной группе А/В теста"
   ]
  },
  {
   "cell_type": "markdown",
   "metadata": {},
   "source": [
    "## 2.1 Предобработка данных."
   ]
  },
  {
   "cell_type": "code",
   "execution_count": 13,
   "metadata": {},
   "outputs": [
    {
     "name": "stdout",
     "output_type": "stream",
     "text": [
      "<class 'pandas.core.frame.DataFrame'>\n",
      "RangeIndex: 1197 entries, 0 to 1196\n",
      "Data columns (total 5 columns):\n",
      " #   Column         Non-Null Count  Dtype \n",
      "---  ------         --------------  ----- \n",
      " 0   transactionId  1197 non-null   int64 \n",
      " 1   visitorId      1197 non-null   int64 \n",
      " 2   date           1197 non-null   object\n",
      " 3   revenue        1197 non-null   int64 \n",
      " 4   group          1197 non-null   object\n",
      "dtypes: int64(3), object(2)\n",
      "memory usage: 46.9+ KB\n"
     ]
    }
   ],
   "source": [
    "orders.info()"
   ]
  },
  {
   "cell_type": "code",
   "execution_count": 14,
   "metadata": {},
   "outputs": [
    {
     "name": "stdout",
     "output_type": "stream",
     "text": [
      "<class 'pandas.core.frame.DataFrame'>\n",
      "RangeIndex: 62 entries, 0 to 61\n",
      "Data columns (total 3 columns):\n",
      " #   Column    Non-Null Count  Dtype \n",
      "---  ------    --------------  ----- \n",
      " 0   date      62 non-null     object\n",
      " 1   group     62 non-null     object\n",
      " 2   visitors  62 non-null     int64 \n",
      "dtypes: int64(1), object(2)\n",
      "memory usage: 1.6+ KB\n"
     ]
    }
   ],
   "source": [
    "visitors.info()"
   ]
  },
  {
   "cell_type": "markdown",
   "metadata": {},
   "source": [
    "Пропусков в даных нет, но необходимо привести столбцы с датами к типу данных datetime. А также переименовать несколько столбцов."
   ]
  },
  {
   "cell_type": "code",
   "execution_count": 15,
   "metadata": {},
   "outputs": [],
   "source": [
    "# Переименование столбцов\n",
    "orders = orders.rename(columns={'transactionId':'transaction_id', 'visitorId':'visitor_id'})"
   ]
  },
  {
   "cell_type": "code",
   "execution_count": 16,
   "metadata": {},
   "outputs": [],
   "source": [
    "#Изменение типа данных столбцов 'date'.\n",
    "orders['date'] = orders['date'].map(lambda x: dt.datetime.strptime(x, '%Y-%m-%d'))\n",
    "visitors['date'] = visitors['date'].map(lambda x: dt.datetime.strptime(x, '%Y-%m-%d'))"
   ]
  },
  {
   "cell_type": "code",
   "execution_count": 17,
   "metadata": {},
   "outputs": [
    {
     "data": {
      "text/plain": [
       "(0, 0)"
      ]
     },
     "execution_count": 17,
     "metadata": {},
     "output_type": "execute_result"
    }
   ],
   "source": [
    "#Проверка данных на наличие дубликатов.\n",
    "orders.duplicated().sum(),\\\n",
    "visitors.duplicated().sum()"
   ]
  },
  {
   "cell_type": "markdown",
   "metadata": {},
   "source": [
    "Полных дубликатов в данных нет."
   ]
  },
  {
   "cell_type": "markdown",
   "metadata": {},
   "source": [
    "## 2.2 Анализ А/В теста."
   ]
  },
  {
   "cell_type": "markdown",
   "metadata": {},
   "source": [
    "Проверим не попадают ли какие-то пользователи в обе группы - по таблице с заказами."
   ]
  },
  {
   "cell_type": "code",
   "execution_count": 34,
   "metadata": {},
   "outputs": [
    {
     "data": {
      "text/plain": [
       "group    58\n",
       "dtype: int64"
      ]
     },
     "execution_count": 34,
     "metadata": {},
     "output_type": "execute_result"
    }
   ],
   "source": [
    "orders.groupby('visitor_id').agg({'group' : 'nunique'}).query('group>1').count()"
   ]
  },
  {
   "cell_type": "markdown",
   "metadata": {},
   "source": [
    "В обе группы попали 58 пользователей.\n",
    "Так как их немного, оставим их в тесте и сообщим о наличии ошибки проектировщикам теста, чтобы в будущем ее исправили."
   ]
  },
  {
   "cell_type": "markdown",
   "metadata": {},
   "source": [
    "### 2.2.1 График кумулятивной выручки по группам. "
   ]
  },
  {
   "cell_type": "code",
   "execution_count": 27,
   "metadata": {},
   "outputs": [
    {
     "data": {
      "image/png": "[encoded data removed]",
      "text/plain": [
       "<Figure size 1500x500 with 1 Axes>"
      ]
     },
     "metadata": {},
     "output_type": "display_data"
    }
   ],
   "source": [
    "datesGroups = orders[['date', 'group']].drop_duplicates()\n",
    "ordersAggregated = datesGroups.apply(\n",
    "    lambda x: orders[\n",
    "        np.logical_and(\n",
    "            orders['date'] <= x['date'], orders['group'] == x['group']\n",
    "        )\n",
    "    ].agg(\n",
    "        {'date': 'max',\n",
    "         'group': 'max',\n",
    "         'transaction_id': 'nunique',\n",
    "         'visitor_id': 'nunique',\n",
    "         'revenue': 'sum',}),\n",
    "    axis=1,\n",
    ").sort_values(by=['date', 'group'])\n",
    "\n",
    "visitorsAggregated = datesGroups.apply(\n",
    "    lambda x: visitors[\n",
    "        np.logical_and(\n",
    "            visitors['date'] <= x['date'], visitors['group'] == x['group']\n",
    "        )\n",
    "    ].agg({'date': 'max', 'group': 'max', 'visitors': 'sum'}),\n",
    "    axis=1,\n",
    ").sort_values(by=['date', 'group'])\n",
    "\n",
    "cumulativeData = ordersAggregated.merge(\n",
    "    visitorsAggregated, left_on=['date', 'group'], right_on=['date', 'group']\n",
    ")\n",
    "cumulativeData.columns = [\n",
    "    'date',\n",
    "    'group',\n",
    "    'orders',\n",
    "    'buyers',\n",
    "    'revenue',\n",
    "    'visitors',\n",
    "]\n",
    "\n",
    "cumulativeRevenueA = cumulativeData[cumulativeData['group']=='A'][['date','revenue', 'orders']]\n",
    "cumulativeRevenueB = cumulativeData[cumulativeData['group']=='B'][['date','revenue', 'orders']]\n",
    "\n",
    "plt.figure(figsize=(15,5))\n",
    "plt.plot(cumulativeRevenueA['date'], cumulativeRevenueA['revenue'], label='A')\n",
    "plt.plot(cumulativeRevenueB['date'], cumulativeRevenueB['revenue'], label='B')\n",
    "plt.legend()\n",
    "plt.xlabel('Дата')\n",
    "plt.ylabel('Выручка')\n",
    "plt.grid()\n",
    "plt.suptitle('Кумулятивная выручка по группам', fontsize=15)\n",
    "plt.show()"
   ]
  },
  {
   "cell_type": "markdown",
   "metadata": {},
   "source": [
    "Выручка почти равномерно увеличивается в течение всего теста. Однако группа В уже на пятый день теста начинает лидировать и сохраняет это лидерство до конца теста. Скачок графика может быть связан с резким увеличением количества заказов или с появлением в выборке очень дорогого заказа. "
   ]
  },
  {
   "cell_type": "markdown",
   "metadata": {},
   "source": [
    "### 2.2.2 График кумулятивного среднего чека по группам."
   ]
  },
  {
   "cell_type": "code",
   "execution_count": 28,
   "metadata": {},
   "outputs": [
    {
     "data": {
      "image/png": "[encoded data removed]",
      "text/plain": [
       "<Figure size 1500x500 with 1 Axes>"
      ]
     },
     "metadata": {},
     "output_type": "display_data"
    }
   ],
   "source": [
    "plt.figure(figsize=(15,5))\n",
    "plt.plot(cumulativeRevenueA['date'], cumulativeRevenueA['revenue']/cumulativeRevenueA['orders'], label='A')\n",
    "plt.plot(cumulativeRevenueB['date'], cumulativeRevenueB['revenue']/cumulativeRevenueB['orders'], label='B')\n",
    "plt.legend()\n",
    "plt.xlabel('Дата')\n",
    "plt.ylabel('Средний чек')\n",
    "plt.grid()\n",
    "plt.suptitle('Кумулятивный средний чек по группам', fontsize=15)\n",
    "plt.show()"
   ]
  },
  {
   "cell_type": "markdown",
   "metadata": {},
   "source": [
    "Первые две недели средний чек колеблется по обеим групам. Затем в группе А стабилизируется в районе 7000 рублей. Скачок в группе В опять говорит о том, что в выборке есть аномально большой заказ. "
   ]
  },
  {
   "cell_type": "code",
   "execution_count": 16,
   "metadata": {},
   "outputs": [
    {
     "data": {
      "image/png": "[encoded data removed]",
      "text/plain": [
       "<Figure size 1080x360 with 1 Axes>"
      ]
     },
     "metadata": {
      "needs_background": "light"
     },
     "output_type": "display_data"
    }
   ],
   "source": [
    "mergedCumulativeRevenue = cumulativeRevenueA.merge(cumulativeRevenueB, \\\n",
    "                                                   left_on='date', \\\n",
    "                                                   right_on='date', \\\n",
    "                                                   how='left', \\\n",
    "                                                   suffixes=['A', 'B'])\n",
    "plt.figure(figsize=(15,5))  \n",
    "plt.plot(mergedCumulativeRevenue['date'], \\\n",
    "        (mergedCumulativeRevenue['revenueB']\\\n",
    "         /mergedCumulativeRevenue['ordersB'])\\\n",
    "         /(mergedCumulativeRevenue['revenueA']\\\n",
    "         /mergedCumulativeRevenue['ordersA'])-1)\n",
    "\n",
    "\n",
    "plt.axhline(y=0, color='black', linestyle='--') \n",
    "plt.xlabel('Дата')\n",
    "plt.ylabel('Средний чек')\n",
    "plt.grid()\n",
    "plt.suptitle('Относительное изменение кумулятивного среднего чека группы B к группе A', fontsize=15)\n",
    "plt.show()"
   ]
  },
  {
   "cell_type": "markdown",
   "metadata": {},
   "source": [
    "График резко скачет в несколько дат. Видимо тогда и были совершены крупные заказы."
   ]
  },
  {
   "cell_type": "markdown",
   "metadata": {},
   "source": [
    "### 2.2.3 График кумулятивного среднего количества заказов на посетителя по группам."
   ]
  },
  {
   "cell_type": "code",
   "execution_count": 17,
   "metadata": {},
   "outputs": [
    {
     "data": {
      "image/png": "[encoded data removed]",
      "text/plain": [
       "<Figure size 1080x360 with 1 Axes>"
      ]
     },
     "metadata": {
      "needs_background": "light"
     },
     "output_type": "display_data"
    }
   ],
   "source": [
    "cumulativeData['conversion'] = cumulativeData['orders']/cumulativeData['visitors']\n",
    "cumulativeDataA = cumulativeData[cumulativeData['group']=='A']\n",
    "cumulativeDataB = cumulativeData[cumulativeData['group']=='B']\n",
    "\n",
    "plt.figure(figsize=(15,5))\n",
    "plt.plot(cumulativeDataA['date'], cumulativeDataA['conversion'], label='A')\n",
    "plt.plot(cumulativeDataB['date'], cumulativeDataB['conversion'], label='B')\n",
    "plt.axis([\"2019-08-01\", '2019-09-04',  0, 0.05])  \n",
    "plt.legend()\n",
    "plt.xlabel('Дата')\n",
    "plt.ylabel('Среднее количество заказов на посетителя')\n",
    "plt.grid()\n",
    "plt.suptitle('Кумулятивное среднее количество заказов на посетителя по группам', fontsize=15)\n",
    "plt.show()"
   ]
  },
  {
   "cell_type": "markdown",
   "metadata": {},
   "source": [
    "Значения среднего количества заказов на посетителя в начале теста колебались в обеих группах, но уже к шестому дню группа В вырвалась вперёд и зафиксировалась, а группы А просела и также зафиксировалась ниже группы В."
   ]
  },
  {
   "cell_type": "markdown",
   "metadata": {},
   "source": [
    "### 2.2.4 График относительного изменения кумулятивного среднего количества заказов на посетителя группы B к группе A. "
   ]
  },
  {
   "cell_type": "code",
   "execution_count": 18,
   "metadata": {
    "scrolled": false
   },
   "outputs": [
    {
     "data": {
      "image/png": "[encoded data removed]",
      "text/plain": [
       "<Figure size 1080x360 with 1 Axes>"
      ]
     },
     "metadata": {
      "needs_background": "light"
     },
     "output_type": "display_data"
    }
   ],
   "source": [
    "mergedCumulativeConversions = cumulativeDataA[['date','conversion']].merge(cumulativeDataB[['date','conversion']], left_on='date', right_on='date', how='left', suffixes=['A', 'B'])\n",
    "\n",
    "plt.figure(figsize=(15,5))\n",
    "plt.plot(mergedCumulativeConversions['date'], mergedCumulativeConversions['conversionB']/mergedCumulativeConversions['conversionA']-1)\n",
    "plt.axhline(y=0, color='black', linestyle='--')\n",
    "plt.axhline(y=0.2, color='green', linestyle='--')\n",
    "plt.axis([\"2019-08-01\", '2019-09-02', -0.2, 0.4])\n",
    "plt.xlabel('Дата')\n",
    "plt.ylabel('Среднее количество заказов')\n",
    "plt.grid()\n",
    "plt.suptitle('Относительное изменение кумулятивного среднего количества заказов на посетителя группы B к группе A', fontsize=15)\n",
    "plt.show()"
   ]
  },
  {
   "cell_type": "markdown",
   "metadata": {},
   "source": [
    "В начале теста группа B по большей части проигрывала группе A, затем вырвалась вперёд."
   ]
  },
  {
   "cell_type": "markdown",
   "metadata": {},
   "source": [
    "### 2.2.5 Построим точечный график количества заказов по пользователям."
   ]
  },
  {
   "cell_type": "code",
   "execution_count": 19,
   "metadata": {},
   "outputs": [
    {
     "data": {
      "image/png": "[encoded data removed]",
      "text/plain": [
       "<Figure size 1080x360 with 1 Axes>"
      ]
     },
     "metadata": {
      "needs_background": "light"
     },
     "output_type": "display_data"
    }
   ],
   "source": [
    "ordersByUsers = (\n",
    "    orders.groupby('visitor_id', as_index=False)\n",
    "    .agg({'transaction_id': 'nunique'})\n",
    ")\n",
    "ordersByUsers.columns = ['visitor_id', 'orders']\n",
    "\n",
    "x_values = pd.Series(range(0, len(ordersByUsers)))\n",
    "\n",
    "plt.figure(figsize=(15,5))\n",
    "plt.xlabel('Пользователи')\n",
    "plt.ylabel('Количество заказов')\n",
    "plt.scatter(x_values, ordersByUsers['orders']) \n",
    "plt.suptitle('Количество заказов по пользователям.', fontsize=13)\n",
    "plt.show()"
   ]
  },
  {
   "cell_type": "markdown",
   "metadata": {},
   "source": [
    "Основная масса пользователей слелала только один заказ. Но в выборке есть и те, кто совершил более 10 заказов."
   ]
  },
  {
   "cell_type": "markdown",
   "metadata": {},
   "source": [
    "### 2.2.6 Посчитаем 95-й и 99-й перцентили количества заказов на пользователя. Выберим границу для определения аномальных пользователей."
   ]
  },
  {
   "cell_type": "code",
   "execution_count": 20,
   "metadata": {},
   "outputs": [
    {
     "data": {
      "text/plain": [
       "array([1., 2., 4.])"
      ]
     },
     "execution_count": 20,
     "metadata": {},
     "output_type": "execute_result"
    }
   ],
   "source": [
    "np.percentile(ordersByUsers['orders'], [90, 95, 99])"
   ]
  },
  {
   "cell_type": "markdown",
   "metadata": {},
   "source": [
    "Большинство покупателей заказывали только один раз. Не более 10% пользователей совершали больше 1 заказа. И не более 1% пользователей - больше 4 заказов. Примите за аномальных пользователей тех, кто совершил 3 заказа и более."
   ]
  },
  {
   "cell_type": "markdown",
   "metadata": {},
   "source": [
    "### 2.2.7 Построим точечный график стоимостей заказов."
   ]
  },
  {
   "cell_type": "code",
   "execution_count": 21,
   "metadata": {},
   "outputs": [
    {
     "data": {
      "image/png": "[encoded data removed]",
      "text/plain": [
       "<Figure size 1080x360 with 1 Axes>"
      ]
     },
     "metadata": {
      "needs_background": "light"
     },
     "output_type": "display_data"
    },
    {
     "data": {
      "image/png": "[encoded data removed]",
      "text/plain": [
       "<Figure size 1080x360 with 1 Axes>"
      ]
     },
     "metadata": {
      "needs_background": "light"
     },
     "output_type": "display_data"
    }
   ],
   "source": [
    "x_values = pd.Series(range(0,len(orders['revenue'])))\n",
    "\n",
    "plt.figure(figsize=(15,5))\n",
    "plt.scatter(x_values, orders['revenue']) \n",
    "plt.suptitle('Стоимость заказов.', fontsize=15)\n",
    "plt.xlabel('Заказы')\n",
    "plt.ylabel('Стоимость заказа, млн.руб')\n",
    "plt.grid(),\n",
    "# Построим ещё один график с измененным масштабом по оси y.\n",
    "plt.figure(figsize=(15,5))\n",
    "plt.scatter(x_values, orders['revenue']) \n",
    "plt.suptitle('Стоимость заказов.', fontsize=15)\n",
    "plt.ylim(0, 120000)\n",
    "plt.xlabel('Заказы')\n",
    "plt.ylabel('Стоимость заказа, руб')\n",
    "plt.grid()"
   ]
  },
  {
   "cell_type": "markdown",
   "metadata": {},
   "source": [
    "На графике виден один аномальный заказ, стоимостью почти 1,3 млн.рублей. Так же из общей массы выделяется заказ примерно за 200000. Стоимость остальных заказов не превышает 100тыс.рублей."
   ]
  },
  {
   "cell_type": "markdown",
   "metadata": {},
   "source": [
    "### 2.2.8 Подсчёт 95-го и 99-го перцентилей стоимости заказов."
   ]
  },
  {
   "cell_type": "code",
   "execution_count": 22,
   "metadata": {},
   "outputs": [
    {
     "data": {
      "text/plain": [
       "array([18168. , 28000. , 58233.2])"
      ]
     },
     "execution_count": 22,
     "metadata": {},
     "output_type": "execute_result"
    }
   ],
   "source": [
    "np.percentile(orders['revenue'], [90, 95, 99])"
   ]
  },
  {
   "cell_type": "markdown",
   "metadata": {},
   "source": [
    "Не более 5% заказов дороже 28000 рублей и не более 1% дороже 58233 рублей. Примим за аномальных пользователей тех, кто совершил заказ на сумму свыше 28 000 рублей. "
   ]
  },
  {
   "cell_type": "markdown",
   "metadata": {},
   "source": [
    "### 2.2.9 Статистическая значимость различий в среднем количестве заказов на посетителя между группами по «сырым» данным. "
   ]
  },
  {
   "cell_type": "markdown",
   "metadata": {},
   "source": [
    "Для расчета статистической значимости различий в среднем числе заказов на пользователя и среднем чеке между группами по «сырым» и по «очищенным» данным будем использовать критерий Манна-Уитни (Подходит для независимых выборок, в которых есть большие (по сравнению с нормальным распределением) выбросы).\n",
    "\n",
    "Критический уровень статистической значимости зададим:\n",
    "alpha = 0.05 "
   ]
  },
  {
   "cell_type": "markdown",
   "metadata": {},
   "source": [
    "**Нулевая гипотеза:** Статистически значимых различий в среднем количестве заказов между группами А и В по «сырым» данным нет. \n",
    "\n",
    "**Альтернативная гипотеза:** Статистически значимые различия в среднем количестве заказов между группами по «сырым» данным есть."
   ]
  },
  {
   "cell_type": "code",
   "execution_count": 23,
   "metadata": {},
   "outputs": [
    {
     "name": "stdout",
     "output_type": "stream",
     "text": [
      "p-value: 0.016792355056752608\n",
      "Относительный прирост среднего числа заказов: 0.138\n"
     ]
    }
   ],
   "source": [
    "ordersByUsersA = (\n",
    "    orders[orders['group'] == 'A']\n",
    "    .groupby('visitor_id', as_index=False)\n",
    "    .agg({'transaction_id': pd.Series.nunique})\n",
    ")\n",
    "ordersByUsersA.columns = ['visitor_id', 'orders']\n",
    "\n",
    "ordersByUsersB = (\n",
    "    orders[orders['group'] == 'B']\n",
    "    .groupby('visitor_id', as_index=False)\n",
    "    .agg({'transaction_id': pd.Series.nunique})\n",
    ")\n",
    "ordersByUsersB.columns = ['visitor_id', 'orders'] \n",
    "\n",
    "sampleA = pd.concat(\n",
    "    [\n",
    "        ordersByUsersA['orders'],\n",
    "        pd.Series(\n",
    "            0,\n",
    "            index=np.arange(\n",
    "                visitors[visitors['group'] == 'A']['visitors'].sum() - len(ordersByUsersA['orders'])\n",
    "            ),\n",
    "            name='orders',\n",
    "        ),\n",
    "    ],\n",
    "    axis=0,\n",
    ")\n",
    "\n",
    "sampleB = pd.concat(\n",
    "    [\n",
    "        ordersByUsersB['orders'],\n",
    "        pd.Series(\n",
    "            0,\n",
    "            index=np.arange(\n",
    "                visitors[visitors['group'] == 'B']['visitors'].sum() - len(ordersByUsersB['orders'])\n",
    "            ),\n",
    "            name='orders',\n",
    "        ),\n",
    "    ],\n",
    "    axis=0,\n",
    ")\n",
    "print(\"p-value: {}\".format(stats.mannwhitneyu(sampleA, sampleB)[1]))\n",
    "print(\"Относительный прирост среднего числа заказов: {0:.3f}\".format(sampleB.mean() / sampleA.mean() - 1))"
   ]
  },
  {
   "cell_type": "markdown",
   "metadata": {},
   "source": [
    "Так как p-value меньше 0.05 (0.017 < 0.05), то  нулевую гипотезу о том, что статистически значимых различий в среднем числе заказов между группами нет, отвергаем. Относительный прирост среднего числа заказов группы B составляет 13,8%."
   ]
  },
  {
   "cell_type": "markdown",
   "metadata": {},
   "source": [
    "### 2.2.10 Статистическая значимость различий в среднем чеке заказа между группами по «сырым» данным. "
   ]
  },
  {
   "cell_type": "markdown",
   "metadata": {},
   "source": [
    "**Нулевая гипотеза:** Статистически значимых различий в среднем чеке заказа между группами А и В по «сырым» данным нет. \n",
    "\n",
    "**Альтернативная гипотеза:** Статистически значимые различия в среднем чеке между группами по «сырым» данным есть."
   ]
  },
  {
   "cell_type": "code",
   "execution_count": 24,
   "metadata": {},
   "outputs": [
    {
     "name": "stdout",
     "output_type": "stream",
     "text": [
      "p-value: 0.7292909855432458\n",
      "Относительное различие в среднем чеке: 0.259\n"
     ]
    }
   ],
   "source": [
    "print(\"p-value: {}\".format(stats.mannwhitneyu(orders[orders['group']=='A']['revenue'], orders[orders['group']=='B']['revenue'])[1]))\n",
    "print('Относительное различие в среднем чеке: {0:.3f}'.format(orders[orders['group']=='B']['revenue'].mean()/orders[orders['group']=='A']['revenue'].mean()-1))     "
   ]
  },
  {
   "cell_type": "markdown",
   "metadata": {},
   "source": [
    "p-value больше 0.05 (0.729 > 0.05) значит нулевую гипотезу о равенстве среднего чека групп А и В отвергать нельзя, несмотря на то, что относительное различие в среднем чеке между группами составляет 25,9%."
   ]
  },
  {
   "cell_type": "markdown",
   "metadata": {},
   "source": [
    "### 2.2.11 Статистическая значимость различий в среднем количестве заказов на посетителя между группами по «очищенным» данным."
   ]
  },
  {
   "cell_type": "markdown",
   "metadata": {},
   "source": [
    "**Нулевая гипотеза:** Статистически значимых различий в среднем количестве заказов между группами А и В по «очищенным» данным нет. \n",
    "\n",
    "**Альтернативная гипотеза:** Статистически значимые различия в среднем количестве заказов между группами по «очищенным» данным есть."
   ]
  },
  {
   "cell_type": "code",
   "execution_count": 25,
   "metadata": {},
   "outputs": [],
   "source": [
    "usersWithManyOrders = pd.concat(\n",
    "    [\n",
    "        ordersByUsersA[ordersByUsersA['orders'] > np.percentile(ordersByUsers['orders'], 95)]['visitor_id'],\n",
    "        ordersByUsersB[ordersByUsersB['orders'] > np.percentile(ordersByUsers['orders'], 95)]['visitor_id'],\n",
    "    ],\n",
    "    axis=0,\n",
    ")\n",
    "usersWithExpensiveOrders = orders[orders['revenue'] > np.percentile(orders['revenue'], 95)]['visitor_id']\n",
    "abnormalUsers = (\n",
    "    pd.concat([usersWithManyOrders, usersWithExpensiveOrders], axis=0)\n",
    "    .drop_duplicates()\n",
    "    .sort_values()\n",
    ")"
   ]
  },
  {
   "cell_type": "code",
   "execution_count": 26,
   "metadata": {},
   "outputs": [
    {
     "name": "stdout",
     "output_type": "stream",
     "text": [
      "p-value: 0.013042592743036745\n",
      "Относительный прирост среднего числа заказов: 0.173\n"
     ]
    }
   ],
   "source": [
    "sampleAFiltered = pd.concat(\n",
    "    [\n",
    "        ordersByUsersA[\n",
    "            np.logical_not(ordersByUsersA['visitor_id'].isin(abnormalUsers))\n",
    "        ]['orders'],\n",
    "        pd.Series(\n",
    "            0,\n",
    "            index=np.arange(\n",
    "                visitors[visitors['group'] == 'A']['visitors'].sum() - len(ordersByUsersA['orders'])\n",
    "            ),\n",
    "            name='orders',\n",
    "        ),\n",
    "    ],\n",
    "    axis=0,\n",
    ")\n",
    "\n",
    "sampleBFiltered = pd.concat(\n",
    "    [\n",
    "        ordersByUsersB[\n",
    "            np.logical_not(ordersByUsersB['visitor_id'].isin(abnormalUsers))\n",
    "        ]['orders'],\n",
    "        pd.Series(\n",
    "            0,\n",
    "            index=np.arange(\n",
    "                visitors[visitors['group'] == 'B']['visitors'].sum() - len(ordersByUsersB['orders'])\n",
    "            ),\n",
    "            name='orders',\n",
    "        ),\n",
    "    ],\n",
    "    axis=0,\n",
    ") \n",
    "print(\"p-value: {}\".format(stats.mannwhitneyu(sampleAFiltered, sampleBFiltered)[1]))\n",
    "print('Относительный прирост среднего числа заказов: {0:.3f}'.format(sampleBFiltered.mean()/sampleAFiltered.mean()-1)) "
   ]
  },
  {
   "cell_type": "markdown",
   "metadata": {},
   "source": [
    "Так как p-value меньше 0.05 (0.013 < 0.05), то нулевую гипотезу о том, что статистически значимых различий в среднем количестве заказов на посетителя между группами нет, отвергаем. Относительный прирост среднего числа заказов группы B по очищенным данным увеличился на 3,5% и составляет 17,3%."
   ]
  },
  {
   "cell_type": "markdown",
   "metadata": {},
   "source": [
    "### 2.2.12 Статистическая значимость различий в среднем чеке заказа между группами по «очищенным» данным. "
   ]
  },
  {
   "cell_type": "markdown",
   "metadata": {},
   "source": [
    "**Нулевая гипотеза:** Статистически значимых различий в среднем чеке заказа между группами А и В по «очищенным» данным нет. \n",
    "\n",
    "**Альтернативная гипотеза:** Статистически значимые различия в среднем чеке заказа между группами по «очищенным» данным есть."
   ]
  },
  {
   "cell_type": "code",
   "execution_count": 27,
   "metadata": {},
   "outputs": [
    {
     "name": "stdout",
     "output_type": "stream",
     "text": [
      "p-value: 0.738481751314565\n",
      "Относительное различие в среднем чеке: -0.020\n"
     ]
    }
   ],
   "source": [
    "print(\n",
    "    \"p-value: {}\".format(\n",
    "        stats.mannwhitneyu(\n",
    "            orders[\n",
    "                np.logical_and(\n",
    "                    orders['group'] == 'A',\n",
    "                    np.logical_not(orders['visitor_id'].isin(abnormalUsers)),\n",
    "                )\n",
    "            ]['revenue'],\n",
    "            orders[\n",
    "                np.logical_and(\n",
    "                    orders['group'] == 'B',\n",
    "                    np.logical_not(orders['visitor_id'].isin(abnormalUsers)),\n",
    "                )\n",
    "            ]['revenue'],\n",
    "        )[1]\n",
    "    )\n",
    ")\n",
    "\n",
    "print(\n",
    "    'Относительное различие в среднем чеке: {0:.3f}'.format(\n",
    "        orders[\n",
    "            np.logical_and(\n",
    "                orders['group'] == 'B',\n",
    "                np.logical_not(orders['visitor_id'].isin(abnormalUsers)),\n",
    "            )\n",
    "        ]['revenue'].mean()\n",
    "        / orders[\n",
    "            np.logical_and(\n",
    "                orders['group'] == 'A',\n",
    "                np.logical_not(orders['visitor_id'].isin(abnormalUsers)),\n",
    "            )\n",
    "        ]['revenue'].mean()\n",
    "        - 1\n",
    "    )\n",
    ") "
   ]
  },
  {
   "cell_type": "markdown",
   "metadata": {},
   "source": [
    "p-value больше 0.05 (0.738 > 0.05) значит нулевую гипотезу о равенстве среднего чека по «очищенным» данным групп А и В отвергать нельзя. Относительное различие в среднем чеке группы В ниже среднего чека группы А на 2%."
   ]
  },
  {
   "cell_type": "markdown",
   "metadata": {},
   "source": [
    "**ИТОГИ:**\n",
    "Тест показал, что:\n",
    "1. статистически значимого различия по среднему чеку между группами ни по «сырым», ни по «очищенным» данным нет.\n",
    "2. есть статистически значимое отличие по среднему количеству заказов между группами и по «сырым»,ни по данным после фильтрации аномалий.\n",
    "\n",
    "На основании полученных результатов можно принять решение об остановки теста и зафиксировать победу группы В. Несмотря на то, что разницы по среднему чеку нет, Группа В лидирует по количеству заказов на пользователя, что в конечном итоге приведёт к росту выручки.\n"
   ]
  },
  {
   "cell_type": "code",
   "execution_count": null,
   "metadata": {},
   "outputs": [],
   "source": []
  }
 ],
 "metadata": {
  "ExecuteTimeLog": [
   {
    "duration": 406,
    "start_time": "2023-02-21T07:12:30.875Z"
   },
   {
    "duration": 87,
    "start_time": "2023-02-21T07:18:13.010Z"
   },
   {
    "duration": 46,
    "start_time": "2023-02-21T07:18:27.119Z"
   },
   {
    "duration": 64,
    "start_time": "2023-02-21T07:26:45.823Z"
   },
   {
    "duration": 7,
    "start_time": "2023-02-21T07:27:03.984Z"
   },
   {
    "duration": 3,
    "start_time": "2023-02-21T07:27:30.451Z"
   },
   {
    "duration": 46,
    "start_time": "2023-02-21T07:27:30.461Z"
   },
   {
    "duration": 8,
    "start_time": "2023-02-21T07:27:30.509Z"
   },
   {
    "duration": 9,
    "start_time": "2023-02-21T07:27:43.387Z"
   },
   {
    "duration": 26,
    "start_time": "2023-02-21T07:27:55.872Z"
   },
   {
    "duration": 1207,
    "start_time": "2023-02-21T07:28:38.269Z"
   },
   {
    "duration": 1233,
    "start_time": "2023-02-21T07:30:37.777Z"
   },
   {
    "duration": 3,
    "start_time": "2023-02-21T07:31:29.592Z"
   },
   {
    "duration": 42,
    "start_time": "2023-02-21T07:31:29.597Z"
   },
   {
    "duration": 8,
    "start_time": "2023-02-21T07:31:29.641Z"
   },
   {
    "duration": 25,
    "start_time": "2023-02-21T07:31:29.650Z"
   },
   {
    "duration": 10,
    "start_time": "2023-02-21T07:33:43.408Z"
   },
   {
    "duration": 11,
    "start_time": "2023-02-21T07:37:03.091Z"
   },
   {
    "duration": 186,
    "start_time": "2023-02-21T07:46:41.864Z"
   },
   {
    "duration": 13,
    "start_time": "2023-02-21T07:46:51.210Z"
   },
   {
    "duration": 10,
    "start_time": "2023-02-21T07:47:11.954Z"
   },
   {
    "duration": 50,
    "start_time": "2023-02-21T16:11:54.997Z"
   },
   {
    "duration": 440,
    "start_time": "2023-02-21T16:12:01.884Z"
   },
   {
    "duration": 78,
    "start_time": "2023-02-21T16:12:02.326Z"
   },
   {
    "duration": 15,
    "start_time": "2023-02-21T16:12:02.406Z"
   },
   {
    "duration": 47,
    "start_time": "2023-02-21T16:12:02.422Z"
   },
   {
    "duration": 12,
    "start_time": "2023-02-21T16:12:02.997Z"
   },
   {
    "duration": 157,
    "start_time": "2023-02-21T16:12:03.620Z"
   },
   {
    "duration": 13,
    "start_time": "2023-02-21T16:12:03.779Z"
   },
   {
    "duration": 4,
    "start_time": "2023-02-21T16:12:04.461Z"
   },
   {
    "duration": 82,
    "start_time": "2023-02-21T16:12:04.466Z"
   },
   {
    "duration": 13,
    "start_time": "2023-02-21T16:12:20.499Z"
   },
   {
    "duration": 414,
    "start_time": "2023-02-21T16:31:03.346Z"
   },
   {
    "duration": 4,
    "start_time": "2023-02-21T16:36:49.395Z"
   },
   {
    "duration": 27,
    "start_time": "2023-02-21T16:36:49.419Z"
   },
   {
    "duration": 10,
    "start_time": "2023-02-21T16:36:49.448Z"
   },
   {
    "duration": 20,
    "start_time": "2023-02-21T16:36:49.462Z"
   },
   {
    "duration": 16,
    "start_time": "2023-02-21T16:36:49.484Z"
   },
   {
    "duration": 48,
    "start_time": "2023-02-21T16:36:49.734Z"
   },
   {
    "duration": 12,
    "start_time": "2023-02-21T16:36:49.784Z"
   },
   {
    "duration": 18,
    "start_time": "2023-02-21T16:36:49.804Z"
   },
   {
    "duration": 13,
    "start_time": "2023-02-21T16:36:49.825Z"
   },
   {
    "duration": 327,
    "start_time": "2023-02-21T16:36:50.066Z"
   },
   {
    "duration": 845,
    "start_time": "2023-02-22T03:18:32.112Z"
   },
   {
    "duration": 105,
    "start_time": "2023-02-22T03:18:32.960Z"
   },
   {
    "duration": 12,
    "start_time": "2023-02-22T03:18:33.067Z"
   },
   {
    "duration": 11,
    "start_time": "2023-02-22T03:18:33.081Z"
   },
   {
    "duration": 10,
    "start_time": "2023-02-22T03:18:33.093Z"
   },
   {
    "duration": 175,
    "start_time": "2023-02-22T03:18:33.105Z"
   },
   {
    "duration": 12,
    "start_time": "2023-02-22T03:18:33.282Z"
   },
   {
    "duration": 12,
    "start_time": "2023-02-22T03:18:33.296Z"
   },
   {
    "duration": 12,
    "start_time": "2023-02-22T03:18:33.310Z"
   },
   {
    "duration": 394,
    "start_time": "2023-02-22T03:18:33.325Z"
   },
   {
    "duration": 7,
    "start_time": "2023-02-22T03:19:12.768Z"
   },
   {
    "duration": 10,
    "start_time": "2023-02-22T03:19:24.830Z"
   },
   {
    "duration": 11,
    "start_time": "2023-02-22T03:26:29.869Z"
   },
   {
    "duration": 26,
    "start_time": "2023-02-22T03:26:58.142Z"
   },
   {
    "duration": 533,
    "start_time": "2023-02-22T03:32:14.951Z"
   },
   {
    "duration": 244,
    "start_time": "2023-02-22T03:34:21.019Z"
   },
   {
    "duration": 435,
    "start_time": "2023-02-22T03:37:33.414Z"
   },
   {
    "duration": 422,
    "start_time": "2023-02-22T03:38:45.487Z"
   },
   {
    "duration": 845,
    "start_time": "2023-02-22T16:08:45.741Z"
   },
   {
    "duration": 86,
    "start_time": "2023-02-22T16:08:46.590Z"
   },
   {
    "duration": 15,
    "start_time": "2023-02-22T16:08:46.678Z"
   },
   {
    "duration": 18,
    "start_time": "2023-02-22T16:08:46.696Z"
   },
   {
    "duration": 15,
    "start_time": "2023-02-22T16:08:46.716Z"
   },
   {
    "duration": 171,
    "start_time": "2023-02-22T16:08:46.732Z"
   },
   {
    "duration": 14,
    "start_time": "2023-02-22T16:08:46.905Z"
   },
   {
    "duration": 17,
    "start_time": "2023-02-22T16:08:46.920Z"
   },
   {
    "duration": 18,
    "start_time": "2023-02-22T16:08:46.938Z"
   },
   {
    "duration": 14,
    "start_time": "2023-02-22T16:08:46.958Z"
   },
   {
    "duration": 597,
    "start_time": "2023-02-22T16:08:46.974Z"
   },
   {
    "duration": 288,
    "start_time": "2023-02-22T16:08:47.573Z"
   },
   {
    "duration": 397,
    "start_time": "2023-02-22T16:08:47.863Z"
   },
   {
    "duration": 409,
    "start_time": "2023-02-22T16:08:48.262Z"
   },
   {
    "duration": 266,
    "start_time": "2023-02-22T16:09:21.938Z"
   },
   {
    "duration": 17,
    "start_time": "2023-02-22T17:08:18.818Z"
   },
   {
    "duration": 11,
    "start_time": "2023-02-22T17:10:37.533Z"
   },
   {
    "duration": 112,
    "start_time": "2023-02-22T17:11:18.095Z"
   },
   {
    "duration": 6,
    "start_time": "2023-02-22T17:12:48.192Z"
   },
   {
    "duration": 8,
    "start_time": "2023-02-22T17:25:28.325Z"
   },
   {
    "duration": 135,
    "start_time": "2023-02-22T17:25:43.573Z"
   },
   {
    "duration": 6,
    "start_time": "2023-02-22T17:34:07.214Z"
   },
   {
    "duration": 6,
    "start_time": "2023-02-22T17:34:15.525Z"
   },
   {
    "duration": 172,
    "start_time": "2023-02-22T18:01:08.665Z"
   },
   {
    "duration": 109,
    "start_time": "2023-02-22T18:06:45.629Z"
   },
   {
    "duration": 112,
    "start_time": "2023-02-22T18:08:16.762Z"
   },
   {
    "duration": 104,
    "start_time": "2023-02-22T18:08:30.005Z"
   },
   {
    "duration": 104,
    "start_time": "2023-02-22T18:08:40.276Z"
   },
   {
    "duration": 243,
    "start_time": "2023-02-22T18:09:41.481Z"
   },
   {
    "duration": 287,
    "start_time": "2023-02-22T18:10:15.194Z"
   },
   {
    "duration": 418,
    "start_time": "2023-02-22T18:10:52.671Z"
   },
   {
    "duration": 398,
    "start_time": "2023-02-22T18:10:58.926Z"
   },
   {
    "duration": 289,
    "start_time": "2023-02-22T18:14:16.616Z"
   },
   {
    "duration": 316,
    "start_time": "2023-02-22T18:20:21.059Z"
   },
   {
    "duration": 11,
    "start_time": "2023-02-22T18:21:00.372Z"
   },
   {
    "duration": 364,
    "start_time": "2023-02-22T18:21:34.978Z"
   },
   {
    "duration": 354,
    "start_time": "2023-02-22T18:22:17.901Z"
   },
   {
    "duration": 1138,
    "start_time": "2023-02-22T18:25:10.151Z"
   },
   {
    "duration": 9,
    "start_time": "2023-02-22T18:26:34.037Z"
   },
   {
    "duration": 9,
    "start_time": "2023-02-22T18:28:57.823Z"
   },
   {
    "duration": 28,
    "start_time": "2023-02-22T18:29:31.050Z"
   },
   {
    "duration": 1151,
    "start_time": "2023-02-22T18:30:39.168Z"
   },
   {
    "duration": 13,
    "start_time": "2023-02-22T18:31:22.866Z"
   },
   {
    "duration": 44,
    "start_time": "2023-02-23T08:14:13.846Z"
   },
   {
    "duration": 1216,
    "start_time": "2023-02-23T08:14:23.284Z"
   },
   {
    "duration": 77,
    "start_time": "2023-02-23T08:14:24.502Z"
   },
   {
    "duration": 12,
    "start_time": "2023-02-23T08:14:24.580Z"
   },
   {
    "duration": 26,
    "start_time": "2023-02-23T08:14:24.594Z"
   },
   {
    "duration": 20,
    "start_time": "2023-02-23T08:14:24.622Z"
   },
   {
    "duration": 155,
    "start_time": "2023-02-23T08:14:24.643Z"
   },
   {
    "duration": 12,
    "start_time": "2023-02-23T08:14:24.800Z"
   },
   {
    "duration": 40,
    "start_time": "2023-02-23T08:14:24.813Z"
   },
   {
    "duration": 15,
    "start_time": "2023-02-23T08:14:43.209Z"
   },
   {
    "duration": 15,
    "start_time": "2023-02-23T08:14:48.354Z"
   },
   {
    "duration": 15,
    "start_time": "2023-02-23T08:15:00.035Z"
   },
   {
    "duration": 17,
    "start_time": "2023-02-23T08:15:21.216Z"
   },
   {
    "duration": 449,
    "start_time": "2023-02-23T08:17:04.542Z"
   },
   {
    "duration": 388,
    "start_time": "2023-02-23T08:17:33.865Z"
   },
   {
    "duration": 9,
    "start_time": "2023-02-23T08:25:01.915Z"
   },
   {
    "duration": 11,
    "start_time": "2023-02-23T08:25:15.120Z"
   },
   {
    "duration": 7,
    "start_time": "2023-02-23T08:26:30.457Z"
   },
   {
    "duration": 54,
    "start_time": "2023-02-23T08:26:30.482Z"
   },
   {
    "duration": 26,
    "start_time": "2023-02-23T08:26:30.538Z"
   },
   {
    "duration": 69,
    "start_time": "2023-02-23T08:26:30.566Z"
   },
   {
    "duration": 22,
    "start_time": "2023-02-23T08:26:30.735Z"
   },
   {
    "duration": 87,
    "start_time": "2023-02-23T08:26:30.762Z"
   },
   {
    "duration": 26,
    "start_time": "2023-02-23T08:26:30.854Z"
   },
   {
    "duration": 85,
    "start_time": "2023-02-23T08:26:30.882Z"
   },
   {
    "duration": 69,
    "start_time": "2023-02-23T08:26:30.971Z"
   },
   {
    "duration": 11,
    "start_time": "2023-02-23T08:26:36.413Z"
   },
   {
    "duration": 6,
    "start_time": "2023-02-23T08:28:28.297Z"
   },
   {
    "duration": 582,
    "start_time": "2023-02-23T08:28:28.546Z"
   },
   {
    "duration": 0,
    "start_time": "2023-02-23T08:30:25.008Z"
   },
   {
    "duration": 11,
    "start_time": "2023-02-23T08:30:35.718Z"
   },
   {
    "duration": 413,
    "start_time": "2023-02-23T08:36:25.220Z"
   },
   {
    "duration": 10,
    "start_time": "2023-02-23T08:36:40.811Z"
   },
   {
    "duration": 11,
    "start_time": "2023-02-23T08:36:40.822Z"
   },
   {
    "duration": 10,
    "start_time": "2023-02-23T08:37:34.902Z"
   },
   {
    "duration": 4,
    "start_time": "2023-02-23T08:37:35.535Z"
   },
   {
    "duration": 31,
    "start_time": "2023-02-23T08:37:37.671Z"
   },
   {
    "duration": 12,
    "start_time": "2023-02-23T08:37:37.705Z"
   },
   {
    "duration": 11,
    "start_time": "2023-02-23T08:37:38.831Z"
   },
   {
    "duration": 55,
    "start_time": "2023-02-23T08:37:38.844Z"
   },
   {
    "duration": 60,
    "start_time": "2023-02-23T08:37:38.976Z"
   },
   {
    "duration": 14,
    "start_time": "2023-02-23T08:37:39.621Z"
   },
   {
    "duration": 56,
    "start_time": "2023-02-23T08:37:39.636Z"
   },
   {
    "duration": 12,
    "start_time": "2023-02-23T08:37:39.693Z"
   },
   {
    "duration": 11,
    "start_time": "2023-02-23T08:37:50.931Z"
   },
   {
    "duration": 10,
    "start_time": "2023-02-23T08:38:40.313Z"
   },
   {
    "duration": 561,
    "start_time": "2023-02-23T08:38:55.019Z"
   },
   {
    "duration": 474,
    "start_time": "2023-02-23T16:49:56.007Z"
   },
   {
    "duration": 446,
    "start_time": "2023-02-23T16:50:03.737Z"
   },
   {
    "duration": 507,
    "start_time": "2023-02-23T16:50:14.301Z"
   },
   {
    "duration": 436,
    "start_time": "2023-02-23T16:50:40.021Z"
   },
   {
    "duration": 616,
    "start_time": "2023-02-23T16:50:51.301Z"
   },
   {
    "duration": 442,
    "start_time": "2023-02-23T16:52:49.507Z"
   },
   {
    "duration": 664,
    "start_time": "2023-02-23T16:56:39.986Z"
   },
   {
    "duration": 489,
    "start_time": "2023-02-23T16:57:15.412Z"
   },
   {
    "duration": 552,
    "start_time": "2023-02-23T16:59:50.030Z"
   },
   {
    "duration": 491,
    "start_time": "2023-02-23T17:00:26.662Z"
   },
   {
    "duration": 489,
    "start_time": "2023-02-23T17:00:36.833Z"
   },
   {
    "duration": 564,
    "start_time": "2023-02-23T17:04:25.034Z"
   },
   {
    "duration": 567,
    "start_time": "2023-02-23T17:04:44.016Z"
   },
   {
    "duration": 442,
    "start_time": "2023-02-23T17:05:07.065Z"
   },
   {
    "duration": 189,
    "start_time": "2023-02-23T17:06:48.115Z"
   },
   {
    "duration": 225,
    "start_time": "2023-02-23T17:09:10.229Z"
   },
   {
    "duration": 200,
    "start_time": "2023-02-23T17:09:59.990Z"
   },
   {
    "duration": 188,
    "start_time": "2023-02-23T17:15:37.007Z"
   },
   {
    "duration": 317,
    "start_time": "2023-02-23T17:17:22.056Z"
   },
   {
    "duration": 279,
    "start_time": "2023-02-23T17:17:48.790Z"
   },
   {
    "duration": 354,
    "start_time": "2023-02-23T17:25:10.097Z"
   },
   {
    "duration": 239,
    "start_time": "2023-02-23T17:25:27.258Z"
   },
   {
    "duration": 492,
    "start_time": "2023-02-23T17:26:23.083Z"
   },
   {
    "duration": 264,
    "start_time": "2023-02-23T17:30:12.962Z"
   },
   {
    "duration": 331,
    "start_time": "2023-02-23T17:31:18.928Z"
   },
   {
    "duration": 284,
    "start_time": "2023-02-23T17:37:38.319Z"
   },
   {
    "duration": 5,
    "start_time": "2023-02-23T17:38:06.451Z"
   },
   {
    "duration": 25,
    "start_time": "2023-02-23T17:38:06.606Z"
   },
   {
    "duration": 13,
    "start_time": "2023-02-23T17:38:06.749Z"
   },
   {
    "duration": 12,
    "start_time": "2023-02-23T17:38:07.004Z"
   },
   {
    "duration": 11,
    "start_time": "2023-02-23T17:38:07.671Z"
   },
   {
    "duration": 53,
    "start_time": "2023-02-23T17:38:07.684Z"
   },
   {
    "duration": 12,
    "start_time": "2023-02-23T17:38:09.903Z"
   },
   {
    "duration": 21,
    "start_time": "2023-02-23T17:38:09.917Z"
   },
   {
    "duration": 30,
    "start_time": "2023-02-23T17:38:09.939Z"
   },
   {
    "duration": 13,
    "start_time": "2023-02-23T17:38:10.333Z"
   },
   {
    "duration": 35,
    "start_time": "2023-02-23T17:38:10.348Z"
   },
   {
    "duration": 475,
    "start_time": "2023-02-23T17:38:10.794Z"
   },
   {
    "duration": 0,
    "start_time": "2023-02-23T17:38:11.271Z"
   },
   {
    "duration": 307,
    "start_time": "2023-02-23T17:38:11.754Z"
   },
   {
    "duration": 173,
    "start_time": "2023-02-23T17:38:12.063Z"
   },
   {
    "duration": 350,
    "start_time": "2023-02-23T17:38:16.514Z"
   },
   {
    "duration": 116,
    "start_time": "2023-02-23T17:38:30.455Z"
   },
   {
    "duration": 5,
    "start_time": "2023-02-23T17:38:30.573Z"
   },
   {
    "duration": 177,
    "start_time": "2023-02-23T17:38:30.580Z"
   },
   {
    "duration": 7,
    "start_time": "2023-02-23T17:38:30.759Z"
   },
   {
    "duration": 257,
    "start_time": "2023-02-23T17:38:48.101Z"
   },
   {
    "duration": 422,
    "start_time": "2023-02-23T17:38:48.872Z"
   },
   {
    "duration": 12,
    "start_time": "2023-02-23T17:38:49.297Z"
   },
   {
    "duration": 33,
    "start_time": "2023-02-23T17:38:49.311Z"
   },
   {
    "duration": 35,
    "start_time": "2023-02-23T17:38:49.416Z"
   },
   {
    "duration": 15,
    "start_time": "2023-02-23T17:38:49.465Z"
   },
   {
    "duration": 471,
    "start_time": "2023-02-23T17:39:51.810Z"
   },
   {
    "duration": 4,
    "start_time": "2023-02-23T17:42:28.925Z"
   },
   {
    "duration": 24,
    "start_time": "2023-02-23T17:42:28.932Z"
   },
   {
    "duration": 9,
    "start_time": "2023-02-23T17:42:28.958Z"
   },
   {
    "duration": 12,
    "start_time": "2023-02-23T17:42:28.969Z"
   },
   {
    "duration": 15,
    "start_time": "2023-02-23T17:42:28.983Z"
   },
   {
    "duration": 46,
    "start_time": "2023-02-23T17:42:29.000Z"
   },
   {
    "duration": 13,
    "start_time": "2023-02-23T17:42:29.047Z"
   },
   {
    "duration": 16,
    "start_time": "2023-02-23T17:42:29.061Z"
   },
   {
    "duration": 14,
    "start_time": "2023-02-23T17:42:29.079Z"
   },
   {
    "duration": 12,
    "start_time": "2023-02-23T17:42:29.095Z"
   },
   {
    "duration": 41,
    "start_time": "2023-02-23T17:42:29.110Z"
   },
   {
    "duration": 550,
    "start_time": "2023-02-23T17:42:29.153Z"
   },
   {
    "duration": 0,
    "start_time": "2023-02-23T17:42:29.705Z"
   },
   {
    "duration": 0,
    "start_time": "2023-02-23T17:42:29.706Z"
   },
   {
    "duration": 0,
    "start_time": "2023-02-23T17:42:29.707Z"
   },
   {
    "duration": 0,
    "start_time": "2023-02-23T17:42:29.710Z"
   },
   {
    "duration": 0,
    "start_time": "2023-02-23T17:42:29.711Z"
   },
   {
    "duration": 0,
    "start_time": "2023-02-23T17:42:29.712Z"
   },
   {
    "duration": 0,
    "start_time": "2023-02-23T17:42:29.713Z"
   },
   {
    "duration": 0,
    "start_time": "2023-02-23T17:42:29.715Z"
   },
   {
    "duration": 0,
    "start_time": "2023-02-23T17:42:29.716Z"
   },
   {
    "duration": 0,
    "start_time": "2023-02-23T17:42:29.717Z"
   },
   {
    "duration": 0,
    "start_time": "2023-02-23T17:42:29.718Z"
   },
   {
    "duration": 0,
    "start_time": "2023-02-23T17:42:29.737Z"
   },
   {
    "duration": 0,
    "start_time": "2023-02-23T17:42:29.739Z"
   },
   {
    "duration": 0,
    "start_time": "2023-02-23T17:42:29.740Z"
   },
   {
    "duration": 492,
    "start_time": "2023-02-23T17:42:45.462Z"
   },
   {
    "duration": 706,
    "start_time": "2023-02-23T17:43:15.908Z"
   },
   {
    "duration": 556,
    "start_time": "2023-02-23T17:45:24.829Z"
   },
   {
    "duration": 482,
    "start_time": "2023-02-23T17:47:00.683Z"
   },
   {
    "duration": 473,
    "start_time": "2023-02-23T17:47:08.968Z"
   },
   {
    "duration": 482,
    "start_time": "2023-02-23T17:48:45.898Z"
   },
   {
    "duration": 493,
    "start_time": "2023-02-23T17:48:54.007Z"
   },
   {
    "duration": 494,
    "start_time": "2023-02-23T17:49:05.336Z"
   },
   {
    "duration": 494,
    "start_time": "2023-02-23T17:49:23.405Z"
   },
   {
    "duration": 258,
    "start_time": "2023-02-23T17:50:02.126Z"
   },
   {
    "duration": 234,
    "start_time": "2023-02-23T17:50:18.626Z"
   },
   {
    "duration": 198,
    "start_time": "2023-02-23T17:56:14.417Z"
   },
   {
    "duration": 185,
    "start_time": "2023-02-23T17:56:21.697Z"
   },
   {
    "duration": 449,
    "start_time": "2023-02-23T17:58:24.337Z"
   },
   {
    "duration": 300,
    "start_time": "2023-02-23T17:58:39.237Z"
   },
   {
    "duration": 199,
    "start_time": "2023-02-23T18:00:04.140Z"
   },
   {
    "duration": 211,
    "start_time": "2023-02-23T18:00:26.437Z"
   },
   {
    "duration": 311,
    "start_time": "2023-02-23T18:01:41.858Z"
   },
   {
    "duration": 179,
    "start_time": "2023-02-23T18:01:49.117Z"
   },
   {
    "duration": 3,
    "start_time": "2023-02-23T18:03:38.207Z"
   },
   {
    "duration": 193,
    "start_time": "2023-02-23T18:03:55.228Z"
   },
   {
    "duration": 198,
    "start_time": "2023-02-23T18:04:58.387Z"
   },
   {
    "duration": 178,
    "start_time": "2023-02-23T18:05:41.456Z"
   },
   {
    "duration": 197,
    "start_time": "2023-02-23T18:05:47.607Z"
   },
   {
    "duration": 4,
    "start_time": "2023-02-23T18:13:01.528Z"
   },
   {
    "duration": 59,
    "start_time": "2023-02-23T18:13:01.540Z"
   },
   {
    "duration": 9,
    "start_time": "2023-02-23T18:13:01.601Z"
   },
   {
    "duration": 31,
    "start_time": "2023-02-23T18:13:01.612Z"
   },
   {
    "duration": 29,
    "start_time": "2023-02-23T18:13:01.645Z"
   },
   {
    "duration": 57,
    "start_time": "2023-02-23T18:13:01.676Z"
   },
   {
    "duration": 23,
    "start_time": "2023-02-23T18:13:01.735Z"
   },
   {
    "duration": 33,
    "start_time": "2023-02-23T18:13:01.760Z"
   },
   {
    "duration": 16,
    "start_time": "2023-02-23T18:13:01.794Z"
   },
   {
    "duration": 24,
    "start_time": "2023-02-23T18:13:01.811Z"
   },
   {
    "duration": 43,
    "start_time": "2023-02-23T18:13:01.836Z"
   },
   {
    "duration": 539,
    "start_time": "2023-02-23T18:13:01.882Z"
   },
   {
    "duration": 247,
    "start_time": "2023-02-23T18:13:02.423Z"
   },
   {
    "duration": 298,
    "start_time": "2023-02-23T18:13:02.672Z"
   },
   {
    "duration": 165,
    "start_time": "2023-02-23T18:13:02.972Z"
   },
   {
    "duration": 285,
    "start_time": "2023-02-23T18:13:03.139Z"
   },
   {
    "duration": 128,
    "start_time": "2023-02-23T18:13:03.426Z"
   },
   {
    "duration": 6,
    "start_time": "2023-02-23T18:13:03.557Z"
   },
   {
    "duration": 156,
    "start_time": "2023-02-23T18:13:03.565Z"
   },
   {
    "duration": 5,
    "start_time": "2023-02-23T18:13:03.723Z"
   },
   {
    "duration": 253,
    "start_time": "2023-02-23T18:13:03.729Z"
   },
   {
    "duration": 355,
    "start_time": "2023-02-23T18:13:03.984Z"
   },
   {
    "duration": 24,
    "start_time": "2023-02-23T18:13:04.341Z"
   },
   {
    "duration": 11,
    "start_time": "2023-02-23T18:13:04.368Z"
   },
   {
    "duration": 32,
    "start_time": "2023-02-23T18:13:04.381Z"
   },
   {
    "duration": 14,
    "start_time": "2023-02-23T18:13:04.414Z"
   },
   {
    "duration": 480,
    "start_time": "2023-02-23T18:14:49.865Z"
   },
   {
    "duration": 487,
    "start_time": "2023-02-23T18:15:00.295Z"
   },
   {
    "duration": 554,
    "start_time": "2023-02-23T18:15:26.295Z"
   },
   {
    "duration": 21,
    "start_time": "2023-02-23T18:17:50.026Z"
   },
   {
    "duration": 12,
    "start_time": "2023-02-23T18:18:02.461Z"
   },
   {
    "duration": 12,
    "start_time": "2023-02-23T18:18:26.756Z"
   },
   {
    "duration": 12,
    "start_time": "2023-02-23T18:19:00.159Z"
   },
   {
    "duration": 18,
    "start_time": "2023-02-23T18:19:25.347Z"
   },
   {
    "duration": 4,
    "start_time": "2023-02-23T18:19:38.430Z"
   },
   {
    "duration": 40,
    "start_time": "2023-02-23T18:19:38.457Z"
   },
   {
    "duration": 11,
    "start_time": "2023-02-23T18:19:38.500Z"
   },
   {
    "duration": 16,
    "start_time": "2023-02-23T18:19:38.513Z"
   },
   {
    "duration": 25,
    "start_time": "2023-02-23T18:19:38.531Z"
   },
   {
    "duration": 45,
    "start_time": "2023-02-23T18:19:38.559Z"
   },
   {
    "duration": 13,
    "start_time": "2023-02-23T18:19:38.606Z"
   },
   {
    "duration": 26,
    "start_time": "2023-02-23T18:19:38.621Z"
   },
   {
    "duration": 17,
    "start_time": "2023-02-23T18:19:38.652Z"
   },
   {
    "duration": 14,
    "start_time": "2023-02-23T18:19:38.671Z"
   },
   {
    "duration": 11,
    "start_time": "2023-02-23T18:19:38.688Z"
   },
   {
    "duration": 475,
    "start_time": "2023-02-23T18:19:38.756Z"
   },
   {
    "duration": 352,
    "start_time": "2023-02-23T18:19:39.238Z"
   },
   {
    "duration": 352,
    "start_time": "2023-02-23T18:19:39.596Z"
   },
   {
    "duration": 178,
    "start_time": "2023-02-23T18:19:39.957Z"
   },
   {
    "duration": 285,
    "start_time": "2023-02-23T18:19:40.137Z"
   },
   {
    "duration": 146,
    "start_time": "2023-02-23T18:19:40.424Z"
   },
   {
    "duration": 7,
    "start_time": "2023-02-23T18:19:40.572Z"
   },
   {
    "duration": 161,
    "start_time": "2023-02-23T18:19:40.581Z"
   },
   {
    "duration": 5,
    "start_time": "2023-02-23T18:19:40.743Z"
   },
   {
    "duration": 230,
    "start_time": "2023-02-23T18:19:40.750Z"
   },
   {
    "duration": 359,
    "start_time": "2023-02-23T18:19:40.982Z"
   },
   {
    "duration": 20,
    "start_time": "2023-02-23T18:19:41.343Z"
   },
   {
    "duration": 27,
    "start_time": "2023-02-23T18:19:41.365Z"
   },
   {
    "duration": 42,
    "start_time": "2023-02-23T18:19:41.394Z"
   },
   {
    "duration": 17,
    "start_time": "2023-02-23T18:19:42.815Z"
   },
   {
    "duration": 11,
    "start_time": "2023-02-23T18:20:19.352Z"
   },
   {
    "duration": 23,
    "start_time": "2023-02-23T18:20:27.862Z"
   },
   {
    "duration": 12,
    "start_time": "2023-02-23T18:20:30.187Z"
   },
   {
    "duration": 11,
    "start_time": "2023-02-23T18:54:52.288Z"
   },
   {
    "duration": 53,
    "start_time": "2023-02-23T18:55:07.204Z"
   },
   {
    "duration": 12,
    "start_time": "2023-02-23T18:55:15.415Z"
   },
   {
    "duration": 18,
    "start_time": "2023-02-23T18:56:55.751Z"
   },
   {
    "duration": 3,
    "start_time": "2023-02-23T18:57:06.805Z"
   },
   {
    "duration": 139,
    "start_time": "2023-02-23T19:37:53.568Z"
   },
   {
    "duration": 180,
    "start_time": "2023-02-23T19:38:13.770Z"
   },
   {
    "duration": 208,
    "start_time": "2023-02-23T19:40:32.834Z"
   },
   {
    "duration": 177,
    "start_time": "2023-02-23T19:43:00.981Z"
   },
   {
    "duration": 179,
    "start_time": "2023-02-23T19:44:06.475Z"
   },
   {
    "duration": 5,
    "start_time": "2023-02-23T19:45:36.894Z"
   },
   {
    "duration": 185,
    "start_time": "2023-02-23T19:45:47.341Z"
   },
   {
    "duration": 217,
    "start_time": "2023-02-23T19:47:20.775Z"
   },
   {
    "duration": 179,
    "start_time": "2023-02-23T19:47:52.121Z"
   },
   {
    "duration": 178,
    "start_time": "2023-02-23T19:48:18.007Z"
   },
   {
    "duration": 196,
    "start_time": "2023-02-23T19:48:35.224Z"
   },
   {
    "duration": 184,
    "start_time": "2023-02-23T19:48:44.182Z"
   },
   {
    "duration": 185,
    "start_time": "2023-02-23T19:48:54.679Z"
   },
   {
    "duration": 205,
    "start_time": "2023-02-23T19:50:26.733Z"
   },
   {
    "duration": 463,
    "start_time": "2023-02-23T19:56:19.783Z"
   },
   {
    "duration": 217,
    "start_time": "2023-02-23T19:56:32.005Z"
   },
   {
    "duration": 534,
    "start_time": "2023-02-23T19:56:41.984Z"
   },
   {
    "duration": 294,
    "start_time": "2023-02-23T19:57:54.846Z"
   },
   {
    "duration": 290,
    "start_time": "2023-02-23T20:00:33.058Z"
   },
   {
    "duration": 280,
    "start_time": "2023-02-23T20:01:29.178Z"
   },
   {
    "duration": 308,
    "start_time": "2023-02-23T20:02:11.109Z"
   },
   {
    "duration": 309,
    "start_time": "2023-02-23T20:02:24.171Z"
   },
   {
    "duration": 329,
    "start_time": "2023-02-23T20:03:14.654Z"
   },
   {
    "duration": 303,
    "start_time": "2023-02-23T20:03:20.784Z"
   },
   {
    "duration": 288,
    "start_time": "2023-02-23T20:05:07.892Z"
   },
   {
    "duration": 273,
    "start_time": "2023-02-23T20:06:48.380Z"
   },
   {
    "duration": 330,
    "start_time": "2023-02-23T20:09:28.986Z"
   },
   {
    "duration": 278,
    "start_time": "2023-02-23T20:15:32.867Z"
   },
   {
    "duration": 51,
    "start_time": "2023-02-24T08:50:56.131Z"
   },
   {
    "duration": 1223,
    "start_time": "2023-02-24T08:51:02.534Z"
   },
   {
    "duration": 79,
    "start_time": "2023-02-24T08:51:03.759Z"
   },
   {
    "duration": 12,
    "start_time": "2023-02-24T08:51:03.839Z"
   },
   {
    "duration": 14,
    "start_time": "2023-02-24T08:51:03.853Z"
   },
   {
    "duration": 10,
    "start_time": "2023-02-24T08:51:03.868Z"
   },
   {
    "duration": 155,
    "start_time": "2023-02-24T08:51:03.880Z"
   },
   {
    "duration": 10,
    "start_time": "2023-02-24T08:51:04.036Z"
   },
   {
    "duration": 26,
    "start_time": "2023-02-24T08:51:04.047Z"
   },
   {
    "duration": 12,
    "start_time": "2023-02-24T08:51:04.074Z"
   },
   {
    "duration": 16,
    "start_time": "2023-02-24T08:51:04.088Z"
   },
   {
    "duration": 537,
    "start_time": "2023-02-24T08:51:04.105Z"
   },
   {
    "duration": 199,
    "start_time": "2023-02-24T08:51:04.644Z"
   },
   {
    "duration": 319,
    "start_time": "2023-02-24T08:51:04.844Z"
   },
   {
    "duration": 200,
    "start_time": "2023-02-24T08:51:05.165Z"
   },
   {
    "duration": 348,
    "start_time": "2023-02-24T08:51:05.367Z"
   },
   {
    "duration": 116,
    "start_time": "2023-02-24T08:51:05.717Z"
   },
   {
    "duration": 4,
    "start_time": "2023-02-24T08:51:05.835Z"
   },
   {
    "duration": 133,
    "start_time": "2023-02-24T08:51:05.840Z"
   },
   {
    "duration": 4,
    "start_time": "2023-02-24T08:51:05.974Z"
   },
   {
    "duration": 222,
    "start_time": "2023-02-24T08:51:05.979Z"
   },
   {
    "duration": 332,
    "start_time": "2023-02-24T08:51:06.204Z"
   },
   {
    "duration": 9,
    "start_time": "2023-02-24T08:51:06.538Z"
   },
   {
    "duration": 8,
    "start_time": "2023-02-24T08:51:06.548Z"
   },
   {
    "duration": 47,
    "start_time": "2023-02-24T08:51:06.558Z"
   },
   {
    "duration": 17,
    "start_time": "2023-02-24T08:51:06.607Z"
   },
   {
    "duration": 572,
    "start_time": "2023-02-24T09:00:24.247Z"
   },
   {
    "duration": 584,
    "start_time": "2023-02-24T09:00:32.128Z"
   },
   {
    "duration": 534,
    "start_time": "2023-02-24T09:00:40.888Z"
   },
   {
    "duration": 1202,
    "start_time": "2023-02-24T10:51:02.465Z"
   },
   {
    "duration": 69,
    "start_time": "2023-02-24T10:51:03.669Z"
   },
   {
    "duration": 11,
    "start_time": "2023-02-24T10:51:03.739Z"
   },
   {
    "duration": 10,
    "start_time": "2023-02-24T10:51:03.752Z"
   },
   {
    "duration": 10,
    "start_time": "2023-02-24T10:51:03.763Z"
   },
   {
    "duration": 114,
    "start_time": "2023-02-24T10:51:03.774Z"
   },
   {
    "duration": 10,
    "start_time": "2023-02-24T10:51:03.890Z"
   },
   {
    "duration": 17,
    "start_time": "2023-02-24T10:51:03.902Z"
   },
   {
    "duration": 7,
    "start_time": "2023-02-24T10:51:03.920Z"
   },
   {
    "duration": 22,
    "start_time": "2023-02-24T10:51:03.928Z"
   },
   {
    "duration": 547,
    "start_time": "2023-02-24T10:51:03.951Z"
   },
   {
    "duration": 200,
    "start_time": "2023-02-24T10:51:04.500Z"
   },
   {
    "duration": 343,
    "start_time": "2023-02-24T10:51:04.702Z"
   },
   {
    "duration": 193,
    "start_time": "2023-02-24T10:51:05.049Z"
   },
   {
    "duration": 301,
    "start_time": "2023-02-24T10:51:05.244Z"
   },
   {
    "duration": 111,
    "start_time": "2023-02-24T10:51:05.547Z"
   },
   {
    "duration": 4,
    "start_time": "2023-02-24T10:51:05.660Z"
   },
   {
    "duration": 120,
    "start_time": "2023-02-24T10:51:05.665Z"
   },
   {
    "duration": 5,
    "start_time": "2023-02-24T10:51:05.786Z"
   },
   {
    "duration": 220,
    "start_time": "2023-02-24T10:51:05.792Z"
   },
   {
    "duration": 354,
    "start_time": "2023-02-24T10:51:06.013Z"
   },
   {
    "duration": 9,
    "start_time": "2023-02-24T10:51:06.368Z"
   },
   {
    "duration": 8,
    "start_time": "2023-02-24T10:51:06.379Z"
   },
   {
    "duration": 40,
    "start_time": "2023-02-24T10:51:06.389Z"
   },
   {
    "duration": 12,
    "start_time": "2023-02-24T10:51:06.430Z"
   },
   {
    "duration": 207,
    "start_time": "2023-02-24T10:51:30.526Z"
   },
   {
    "duration": 340,
    "start_time": "2023-02-24T10:52:50.494Z"
   },
   {
    "duration": 371,
    "start_time": "2023-02-24T10:53:14.456Z"
   },
   {
    "duration": 316,
    "start_time": "2023-02-24T10:53:36.916Z"
   },
   {
    "duration": 278,
    "start_time": "2023-02-24T10:56:22.947Z"
   },
   {
    "duration": 369,
    "start_time": "2023-02-24T10:57:45.694Z"
   },
   {
    "duration": 359,
    "start_time": "2023-02-24T10:58:49.989Z"
   },
   {
    "duration": 116,
    "start_time": "2023-02-24T11:00:12.260Z"
   },
   {
    "duration": 123,
    "start_time": "2023-02-24T11:05:06.355Z"
   },
   {
    "duration": 1361,
    "start_time": "2023-02-24T16:20:35.553Z"
   },
   {
    "duration": 79,
    "start_time": "2023-02-24T16:20:36.916Z"
   },
   {
    "duration": 14,
    "start_time": "2023-02-24T16:20:36.996Z"
   },
   {
    "duration": 20,
    "start_time": "2023-02-24T16:20:37.012Z"
   },
   {
    "duration": 23,
    "start_time": "2023-02-24T16:20:37.034Z"
   },
   {
    "duration": 174,
    "start_time": "2023-02-24T16:20:37.059Z"
   },
   {
    "duration": 11,
    "start_time": "2023-02-24T16:20:37.235Z"
   },
   {
    "duration": 44,
    "start_time": "2023-02-24T16:20:37.247Z"
   },
   {
    "duration": 11,
    "start_time": "2023-02-24T16:20:37.293Z"
   },
   {
    "duration": 29,
    "start_time": "2023-02-24T16:20:37.306Z"
   },
   {
    "duration": 623,
    "start_time": "2023-02-24T16:20:37.336Z"
   },
   {
    "duration": 231,
    "start_time": "2023-02-24T16:20:37.960Z"
   },
   {
    "duration": 405,
    "start_time": "2023-02-24T16:20:38.193Z"
   },
   {
    "duration": 233,
    "start_time": "2023-02-24T16:20:38.600Z"
   },
   {
    "duration": 356,
    "start_time": "2023-02-24T16:20:38.834Z"
   },
   {
    "duration": 145,
    "start_time": "2023-02-24T16:20:39.192Z"
   },
   {
    "duration": 5,
    "start_time": "2023-02-24T16:20:39.344Z"
   },
   {
    "duration": 157,
    "start_time": "2023-02-24T16:20:39.351Z"
   },
   {
    "duration": 5,
    "start_time": "2023-02-24T16:20:39.509Z"
   },
   {
    "duration": 245,
    "start_time": "2023-02-24T16:20:39.516Z"
   },
   {
    "duration": 369,
    "start_time": "2023-02-24T16:20:39.763Z"
   },
   {
    "duration": 16,
    "start_time": "2023-02-24T16:20:40.134Z"
   },
   {
    "duration": 8,
    "start_time": "2023-02-24T16:20:40.151Z"
   },
   {
    "duration": 28,
    "start_time": "2023-02-24T16:20:40.161Z"
   },
   {
    "duration": 13,
    "start_time": "2023-02-24T16:20:40.191Z"
   },
   {
    "duration": 125,
    "start_time": "2023-02-24T16:21:02.101Z"
   },
   {
    "duration": 213,
    "start_time": "2023-02-24T16:28:07.237Z"
   },
   {
    "duration": 170,
    "start_time": "2023-02-24T16:28:59.972Z"
   },
   {
    "duration": 169,
    "start_time": "2023-02-24T16:29:16.130Z"
   },
   {
    "duration": 134,
    "start_time": "2023-02-24T16:29:41.719Z"
   },
   {
    "duration": 6,
    "start_time": "2023-02-24T16:33:29.424Z"
   },
   {
    "duration": 150,
    "start_time": "2023-02-24T16:36:17.054Z"
   },
   {
    "duration": 195,
    "start_time": "2023-02-24T16:37:16.056Z"
   },
   {
    "duration": 185,
    "start_time": "2023-02-24T16:37:26.803Z"
   },
   {
    "duration": 232,
    "start_time": "2023-02-24T16:37:39.816Z"
   },
   {
    "duration": 191,
    "start_time": "2023-02-24T16:38:14.302Z"
   },
   {
    "duration": 144,
    "start_time": "2023-02-24T16:39:02.888Z"
   },
   {
    "duration": 68,
    "start_time": "2023-02-24T16:42:07.973Z"
   },
   {
    "duration": 12,
    "start_time": "2023-02-24T16:42:41.207Z"
   },
   {
    "duration": 153,
    "start_time": "2023-02-24T16:44:31.635Z"
   },
   {
    "duration": 112,
    "start_time": "2023-02-24T18:01:12.865Z"
   },
   {
    "duration": 168,
    "start_time": "2023-02-24T18:02:53.561Z"
   },
   {
    "duration": 132,
    "start_time": "2023-02-24T18:41:30.172Z"
   },
   {
    "duration": 268,
    "start_time": "2023-02-24T18:42:29.739Z"
   },
   {
    "duration": 159,
    "start_time": "2023-02-24T18:43:02.836Z"
   },
   {
    "duration": 13,
    "start_time": "2023-02-24T18:43:13.084Z"
   },
   {
    "duration": 4,
    "start_time": "2023-02-24T18:43:18.639Z"
   },
   {
    "duration": 26,
    "start_time": "2023-02-24T18:43:18.651Z"
   },
   {
    "duration": 9,
    "start_time": "2023-02-24T18:43:18.679Z"
   },
   {
    "duration": 14,
    "start_time": "2023-02-24T18:43:18.729Z"
   },
   {
    "duration": 18,
    "start_time": "2023-02-24T18:43:18.745Z"
   },
   {
    "duration": 53,
    "start_time": "2023-02-24T18:43:18.765Z"
   },
   {
    "duration": 12,
    "start_time": "2023-02-24T18:43:18.821Z"
   },
   {
    "duration": 23,
    "start_time": "2023-02-24T18:43:18.835Z"
   },
   {
    "duration": 6,
    "start_time": "2023-02-24T18:43:18.859Z"
   },
   {
    "duration": 17,
    "start_time": "2023-02-24T18:43:18.868Z"
   },
   {
    "duration": 543,
    "start_time": "2023-02-24T18:43:18.890Z"
   },
   {
    "duration": 266,
    "start_time": "2023-02-24T18:43:19.435Z"
   },
   {
    "duration": 465,
    "start_time": "2023-02-24T18:43:19.703Z"
   },
   {
    "duration": 260,
    "start_time": "2023-02-24T18:43:20.172Z"
   },
   {
    "duration": 388,
    "start_time": "2023-02-24T18:43:20.434Z"
   },
   {
    "duration": 144,
    "start_time": "2023-02-24T18:43:20.823Z"
   },
   {
    "duration": 5,
    "start_time": "2023-02-24T18:43:20.969Z"
   },
   {
    "duration": 184,
    "start_time": "2023-02-24T18:43:20.976Z"
   },
   {
    "duration": 6,
    "start_time": "2023-02-24T18:43:21.162Z"
   },
   {
    "duration": 236,
    "start_time": "2023-02-24T18:43:21.170Z"
   },
   {
    "duration": 179,
    "start_time": "2023-02-24T18:43:21.408Z"
   },
   {
    "duration": 12,
    "start_time": "2023-02-24T18:43:21.588Z"
   },
   {
    "duration": 1223,
    "start_time": "2023-02-24T18:43:21.602Z"
   },
   {
    "duration": 0,
    "start_time": "2023-02-24T18:43:22.827Z"
   },
   {
    "duration": 0,
    "start_time": "2023-02-24T18:43:22.829Z"
   },
   {
    "duration": 187,
    "start_time": "2023-02-24T18:44:48.729Z"
   },
   {
    "duration": 1229,
    "start_time": "2023-02-25T08:01:58.800Z"
   },
   {
    "duration": 62,
    "start_time": "2023-02-25T08:02:00.031Z"
   },
   {
    "duration": 12,
    "start_time": "2023-02-25T08:02:00.094Z"
   },
   {
    "duration": 12,
    "start_time": "2023-02-25T08:02:00.108Z"
   },
   {
    "duration": 11,
    "start_time": "2023-02-25T08:02:00.122Z"
   },
   {
    "duration": 129,
    "start_time": "2023-02-25T08:02:00.135Z"
   },
   {
    "duration": 11,
    "start_time": "2023-02-25T08:02:00.266Z"
   },
   {
    "duration": 31,
    "start_time": "2023-02-25T08:02:00.278Z"
   },
   {
    "duration": 7,
    "start_time": "2023-02-25T08:02:00.311Z"
   },
   {
    "duration": 39,
    "start_time": "2023-02-25T08:02:00.320Z"
   },
   {
    "duration": 617,
    "start_time": "2023-02-25T08:02:00.361Z"
   },
   {
    "duration": 236,
    "start_time": "2023-02-25T08:02:00.980Z"
   },
   {
    "duration": 368,
    "start_time": "2023-02-25T08:02:01.218Z"
   },
   {
    "duration": 225,
    "start_time": "2023-02-25T08:02:01.588Z"
   },
   {
    "duration": 393,
    "start_time": "2023-02-25T08:02:01.815Z"
   },
   {
    "duration": 143,
    "start_time": "2023-02-25T08:02:02.209Z"
   },
   {
    "duration": 7,
    "start_time": "2023-02-25T08:02:02.355Z"
   },
   {
    "duration": 189,
    "start_time": "2023-02-25T08:02:02.363Z"
   },
   {
    "duration": 12,
    "start_time": "2023-02-25T08:02:02.554Z"
   },
   {
    "duration": 262,
    "start_time": "2023-02-25T08:02:02.569Z"
   },
   {
    "duration": 188,
    "start_time": "2023-02-25T08:02:02.833Z"
   },
   {
    "duration": 21,
    "start_time": "2023-02-25T08:02:03.023Z"
   },
   {
    "duration": 9,
    "start_time": "2023-02-25T08:02:03.046Z"
   },
   {
    "duration": 29,
    "start_time": "2023-02-25T08:02:03.058Z"
   },
   {
    "duration": 11,
    "start_time": "2023-02-25T08:02:03.089Z"
   },
   {
    "duration": 8,
    "start_time": "2023-02-25T09:07:51.603Z"
   },
   {
    "duration": 9,
    "start_time": "2023-02-25T09:08:45.865Z"
   },
   {
    "duration": 25,
    "start_time": "2023-02-25T09:08:47.249Z"
   },
   {
    "duration": 13,
    "start_time": "2023-02-25T09:09:19.608Z"
   },
   {
    "duration": 3,
    "start_time": "2023-02-25T16:42:24.198Z"
   },
   {
    "duration": 22,
    "start_time": "2023-02-25T16:42:24.221Z"
   },
   {
    "duration": 8,
    "start_time": "2023-02-25T16:42:24.245Z"
   },
   {
    "duration": 14,
    "start_time": "2023-02-25T16:42:24.254Z"
   },
   {
    "duration": 15,
    "start_time": "2023-02-25T16:42:24.270Z"
   },
   {
    "duration": 42,
    "start_time": "2023-02-25T16:42:24.287Z"
   },
   {
    "duration": 16,
    "start_time": "2023-02-25T16:42:24.331Z"
   },
   {
    "duration": 25,
    "start_time": "2023-02-25T16:42:24.349Z"
   },
   {
    "duration": 4,
    "start_time": "2023-02-25T16:42:24.377Z"
   },
   {
    "duration": 18,
    "start_time": "2023-02-25T16:42:24.383Z"
   },
   {
    "duration": 544,
    "start_time": "2023-02-25T16:42:24.403Z"
   },
   {
    "duration": 303,
    "start_time": "2023-02-25T16:42:24.949Z"
   },
   {
    "duration": 342,
    "start_time": "2023-02-25T16:42:25.253Z"
   },
   {
    "duration": 237,
    "start_time": "2023-02-25T16:42:25.597Z"
   },
   {
    "duration": 355,
    "start_time": "2023-02-25T16:42:25.836Z"
   },
   {
    "duration": 132,
    "start_time": "2023-02-25T16:42:26.194Z"
   },
   {
    "duration": 12,
    "start_time": "2023-02-25T16:42:26.328Z"
   },
   {
    "duration": 159,
    "start_time": "2023-02-25T16:42:26.342Z"
   },
   {
    "duration": 5,
    "start_time": "2023-02-25T16:42:26.503Z"
   },
   {
    "duration": 236,
    "start_time": "2023-02-25T16:42:26.510Z"
   },
   {
    "duration": 192,
    "start_time": "2023-02-25T16:42:26.748Z"
   },
   {
    "duration": 10,
    "start_time": "2023-02-25T16:42:26.942Z"
   },
   {
    "duration": 10,
    "start_time": "2023-02-25T16:42:26.953Z"
   },
   {
    "duration": 34,
    "start_time": "2023-02-25T16:42:26.965Z"
   },
   {
    "duration": 12,
    "start_time": "2023-02-25T16:42:27.001Z"
   },
   {
    "duration": 147,
    "start_time": "2023-02-25T17:12:44.871Z"
   },
   {
    "duration": 3,
    "start_time": "2023-02-25T17:21:33.614Z"
   },
   {
    "duration": 22,
    "start_time": "2023-02-25T17:21:33.633Z"
   },
   {
    "duration": 9,
    "start_time": "2023-02-25T17:21:33.657Z"
   },
   {
    "duration": 14,
    "start_time": "2023-02-25T17:21:33.689Z"
   },
   {
    "duration": 10,
    "start_time": "2023-02-25T17:21:33.718Z"
   },
   {
    "duration": 42,
    "start_time": "2023-02-25T17:21:33.733Z"
   },
   {
    "duration": 11,
    "start_time": "2023-02-25T17:21:33.777Z"
   },
   {
    "duration": 18,
    "start_time": "2023-02-25T17:21:33.789Z"
   },
   {
    "duration": 2,
    "start_time": "2023-02-25T17:21:33.809Z"
   },
   {
    "duration": 13,
    "start_time": "2023-02-25T17:21:33.813Z"
   },
   {
    "duration": 466,
    "start_time": "2023-02-25T17:21:33.852Z"
   },
   {
    "duration": 231,
    "start_time": "2023-02-25T17:21:34.320Z"
   },
   {
    "duration": 337,
    "start_time": "2023-02-25T17:21:34.552Z"
   },
   {
    "duration": 218,
    "start_time": "2023-02-25T17:21:34.891Z"
   },
   {
    "duration": 353,
    "start_time": "2023-02-25T17:21:35.111Z"
   },
   {
    "duration": 124,
    "start_time": "2023-02-25T17:21:35.465Z"
   },
   {
    "duration": 6,
    "start_time": "2023-02-25T17:21:35.590Z"
   },
   {
    "duration": 243,
    "start_time": "2023-02-25T17:21:35.597Z"
   },
   {
    "duration": 5,
    "start_time": "2023-02-25T17:21:35.842Z"
   },
   {
    "duration": 157,
    "start_time": "2023-02-25T17:21:35.849Z"
   },
   {
    "duration": 12,
    "start_time": "2023-02-25T17:21:36.008Z"
   },
   {
    "duration": 20,
    "start_time": "2023-02-25T17:21:36.021Z"
   },
   {
    "duration": 29,
    "start_time": "2023-02-25T17:21:36.042Z"
   },
   {
    "duration": 11,
    "start_time": "2023-02-25T17:21:36.073Z"
   },
   {
    "duration": 28,
    "start_time": "2023-02-25T17:22:45.301Z"
   },
   {
    "duration": 4,
    "start_time": "2023-02-25T17:23:26.792Z"
   },
   {
    "duration": 30,
    "start_time": "2023-02-25T17:23:26.799Z"
   },
   {
    "duration": 10,
    "start_time": "2023-02-25T17:23:26.831Z"
   },
   {
    "duration": 13,
    "start_time": "2023-02-25T17:23:26.843Z"
   },
   {
    "duration": 12,
    "start_time": "2023-02-25T17:23:26.860Z"
   },
   {
    "duration": 43,
    "start_time": "2023-02-25T17:23:26.873Z"
   },
   {
    "duration": 11,
    "start_time": "2023-02-25T17:23:26.918Z"
   },
   {
    "duration": 17,
    "start_time": "2023-02-25T17:23:26.931Z"
   },
   {
    "duration": 3,
    "start_time": "2023-02-25T17:23:26.950Z"
   },
   {
    "duration": 16,
    "start_time": "2023-02-25T17:23:26.955Z"
   },
   {
    "duration": 474,
    "start_time": "2023-02-25T17:23:26.980Z"
   },
   {
    "duration": 217,
    "start_time": "2023-02-25T17:23:27.456Z"
   },
   {
    "duration": 301,
    "start_time": "2023-02-25T17:23:27.675Z"
   },
   {
    "duration": 242,
    "start_time": "2023-02-25T17:23:27.979Z"
   },
   {
    "duration": 396,
    "start_time": "2023-02-25T17:23:28.222Z"
   },
   {
    "duration": 139,
    "start_time": "2023-02-25T17:23:28.620Z"
   },
   {
    "duration": 6,
    "start_time": "2023-02-25T17:23:28.761Z"
   },
   {
    "duration": 168,
    "start_time": "2023-02-25T17:23:28.769Z"
   },
   {
    "duration": 5,
    "start_time": "2023-02-25T17:23:28.939Z"
   },
   {
    "duration": 22,
    "start_time": "2023-02-25T17:23:28.947Z"
   },
   {
    "duration": 12,
    "start_time": "2023-02-25T17:23:28.971Z"
   },
   {
    "duration": 10,
    "start_time": "2023-02-25T17:23:28.985Z"
   },
   {
    "duration": 56,
    "start_time": "2023-02-25T17:23:28.997Z"
   },
   {
    "duration": 16,
    "start_time": "2023-02-25T17:23:29.054Z"
   },
   {
    "duration": 3,
    "start_time": "2023-02-25T17:28:26.920Z"
   },
   {
    "duration": 29,
    "start_time": "2023-02-25T17:28:26.925Z"
   },
   {
    "duration": 9,
    "start_time": "2023-02-25T17:28:26.956Z"
   },
   {
    "duration": 21,
    "start_time": "2023-02-25T17:28:26.967Z"
   },
   {
    "duration": 12,
    "start_time": "2023-02-25T17:28:26.991Z"
   },
   {
    "duration": 52,
    "start_time": "2023-02-25T17:28:27.004Z"
   },
   {
    "duration": 12,
    "start_time": "2023-02-25T17:28:27.058Z"
   },
   {
    "duration": 24,
    "start_time": "2023-02-25T17:28:27.071Z"
   },
   {
    "duration": 4,
    "start_time": "2023-02-25T17:28:27.097Z"
   },
   {
    "duration": 20,
    "start_time": "2023-02-25T17:28:27.102Z"
   },
   {
    "duration": 552,
    "start_time": "2023-02-25T17:28:27.126Z"
   },
   {
    "duration": 226,
    "start_time": "2023-02-25T17:28:27.680Z"
   },
   {
    "duration": 325,
    "start_time": "2023-02-25T17:28:27.908Z"
   },
   {
    "duration": 214,
    "start_time": "2023-02-25T17:28:28.237Z"
   },
   {
    "duration": 322,
    "start_time": "2023-02-25T17:28:28.452Z"
   },
   {
    "duration": 119,
    "start_time": "2023-02-25T17:28:28.776Z"
   },
   {
    "duration": 4,
    "start_time": "2023-02-25T17:28:28.896Z"
   },
   {
    "duration": 232,
    "start_time": "2023-02-25T17:28:28.901Z"
   },
   {
    "duration": 5,
    "start_time": "2023-02-25T17:28:29.136Z"
   },
   {
    "duration": 19,
    "start_time": "2023-02-25T17:28:29.143Z"
   },
   {
    "duration": 8,
    "start_time": "2023-02-25T17:28:29.164Z"
   },
   {
    "duration": 6,
    "start_time": "2023-02-25T17:28:29.174Z"
   },
   {
    "duration": 26,
    "start_time": "2023-02-25T17:28:29.181Z"
   },
   {
    "duration": 37,
    "start_time": "2023-02-25T17:28:29.209Z"
   },
   {
    "duration": 3,
    "start_time": "2023-02-25T17:33:12.146Z"
   },
   {
    "duration": 22,
    "start_time": "2023-02-25T17:33:12.166Z"
   },
   {
    "duration": 4,
    "start_time": "2023-02-25T17:43:25.335Z"
   },
   {
    "duration": 24,
    "start_time": "2023-02-25T17:43:25.375Z"
   },
   {
    "duration": 10,
    "start_time": "2023-02-25T17:43:25.400Z"
   },
   {
    "duration": 10,
    "start_time": "2023-02-25T17:43:25.427Z"
   },
   {
    "duration": 11,
    "start_time": "2023-02-25T17:43:25.456Z"
   },
   {
    "duration": 45,
    "start_time": "2023-02-25T17:43:25.471Z"
   },
   {
    "duration": 10,
    "start_time": "2023-02-25T17:43:25.518Z"
   },
   {
    "duration": 26,
    "start_time": "2023-02-25T17:43:25.530Z"
   },
   {
    "duration": 8,
    "start_time": "2023-02-25T17:43:25.558Z"
   },
   {
    "duration": 15,
    "start_time": "2023-02-25T17:43:25.568Z"
   },
   {
    "duration": 556,
    "start_time": "2023-02-25T17:43:25.666Z"
   },
   {
    "duration": 257,
    "start_time": "2023-02-25T17:43:26.224Z"
   },
   {
    "duration": 320,
    "start_time": "2023-02-25T17:43:26.483Z"
   },
   {
    "duration": 254,
    "start_time": "2023-02-25T17:43:26.805Z"
   },
   {
    "duration": 344,
    "start_time": "2023-02-25T17:43:27.061Z"
   },
   {
    "duration": 141,
    "start_time": "2023-02-25T17:43:27.406Z"
   },
   {
    "duration": 5,
    "start_time": "2023-02-25T17:43:27.548Z"
   },
   {
    "duration": 162,
    "start_time": "2023-02-25T17:43:27.555Z"
   },
   {
    "duration": 5,
    "start_time": "2023-02-25T17:43:27.719Z"
   },
   {
    "duration": 33,
    "start_time": "2023-02-25T17:43:27.726Z"
   },
   {
    "duration": 11,
    "start_time": "2023-02-25T17:43:27.760Z"
   },
   {
    "duration": 7,
    "start_time": "2023-02-25T17:43:27.773Z"
   },
   {
    "duration": 59,
    "start_time": "2023-02-25T17:43:27.781Z"
   },
   {
    "duration": 14,
    "start_time": "2023-02-25T17:43:27.842Z"
   },
   {
    "duration": 1074,
    "start_time": "2023-02-25T17:56:31.054Z"
   },
   {
    "duration": 23,
    "start_time": "2023-02-25T17:56:32.130Z"
   },
   {
    "duration": 12,
    "start_time": "2023-02-25T17:56:32.155Z"
   },
   {
    "duration": 12,
    "start_time": "2023-02-25T17:56:32.169Z"
   },
   {
    "duration": 13,
    "start_time": "2023-02-25T17:56:32.183Z"
   },
   {
    "duration": 51,
    "start_time": "2023-02-25T17:56:32.198Z"
   },
   {
    "duration": 10,
    "start_time": "2023-02-25T17:56:32.251Z"
   },
   {
    "duration": 19,
    "start_time": "2023-02-25T17:56:32.263Z"
   },
   {
    "duration": 5,
    "start_time": "2023-02-25T17:56:32.283Z"
   },
   {
    "duration": 13,
    "start_time": "2023-02-25T17:56:32.290Z"
   },
   {
    "duration": 634,
    "start_time": "2023-02-25T17:56:32.305Z"
   },
   {
    "duration": 207,
    "start_time": "2023-02-25T17:56:32.941Z"
   },
   {
    "duration": 327,
    "start_time": "2023-02-25T17:56:33.150Z"
   },
   {
    "duration": 205,
    "start_time": "2023-02-25T17:56:33.478Z"
   },
   {
    "duration": 322,
    "start_time": "2023-02-25T17:56:33.685Z"
   },
   {
    "duration": 129,
    "start_time": "2023-02-25T17:56:34.009Z"
   },
   {
    "duration": 5,
    "start_time": "2023-02-25T17:56:34.139Z"
   },
   {
    "duration": 140,
    "start_time": "2023-02-25T17:56:34.145Z"
   },
   {
    "duration": 4,
    "start_time": "2023-02-25T17:56:34.287Z"
   },
   {
    "duration": 135,
    "start_time": "2023-02-25T17:56:34.293Z"
   },
   {
    "duration": 0,
    "start_time": "2023-02-25T17:56:34.430Z"
   },
   {
    "duration": 0,
    "start_time": "2023-02-25T17:56:34.437Z"
   },
   {
    "duration": 0,
    "start_time": "2023-02-25T17:56:34.438Z"
   },
   {
    "duration": 0,
    "start_time": "2023-02-25T17:56:34.440Z"
   },
   {
    "duration": 18,
    "start_time": "2023-02-25T18:08:15.299Z"
   },
   {
    "duration": 126,
    "start_time": "2023-02-25T18:08:59.460Z"
   },
   {
    "duration": 143,
    "start_time": "2023-02-25T18:13:41.075Z"
   },
   {
    "duration": 153,
    "start_time": "2023-02-25T18:16:43.247Z"
   },
   {
    "duration": 8,
    "start_time": "2023-02-25T18:20:45.031Z"
   },
   {
    "duration": 11,
    "start_time": "2023-02-25T18:20:46.978Z"
   },
   {
    "duration": 27,
    "start_time": "2023-02-25T18:21:41.535Z"
   },
   {
    "duration": 16,
    "start_time": "2023-02-25T18:27:24.409Z"
   },
   {
    "duration": 9,
    "start_time": "2023-02-25T18:28:41.426Z"
   },
   {
    "duration": 2,
    "start_time": "2023-02-25T18:52:19.023Z"
   },
   {
    "duration": 2,
    "start_time": "2023-02-25T19:26:45.560Z"
   },
   {
    "duration": 2,
    "start_time": "2023-02-25T19:26:50.253Z"
   },
   {
    "duration": 315,
    "start_time": "2023-02-25T19:58:08.051Z"
   },
   {
    "duration": 347,
    "start_time": "2023-02-25T19:59:09.050Z"
   },
   {
    "duration": 397,
    "start_time": "2023-02-25T19:59:21.497Z"
   },
   {
    "duration": 326,
    "start_time": "2023-02-25T19:59:58.192Z"
   },
   {
    "duration": 324,
    "start_time": "2023-02-25T20:00:08.407Z"
   },
   {
    "duration": 328,
    "start_time": "2023-02-25T20:00:34.733Z"
   },
   {
    "duration": 295,
    "start_time": "2023-02-25T20:01:05.061Z"
   },
   {
    "duration": 321,
    "start_time": "2023-02-25T20:01:46.636Z"
   },
   {
    "duration": 127,
    "start_time": "2023-02-25T20:12:43.424Z"
   },
   {
    "duration": 1023,
    "start_time": "2023-02-26T02:50:06.410Z"
   },
   {
    "duration": 25,
    "start_time": "2023-02-26T02:50:07.434Z"
   },
   {
    "duration": 16,
    "start_time": "2023-02-26T02:50:07.461Z"
   },
   {
    "duration": 31,
    "start_time": "2023-02-26T02:50:07.479Z"
   },
   {
    "duration": 18,
    "start_time": "2023-02-26T02:50:07.512Z"
   },
   {
    "duration": 53,
    "start_time": "2023-02-26T02:50:07.532Z"
   },
   {
    "duration": 12,
    "start_time": "2023-02-26T02:50:07.587Z"
   },
   {
    "duration": 25,
    "start_time": "2023-02-26T02:50:07.601Z"
   },
   {
    "duration": 3,
    "start_time": "2023-02-26T02:50:07.628Z"
   },
   {
    "duration": 17,
    "start_time": "2023-02-26T02:50:07.633Z"
   },
   {
    "duration": 575,
    "start_time": "2023-02-26T02:50:07.651Z"
   },
   {
    "duration": 202,
    "start_time": "2023-02-26T02:50:08.228Z"
   },
   {
    "duration": 342,
    "start_time": "2023-02-26T02:50:08.431Z"
   },
   {
    "duration": 239,
    "start_time": "2023-02-26T02:50:08.774Z"
   },
   {
    "duration": 301,
    "start_time": "2023-02-26T02:50:09.014Z"
   },
   {
    "duration": 125,
    "start_time": "2023-02-26T02:50:09.317Z"
   },
   {
    "duration": 4,
    "start_time": "2023-02-26T02:50:09.444Z"
   },
   {
    "duration": 138,
    "start_time": "2023-02-26T02:50:09.449Z"
   },
   {
    "duration": 4,
    "start_time": "2023-02-26T02:50:09.589Z"
   },
   {
    "duration": 145,
    "start_time": "2023-02-26T02:50:09.594Z"
   },
   {
    "duration": 9,
    "start_time": "2023-02-26T02:50:09.740Z"
   },
   {
    "duration": 7,
    "start_time": "2023-02-26T02:50:09.751Z"
   },
   {
    "duration": 42,
    "start_time": "2023-02-26T02:50:09.759Z"
   },
   {
    "duration": 13,
    "start_time": "2023-02-26T02:50:09.802Z"
   },
   {
    "duration": 51,
    "start_time": "2023-02-26T09:32:48.815Z"
   },
   {
    "duration": 1273,
    "start_time": "2023-02-26T09:32:59.283Z"
   },
   {
    "duration": 80,
    "start_time": "2023-02-26T09:33:00.558Z"
   },
   {
    "duration": 45,
    "start_time": "2023-02-26T09:33:00.639Z"
   },
   {
    "duration": 11,
    "start_time": "2023-02-26T09:33:00.686Z"
   },
   {
    "duration": 27,
    "start_time": "2023-02-26T09:33:00.699Z"
   },
   {
    "duration": 173,
    "start_time": "2023-02-26T09:33:00.728Z"
   },
   {
    "duration": 12,
    "start_time": "2023-02-26T09:33:00.903Z"
   },
   {
    "duration": 41,
    "start_time": "2023-02-26T09:33:00.916Z"
   },
   {
    "duration": 19,
    "start_time": "2023-02-26T09:33:00.959Z"
   },
   {
    "duration": 35,
    "start_time": "2023-02-26T09:33:00.979Z"
   },
   {
    "duration": 567,
    "start_time": "2023-02-26T09:33:01.016Z"
   },
   {
    "duration": 214,
    "start_time": "2023-02-26T09:33:01.584Z"
   },
   {
    "duration": 385,
    "start_time": "2023-02-26T09:33:01.800Z"
   },
   {
    "duration": 218,
    "start_time": "2023-02-26T09:33:02.188Z"
   },
   {
    "duration": 316,
    "start_time": "2023-02-26T09:33:02.408Z"
   },
   {
    "duration": 132,
    "start_time": "2023-02-26T09:33:02.726Z"
   },
   {
    "duration": 4,
    "start_time": "2023-02-26T09:33:02.860Z"
   },
   {
    "duration": 147,
    "start_time": "2023-02-26T09:33:02.865Z"
   },
   {
    "duration": 5,
    "start_time": "2023-02-26T09:33:03.013Z"
   },
   {
    "duration": 167,
    "start_time": "2023-02-26T09:33:03.019Z"
   },
   {
    "duration": 17,
    "start_time": "2023-02-26T09:33:03.187Z"
   },
   {
    "duration": 7,
    "start_time": "2023-02-26T09:33:03.205Z"
   },
   {
    "duration": 27,
    "start_time": "2023-02-26T09:33:03.213Z"
   },
   {
    "duration": 12,
    "start_time": "2023-02-26T09:33:03.241Z"
   },
   {
    "duration": 10,
    "start_time": "2023-02-26T09:33:23.733Z"
   },
   {
    "duration": 65,
    "start_time": "2023-02-26T09:34:20.895Z"
   },
   {
    "duration": 10,
    "start_time": "2023-02-26T09:34:33.285Z"
   },
   {
    "duration": 14,
    "start_time": "2023-02-26T09:36:23.299Z"
   },
   {
    "duration": 11,
    "start_time": "2023-02-26T09:36:34.015Z"
   },
   {
    "duration": 16,
    "start_time": "2023-02-26T09:47:00.377Z"
   },
   {
    "duration": 8,
    "start_time": "2023-02-26T09:47:13.842Z"
   },
   {
    "duration": 8,
    "start_time": "2023-02-26T09:48:15.894Z"
   },
   {
    "duration": 30,
    "start_time": "2023-02-26T09:48:25.363Z"
   },
   {
    "duration": 168,
    "start_time": "2023-02-26T09:49:23.162Z"
   },
   {
    "duration": 1319,
    "start_time": "2023-02-27T02:51:10.058Z"
   },
   {
    "duration": 87,
    "start_time": "2023-02-27T02:51:11.379Z"
   },
   {
    "duration": 50,
    "start_time": "2023-02-27T02:51:11.468Z"
   },
   {
    "duration": 16,
    "start_time": "2023-02-27T02:51:11.520Z"
   },
   {
    "duration": 11,
    "start_time": "2023-02-27T02:51:11.538Z"
   },
   {
    "duration": 160,
    "start_time": "2023-02-27T02:51:11.550Z"
   },
   {
    "duration": 11,
    "start_time": "2023-02-27T02:51:11.711Z"
   },
   {
    "duration": 19,
    "start_time": "2023-02-27T02:51:11.724Z"
   },
   {
    "duration": 3,
    "start_time": "2023-02-27T02:51:11.744Z"
   },
   {
    "duration": 15,
    "start_time": "2023-02-27T02:51:11.750Z"
   },
   {
    "duration": 582,
    "start_time": "2023-02-27T02:51:11.766Z"
   },
   {
    "duration": 228,
    "start_time": "2023-02-27T02:51:12.350Z"
   },
   {
    "duration": 385,
    "start_time": "2023-02-27T02:51:12.580Z"
   },
   {
    "duration": 230,
    "start_time": "2023-02-27T02:51:12.967Z"
   },
   {
    "duration": 309,
    "start_time": "2023-02-27T02:51:13.199Z"
   },
   {
    "duration": 147,
    "start_time": "2023-02-27T02:51:13.510Z"
   },
   {
    "duration": 4,
    "start_time": "2023-02-27T02:51:13.659Z"
   },
   {
    "duration": 154,
    "start_time": "2023-02-27T02:51:13.665Z"
   },
   {
    "duration": 5,
    "start_time": "2023-02-27T02:51:13.821Z"
   },
   {
    "duration": 175,
    "start_time": "2023-02-27T02:51:13.827Z"
   },
   {
    "duration": 11,
    "start_time": "2023-02-27T02:51:14.003Z"
   },
   {
    "duration": 9,
    "start_time": "2023-02-27T02:51:14.015Z"
   },
   {
    "duration": 45,
    "start_time": "2023-02-27T02:51:14.026Z"
   },
   {
    "duration": 13,
    "start_time": "2023-02-27T02:51:14.072Z"
   },
   {
    "duration": 12,
    "start_time": "2023-02-27T02:51:41.054Z"
   },
   {
    "duration": 10,
    "start_time": "2023-02-27T02:52:14.721Z"
   },
   {
    "duration": 99,
    "start_time": "2023-02-27T03:22:59.654Z"
   },
   {
    "duration": 9,
    "start_time": "2023-02-27T03:23:07.897Z"
   },
   {
    "duration": 16,
    "start_time": "2023-02-27T03:23:14.106Z"
   },
   {
    "duration": 18,
    "start_time": "2023-02-27T03:28:24.348Z"
   },
   {
    "duration": 10,
    "start_time": "2023-02-27T03:29:12.123Z"
   },
   {
    "duration": 11,
    "start_time": "2023-02-27T03:33:02.535Z"
   },
   {
    "duration": 10,
    "start_time": "2023-02-27T03:33:23.668Z"
   },
   {
    "duration": 4,
    "start_time": "2023-02-27T03:33:30.456Z"
   },
   {
    "duration": 50,
    "start_time": "2023-02-27T03:33:30.462Z"
   },
   {
    "duration": 14,
    "start_time": "2023-02-27T03:33:30.515Z"
   },
   {
    "duration": 31,
    "start_time": "2023-02-27T03:33:30.531Z"
   },
   {
    "duration": 41,
    "start_time": "2023-02-27T03:33:30.565Z"
   },
   {
    "duration": 96,
    "start_time": "2023-02-27T03:33:30.608Z"
   },
   {
    "duration": 11,
    "start_time": "2023-02-27T03:33:30.707Z"
   },
   {
    "duration": 60,
    "start_time": "2023-02-27T03:33:30.720Z"
   },
   {
    "duration": 47,
    "start_time": "2023-02-27T03:33:30.783Z"
   },
   {
    "duration": 59,
    "start_time": "2023-02-27T03:33:30.832Z"
   },
   {
    "duration": 610,
    "start_time": "2023-02-27T03:33:30.894Z"
   },
   {
    "duration": 241,
    "start_time": "2023-02-27T03:33:31.506Z"
   },
   {
    "duration": 366,
    "start_time": "2023-02-27T03:33:31.749Z"
   },
   {
    "duration": 247,
    "start_time": "2023-02-27T03:33:32.117Z"
   },
   {
    "duration": 319,
    "start_time": "2023-02-27T03:33:32.366Z"
   },
   {
    "duration": 145,
    "start_time": "2023-02-27T03:33:32.688Z"
   },
   {
    "duration": 10,
    "start_time": "2023-02-27T03:33:32.835Z"
   },
   {
    "duration": 162,
    "start_time": "2023-02-27T03:33:32.846Z"
   },
   {
    "duration": 5,
    "start_time": "2023-02-27T03:33:33.010Z"
   },
   {
    "duration": 194,
    "start_time": "2023-02-27T03:33:33.016Z"
   },
   {
    "duration": 12,
    "start_time": "2023-02-27T03:33:33.212Z"
   },
   {
    "duration": 23,
    "start_time": "2023-02-27T03:33:33.226Z"
   },
   {
    "duration": 30,
    "start_time": "2023-02-27T03:33:33.251Z"
   },
   {
    "duration": 16,
    "start_time": "2023-02-27T03:33:33.283Z"
   },
   {
    "duration": 15,
    "start_time": "2023-02-27T03:34:43.108Z"
   },
   {
    "duration": 5,
    "start_time": "2023-02-27T03:35:03.139Z"
   },
   {
    "duration": 28,
    "start_time": "2023-02-27T03:35:03.186Z"
   },
   {
    "duration": 9,
    "start_time": "2023-02-27T03:35:03.277Z"
   },
   {
    "duration": 15,
    "start_time": "2023-02-27T03:35:03.366Z"
   },
   {
    "duration": 14,
    "start_time": "2023-02-27T03:35:03.466Z"
   },
   {
    "duration": 51,
    "start_time": "2023-02-27T03:35:03.557Z"
   },
   {
    "duration": 11,
    "start_time": "2023-02-27T03:35:03.610Z"
   },
   {
    "duration": 17,
    "start_time": "2023-02-27T03:35:03.687Z"
   },
   {
    "duration": 5,
    "start_time": "2023-02-27T03:35:04.465Z"
   },
   {
    "duration": 17,
    "start_time": "2023-02-27T03:35:04.472Z"
   },
   {
    "duration": 503,
    "start_time": "2023-02-27T03:35:05.152Z"
   },
   {
    "duration": 236,
    "start_time": "2023-02-27T03:35:05.658Z"
   },
   {
    "duration": 319,
    "start_time": "2023-02-27T03:35:05.896Z"
   },
   {
    "duration": 216,
    "start_time": "2023-02-27T03:35:08.476Z"
   },
   {
    "duration": 312,
    "start_time": "2023-02-27T03:35:08.695Z"
   },
   {
    "duration": 134,
    "start_time": "2023-02-27T03:35:09.179Z"
   },
   {
    "duration": 5,
    "start_time": "2023-02-27T03:35:09.315Z"
   },
   {
    "duration": 252,
    "start_time": "2023-02-27T03:35:09.321Z"
   },
   {
    "duration": 5,
    "start_time": "2023-02-27T03:35:09.575Z"
   },
   {
    "duration": 175,
    "start_time": "2023-02-27T03:35:09.582Z"
   },
   {
    "duration": 11,
    "start_time": "2023-02-27T03:35:09.758Z"
   },
   {
    "duration": 8,
    "start_time": "2023-02-27T03:35:09.771Z"
   },
   {
    "duration": 30,
    "start_time": "2023-02-27T03:35:19.021Z"
   },
   {
    "duration": 15,
    "start_time": "2023-02-27T03:35:19.053Z"
   },
   {
    "duration": 13,
    "start_time": "2023-02-27T03:49:05.538Z"
   },
   {
    "duration": 6,
    "start_time": "2023-02-27T04:13:12.968Z"
   },
   {
    "duration": 8,
    "start_time": "2023-02-27T04:13:44.705Z"
   },
   {
    "duration": 7,
    "start_time": "2023-02-27T04:14:03.317Z"
   },
   {
    "duration": 9,
    "start_time": "2023-02-27T04:29:14.319Z"
   },
   {
    "duration": 104,
    "start_time": "2023-02-27T04:29:34.411Z"
   },
   {
    "duration": 84,
    "start_time": "2023-02-27T04:29:40.202Z"
   },
   {
    "duration": 16,
    "start_time": "2023-02-27T04:30:21.220Z"
   },
   {
    "duration": 8,
    "start_time": "2023-02-27T04:30:54.348Z"
   },
   {
    "duration": 16,
    "start_time": "2023-02-27T04:31:05.997Z"
   },
   {
    "duration": 17,
    "start_time": "2023-02-27T04:31:42.508Z"
   },
   {
    "duration": 8,
    "start_time": "2023-02-27T04:33:34.101Z"
   },
   {
    "duration": 9,
    "start_time": "2023-02-27T04:33:46.920Z"
   },
   {
    "duration": 1261,
    "start_time": "2023-02-27T04:35:05.967Z"
   },
   {
    "duration": 14,
    "start_time": "2023-02-27T04:35:19.867Z"
   },
   {
    "duration": 12,
    "start_time": "2023-02-27T04:36:01.504Z"
   },
   {
    "duration": 1099,
    "start_time": "2023-02-27T04:38:09.520Z"
   },
   {
    "duration": 1157,
    "start_time": "2023-02-27T04:38:17.649Z"
   },
   {
    "duration": 5,
    "start_time": "2023-02-27T04:38:28.141Z"
   },
   {
    "duration": 5,
    "start_time": "2023-02-27T04:40:43.851Z"
   },
   {
    "duration": 6,
    "start_time": "2023-02-27T04:40:49.583Z"
   },
   {
    "duration": 1186,
    "start_time": "2023-02-27T05:08:04.970Z"
   },
   {
    "duration": 12,
    "start_time": "2023-02-27T05:08:31.404Z"
   },
   {
    "duration": 5,
    "start_time": "2023-02-27T06:12:58.070Z"
   },
   {
    "duration": 5,
    "start_time": "2023-02-27T06:16:18.562Z"
   },
   {
    "duration": 14,
    "start_time": "2023-02-27T06:17:47.134Z"
   },
   {
    "duration": 9,
    "start_time": "2023-02-27T06:21:46.123Z"
   },
   {
    "duration": 12,
    "start_time": "2023-02-27T06:22:12.183Z"
   },
   {
    "duration": 13,
    "start_time": "2023-02-27T06:23:10.174Z"
   },
   {
    "duration": 7,
    "start_time": "2023-02-27T06:23:20.888Z"
   },
   {
    "duration": 6,
    "start_time": "2023-02-27T06:24:36.333Z"
   },
   {
    "duration": 13,
    "start_time": "2023-02-27T06:24:42.473Z"
   },
   {
    "duration": 14,
    "start_time": "2023-02-27T06:30:14.781Z"
   },
   {
    "duration": 13,
    "start_time": "2023-02-27T06:32:44.452Z"
   },
   {
    "duration": 13,
    "start_time": "2023-02-27T06:32:58.216Z"
   },
   {
    "duration": 11,
    "start_time": "2023-02-27T06:47:27.046Z"
   },
   {
    "duration": 16,
    "start_time": "2023-02-27T06:47:35.985Z"
   },
   {
    "duration": 12,
    "start_time": "2023-02-27T06:47:42.758Z"
   },
   {
    "duration": 470,
    "start_time": "2023-02-27T07:05:51.703Z"
   },
   {
    "duration": 530,
    "start_time": "2023-02-27T07:06:39.290Z"
   },
   {
    "duration": 491,
    "start_time": "2023-02-27T07:06:59.559Z"
   },
   {
    "duration": 220,
    "start_time": "2023-02-27T07:07:22.821Z"
   },
   {
    "duration": 363,
    "start_time": "2023-02-27T07:07:36.620Z"
   },
   {
    "duration": 211,
    "start_time": "2023-02-27T07:07:48.231Z"
   },
   {
    "duration": 372,
    "start_time": "2023-02-27T07:08:01.642Z"
   },
   {
    "duration": 127,
    "start_time": "2023-02-27T07:08:19.032Z"
   },
   {
    "duration": 225,
    "start_time": "2023-02-27T07:14:20.874Z"
   },
   {
    "duration": 333,
    "start_time": "2023-02-27T07:23:50.961Z"
   },
   {
    "duration": 354,
    "start_time": "2023-02-27T07:25:23.668Z"
   },
   {
    "duration": 355,
    "start_time": "2023-02-27T07:27:17.582Z"
   },
   {
    "duration": 12,
    "start_time": "2023-02-27T07:27:27.485Z"
   },
   {
    "duration": 8,
    "start_time": "2023-02-27T07:30:55.604Z"
   },
   {
    "duration": 11,
    "start_time": "2023-02-27T07:31:09.742Z"
   },
   {
    "duration": 3,
    "start_time": "2023-02-27T07:31:32.959Z"
   },
   {
    "duration": 6,
    "start_time": "2023-02-27T07:31:42.186Z"
   },
   {
    "duration": 191,
    "start_time": "2023-02-27T07:41:05.216Z"
   },
   {
    "duration": 311,
    "start_time": "2023-02-27T07:42:48.392Z"
   },
   {
    "duration": 77,
    "start_time": "2023-02-27T07:43:27.618Z"
   },
   {
    "duration": 73,
    "start_time": "2023-02-27T07:43:41.033Z"
   },
   {
    "duration": 191,
    "start_time": "2023-02-27T07:44:08.727Z"
   },
   {
    "duration": 155,
    "start_time": "2023-02-27T07:44:16.420Z"
   },
   {
    "duration": 156,
    "start_time": "2023-02-27T07:44:57.854Z"
   },
   {
    "duration": 14,
    "start_time": "2023-02-27T07:45:35.633Z"
   },
   {
    "duration": 14,
    "start_time": "2023-02-27T07:46:27.910Z"
   },
   {
    "duration": 31,
    "start_time": "2023-02-27T07:46:40.143Z"
   },
   {
    "duration": 73,
    "start_time": "2023-02-27T07:47:01.617Z"
   },
   {
    "duration": 12,
    "start_time": "2023-02-27T07:47:07.389Z"
   },
   {
    "duration": 10,
    "start_time": "2023-02-27T07:48:01.817Z"
   },
   {
    "duration": 171,
    "start_time": "2023-02-27T07:48:37.791Z"
   },
   {
    "duration": 15,
    "start_time": "2023-02-27T07:53:02.155Z"
   },
   {
    "duration": 186,
    "start_time": "2023-02-27T08:20:26.138Z"
   },
   {
    "duration": 3,
    "start_time": "2023-02-27T08:51:13.375Z"
   },
   {
    "duration": 5,
    "start_time": "2023-02-27T09:16:40.632Z"
   },
   {
    "duration": 4,
    "start_time": "2023-02-27T09:16:48.018Z"
   },
   {
    "duration": 30,
    "start_time": "2023-02-27T09:16:48.027Z"
   },
   {
    "duration": 8,
    "start_time": "2023-02-27T09:16:48.060Z"
   },
   {
    "duration": 17,
    "start_time": "2023-02-27T09:16:48.070Z"
   },
   {
    "duration": 13,
    "start_time": "2023-02-27T09:16:48.089Z"
   },
   {
    "duration": 54,
    "start_time": "2023-02-27T09:16:48.103Z"
   },
   {
    "duration": 14,
    "start_time": "2023-02-27T09:16:48.160Z"
   },
   {
    "duration": 23,
    "start_time": "2023-02-27T09:16:48.176Z"
   },
   {
    "duration": 7,
    "start_time": "2023-02-27T09:16:48.258Z"
   },
   {
    "duration": 2034,
    "start_time": "2023-02-27T09:16:48.268Z"
   },
   {
    "duration": 0,
    "start_time": "2023-02-27T09:16:50.304Z"
   },
   {
    "duration": 0,
    "start_time": "2023-02-27T09:16:50.305Z"
   },
   {
    "duration": 0,
    "start_time": "2023-02-27T09:16:50.307Z"
   },
   {
    "duration": 0,
    "start_time": "2023-02-27T09:16:50.308Z"
   },
   {
    "duration": 0,
    "start_time": "2023-02-27T09:16:50.309Z"
   },
   {
    "duration": 0,
    "start_time": "2023-02-27T09:16:50.311Z"
   },
   {
    "duration": 0,
    "start_time": "2023-02-27T09:16:50.312Z"
   },
   {
    "duration": 0,
    "start_time": "2023-02-27T09:16:50.313Z"
   },
   {
    "duration": 0,
    "start_time": "2023-02-27T09:16:50.314Z"
   },
   {
    "duration": 0,
    "start_time": "2023-02-27T09:16:50.315Z"
   },
   {
    "duration": 0,
    "start_time": "2023-02-27T09:16:50.316Z"
   },
   {
    "duration": 0,
    "start_time": "2023-02-27T09:16:50.317Z"
   },
   {
    "duration": 0,
    "start_time": "2023-02-27T09:16:50.318Z"
   },
   {
    "duration": 0,
    "start_time": "2023-02-27T09:16:50.319Z"
   },
   {
    "duration": 0,
    "start_time": "2023-02-27T09:16:50.321Z"
   },
   {
    "duration": 0,
    "start_time": "2023-02-27T09:16:50.322Z"
   },
   {
    "duration": 0,
    "start_time": "2023-02-27T09:16:50.324Z"
   },
   {
    "duration": 0,
    "start_time": "2023-02-27T09:16:50.325Z"
   },
   {
    "duration": 0,
    "start_time": "2023-02-27T09:16:50.326Z"
   },
   {
    "duration": 0,
    "start_time": "2023-02-27T09:16:50.328Z"
   },
   {
    "duration": 0,
    "start_time": "2023-02-27T09:16:50.330Z"
   },
   {
    "duration": 5,
    "start_time": "2023-02-27T09:17:35.487Z"
   },
   {
    "duration": 1720,
    "start_time": "2023-02-27T09:17:47.804Z"
   },
   {
    "duration": 18,
    "start_time": "2023-02-27T09:19:00.470Z"
   },
   {
    "duration": 4,
    "start_time": "2023-02-27T09:20:22.548Z"
   },
   {
    "duration": 14,
    "start_time": "2023-02-27T09:20:24.816Z"
   },
   {
    "duration": 4,
    "start_time": "2023-02-27T09:20:30.160Z"
   },
   {
    "duration": 11,
    "start_time": "2023-02-27T09:20:33.384Z"
   },
   {
    "duration": 6,
    "start_time": "2023-02-27T09:21:32.317Z"
   },
   {
    "duration": 15,
    "start_time": "2023-02-27T09:21:36.094Z"
   },
   {
    "duration": 4,
    "start_time": "2023-02-27T09:21:40.780Z"
   },
   {
    "duration": 142,
    "start_time": "2023-02-27T09:40:12.948Z"
   },
   {
    "duration": 66,
    "start_time": "2023-02-27T09:41:02.465Z"
   },
   {
    "duration": 14,
    "start_time": "2023-02-27T09:41:20.918Z"
   },
   {
    "duration": 16,
    "start_time": "2023-02-27T09:41:50.961Z"
   },
   {
    "duration": 9,
    "start_time": "2023-02-27T09:55:38.526Z"
   },
   {
    "duration": 6,
    "start_time": "2023-02-27T09:58:46.922Z"
   },
   {
    "duration": 11,
    "start_time": "2023-02-27T09:59:20.510Z"
   },
   {
    "duration": 12,
    "start_time": "2023-02-27T09:59:49.310Z"
   },
   {
    "duration": 9,
    "start_time": "2023-02-27T10:00:18.095Z"
   },
   {
    "duration": 9,
    "start_time": "2023-02-27T10:00:45.050Z"
   },
   {
    "duration": 348,
    "start_time": "2023-02-27T10:01:54.340Z"
   },
   {
    "duration": 8,
    "start_time": "2023-02-27T10:03:24.078Z"
   },
   {
    "duration": 1273,
    "start_time": "2023-02-27T12:06:21.018Z"
   },
   {
    "duration": 96,
    "start_time": "2023-02-27T12:06:22.294Z"
   },
   {
    "duration": 13,
    "start_time": "2023-02-27T12:06:22.392Z"
   },
   {
    "duration": 16,
    "start_time": "2023-02-27T12:06:22.407Z"
   },
   {
    "duration": 13,
    "start_time": "2023-02-27T12:06:22.424Z"
   },
   {
    "duration": 226,
    "start_time": "2023-02-27T12:06:22.438Z"
   },
   {
    "duration": 11,
    "start_time": "2023-02-27T12:06:22.667Z"
   },
   {
    "duration": 24,
    "start_time": "2023-02-27T12:06:22.680Z"
   },
   {
    "duration": 9,
    "start_time": "2023-02-27T12:06:22.706Z"
   },
   {
    "duration": 3,
    "start_time": "2023-02-27T12:06:23.496Z"
   },
   {
    "duration": 17,
    "start_time": "2023-02-27T12:06:23.501Z"
   },
   {
    "duration": 100,
    "start_time": "2023-02-27T12:06:23.519Z"
   },
   {
    "duration": 9,
    "start_time": "2023-02-27T12:06:23.657Z"
   },
   {
    "duration": 9,
    "start_time": "2023-02-27T12:06:24.973Z"
   },
   {
    "duration": 0,
    "start_time": "2023-02-27T12:06:24.983Z"
   },
   {
    "duration": 586,
    "start_time": "2023-02-27T12:06:25.131Z"
   },
   {
    "duration": 230,
    "start_time": "2023-02-27T12:06:25.719Z"
   },
   {
    "duration": 442,
    "start_time": "2023-02-27T12:06:25.951Z"
   },
   {
    "duration": 291,
    "start_time": "2023-02-27T12:06:26.396Z"
   },
   {
    "duration": 375,
    "start_time": "2023-02-27T12:06:26.690Z"
   },
   {
    "duration": 166,
    "start_time": "2023-02-27T12:06:27.067Z"
   },
   {
    "duration": 6,
    "start_time": "2023-02-27T12:06:27.491Z"
   },
   {
    "duration": 174,
    "start_time": "2023-02-27T12:06:27.499Z"
   },
   {
    "duration": 6,
    "start_time": "2023-02-27T12:06:27.719Z"
   },
   {
    "duration": 166,
    "start_time": "2023-02-27T12:06:27.979Z"
   },
   {
    "duration": 11,
    "start_time": "2023-02-27T12:06:28.147Z"
   },
   {
    "duration": 9,
    "start_time": "2023-02-27T12:06:28.175Z"
   },
   {
    "duration": 37,
    "start_time": "2023-02-27T12:06:28.325Z"
   },
   {
    "duration": 14,
    "start_time": "2023-02-27T12:06:28.411Z"
   },
   {
    "duration": 91,
    "start_time": "2023-02-27T12:09:22.526Z"
   },
   {
    "duration": 5,
    "start_time": "2023-02-27T12:09:31.281Z"
   },
   {
    "duration": 13,
    "start_time": "2023-02-27T12:09:39.017Z"
   },
   {
    "duration": 73,
    "start_time": "2023-02-27T12:10:34.716Z"
   },
   {
    "duration": 1265,
    "start_time": "2023-02-27T12:10:45.307Z"
   },
   {
    "duration": 10,
    "start_time": "2023-02-27T12:11:03.345Z"
   },
   {
    "duration": 12,
    "start_time": "2023-02-27T12:11:21.871Z"
   },
   {
    "duration": 7,
    "start_time": "2023-02-27T12:11:31.000Z"
   },
   {
    "duration": 13,
    "start_time": "2023-02-27T12:11:39.706Z"
   },
   {
    "duration": 14,
    "start_time": "2023-02-27T12:12:09.458Z"
   },
   {
    "duration": 14,
    "start_time": "2023-02-27T12:13:36.599Z"
   },
   {
    "duration": 6,
    "start_time": "2023-02-27T12:14:35.865Z"
   },
   {
    "duration": 11,
    "start_time": "2023-02-27T12:21:57.628Z"
   },
   {
    "duration": 5,
    "start_time": "2023-02-27T12:22:11.947Z"
   },
   {
    "duration": 12,
    "start_time": "2023-02-27T12:25:18.467Z"
   },
   {
    "duration": 5,
    "start_time": "2023-02-27T12:26:56.311Z"
   },
   {
    "duration": 6,
    "start_time": "2023-02-27T12:27:02.259Z"
   },
   {
    "duration": 11,
    "start_time": "2023-02-27T12:27:17.018Z"
   },
   {
    "duration": 8,
    "start_time": "2023-02-27T12:27:31.146Z"
   },
   {
    "duration": 9,
    "start_time": "2023-02-27T12:30:58.627Z"
   },
   {
    "duration": 1135,
    "start_time": "2023-02-27T12:34:36.037Z"
   },
   {
    "duration": 6,
    "start_time": "2023-02-27T12:34:53.708Z"
   },
   {
    "duration": 10,
    "start_time": "2023-02-27T13:16:25.019Z"
   },
   {
    "duration": 13,
    "start_time": "2023-02-27T13:19:11.362Z"
   },
   {
    "duration": 6,
    "start_time": "2023-02-27T13:19:19.618Z"
   },
   {
    "duration": 16,
    "start_time": "2023-02-27T13:19:48.444Z"
   },
   {
    "duration": 5,
    "start_time": "2023-02-27T13:23:56.924Z"
   },
   {
    "duration": 28,
    "start_time": "2023-02-27T13:23:57.108Z"
   },
   {
    "duration": 8,
    "start_time": "2023-02-27T13:23:57.914Z"
   },
   {
    "duration": 13,
    "start_time": "2023-02-27T13:23:57.924Z"
   },
   {
    "duration": 13,
    "start_time": "2023-02-27T13:23:58.493Z"
   },
   {
    "duration": 65,
    "start_time": "2023-02-27T13:23:58.508Z"
   },
   {
    "duration": 11,
    "start_time": "2023-02-27T13:23:59.075Z"
   },
   {
    "duration": 1378,
    "start_time": "2023-02-27T13:23:59.088Z"
   },
   {
    "duration": 0,
    "start_time": "2023-02-27T13:24:00.469Z"
   },
   {
    "duration": 0,
    "start_time": "2023-02-27T13:24:00.470Z"
   },
   {
    "duration": 0,
    "start_time": "2023-02-27T13:24:00.472Z"
   },
   {
    "duration": 0,
    "start_time": "2023-02-27T13:24:00.473Z"
   },
   {
    "duration": 0,
    "start_time": "2023-02-27T13:24:00.475Z"
   },
   {
    "duration": 0,
    "start_time": "2023-02-27T13:24:00.476Z"
   },
   {
    "duration": 0,
    "start_time": "2023-02-27T13:24:00.478Z"
   },
   {
    "duration": 18,
    "start_time": "2023-02-27T13:24:00.734Z"
   },
   {
    "duration": 26,
    "start_time": "2023-02-27T13:24:00.755Z"
   },
   {
    "duration": 43,
    "start_time": "2023-02-27T13:24:00.783Z"
   },
   {
    "duration": 6,
    "start_time": "2023-02-27T13:24:01.318Z"
   },
   {
    "duration": 32,
    "start_time": "2023-02-27T13:24:01.854Z"
   },
   {
    "duration": 224,
    "start_time": "2023-02-27T13:24:02.145Z"
   },
   {
    "duration": 354,
    "start_time": "2023-02-27T13:24:02.565Z"
   },
   {
    "duration": 304,
    "start_time": "2023-02-27T13:24:02.922Z"
   },
   {
    "duration": 338,
    "start_time": "2023-02-27T13:24:03.228Z"
   },
   {
    "duration": 24,
    "start_time": "2023-02-27T13:24:03.568Z"
   },
   {
    "duration": 0,
    "start_time": "2023-02-27T13:24:03.594Z"
   },
   {
    "duration": 171,
    "start_time": "2023-02-27T13:24:03.614Z"
   },
   {
    "duration": 7,
    "start_time": "2023-02-27T13:24:03.787Z"
   },
   {
    "duration": 16,
    "start_time": "2023-02-27T13:24:03.893Z"
   },
   {
    "duration": 9,
    "start_time": "2023-02-27T13:24:04.205Z"
   },
   {
    "duration": 1157,
    "start_time": "2023-02-27T13:24:04.216Z"
   },
   {
    "duration": 0,
    "start_time": "2023-02-27T13:24:05.375Z"
   },
   {
    "duration": 1798,
    "start_time": "2023-02-27T13:24:05.754Z"
   },
   {
    "duration": 1467,
    "start_time": "2023-02-27T13:26:16.364Z"
   },
   {
    "duration": 3,
    "start_time": "2023-02-27T13:26:19.784Z"
   },
   {
    "duration": 29,
    "start_time": "2023-02-27T13:26:19.854Z"
   },
   {
    "duration": 13,
    "start_time": "2023-02-27T13:26:19.934Z"
   },
   {
    "duration": 12,
    "start_time": "2023-02-27T13:26:20.409Z"
   },
   {
    "duration": 13,
    "start_time": "2023-02-27T13:26:20.423Z"
   },
   {
    "duration": 54,
    "start_time": "2023-02-27T13:26:20.608Z"
   },
   {
    "duration": 11,
    "start_time": "2023-02-27T13:26:20.664Z"
   },
   {
    "duration": 1256,
    "start_time": "2023-02-27T13:26:20.884Z"
   },
   {
    "duration": 0,
    "start_time": "2023-02-27T13:26:22.142Z"
   },
   {
    "duration": 0,
    "start_time": "2023-02-27T13:26:22.143Z"
   },
   {
    "duration": 0,
    "start_time": "2023-02-27T13:26:22.144Z"
   },
   {
    "duration": 0,
    "start_time": "2023-02-27T13:26:22.145Z"
   },
   {
    "duration": 0,
    "start_time": "2023-02-27T13:26:22.146Z"
   },
   {
    "duration": 0,
    "start_time": "2023-02-27T13:26:22.148Z"
   },
   {
    "duration": 0,
    "start_time": "2023-02-27T13:26:22.149Z"
   },
   {
    "duration": 0,
    "start_time": "2023-02-27T13:26:22.150Z"
   },
   {
    "duration": 0,
    "start_time": "2023-02-27T13:26:22.151Z"
   },
   {
    "duration": 0,
    "start_time": "2023-02-27T13:26:22.152Z"
   },
   {
    "duration": 0,
    "start_time": "2023-02-27T13:26:22.153Z"
   },
   {
    "duration": 0,
    "start_time": "2023-02-27T13:26:22.154Z"
   },
   {
    "duration": 343,
    "start_time": "2023-02-27T13:26:22.364Z"
   },
   {
    "duration": 204,
    "start_time": "2023-02-27T13:26:22.754Z"
   },
   {
    "duration": 361,
    "start_time": "2023-02-27T13:26:22.973Z"
   },
   {
    "duration": 13,
    "start_time": "2023-02-27T13:26:23.336Z"
   },
   {
    "duration": 0,
    "start_time": "2023-02-27T13:26:23.351Z"
   },
   {
    "duration": 157,
    "start_time": "2023-02-27T13:26:23.445Z"
   },
   {
    "duration": 5,
    "start_time": "2023-02-27T13:26:23.604Z"
   },
   {
    "duration": 17,
    "start_time": "2023-02-27T13:26:23.664Z"
   },
   {
    "duration": 10,
    "start_time": "2023-02-27T13:26:23.693Z"
   },
   {
    "duration": 1089,
    "start_time": "2023-02-27T13:26:23.874Z"
   },
   {
    "duration": 0,
    "start_time": "2023-02-27T13:26:24.965Z"
   },
   {
    "duration": 0,
    "start_time": "2023-02-27T13:26:24.966Z"
   },
   {
    "duration": 67,
    "start_time": "2023-02-27T13:29:26.176Z"
   },
   {
    "duration": 11,
    "start_time": "2023-02-27T13:29:29.177Z"
   },
   {
    "duration": 1325,
    "start_time": "2023-02-27T13:30:08.287Z"
   },
   {
    "duration": 3,
    "start_time": "2023-02-27T13:30:14.248Z"
   },
   {
    "duration": 44,
    "start_time": "2023-02-27T13:30:14.317Z"
   },
   {
    "duration": 12,
    "start_time": "2023-02-27T13:30:14.390Z"
   },
   {
    "duration": 12,
    "start_time": "2023-02-27T13:30:14.487Z"
   },
   {
    "duration": 14,
    "start_time": "2023-02-27T13:30:14.566Z"
   },
   {
    "duration": 54,
    "start_time": "2023-02-27T13:30:14.636Z"
   },
   {
    "duration": 15,
    "start_time": "2023-02-27T13:30:14.696Z"
   },
   {
    "duration": 24,
    "start_time": "2023-02-27T13:30:14.749Z"
   },
   {
    "duration": 7,
    "start_time": "2023-02-27T13:30:14.786Z"
   },
   {
    "duration": 4,
    "start_time": "2023-02-27T13:30:14.846Z"
   },
   {
    "duration": 14,
    "start_time": "2023-02-27T13:30:14.911Z"
   },
   {
    "duration": 11,
    "start_time": "2023-02-27T13:30:14.967Z"
   },
   {
    "duration": 11,
    "start_time": "2023-02-27T13:33:34.727Z"
   },
   {
    "duration": 11,
    "start_time": "2023-02-27T13:34:02.247Z"
   },
   {
    "duration": 17,
    "start_time": "2023-02-27T13:36:34.351Z"
   },
   {
    "duration": 4,
    "start_time": "2023-02-27T13:39:42.722Z"
   },
   {
    "duration": 12,
    "start_time": "2023-02-27T13:39:59.217Z"
   },
   {
    "duration": 17,
    "start_time": "2023-02-27T13:40:15.171Z"
   },
   {
    "duration": 13,
    "start_time": "2023-02-27T13:41:06.128Z"
   },
   {
    "duration": 11,
    "start_time": "2023-02-27T13:41:19.322Z"
   },
   {
    "duration": 15,
    "start_time": "2023-02-27T13:41:33.165Z"
   },
   {
    "duration": 11,
    "start_time": "2023-02-27T13:46:42.373Z"
   },
   {
    "duration": 9,
    "start_time": "2023-02-27T14:13:12.864Z"
   },
   {
    "duration": 5,
    "start_time": "2023-02-27T14:14:28.601Z"
   },
   {
    "duration": 12,
    "start_time": "2023-02-27T14:14:37.510Z"
   },
   {
    "duration": 1623,
    "start_time": "2023-02-27T14:14:54.614Z"
   },
   {
    "duration": 10,
    "start_time": "2023-02-27T14:22:48.332Z"
   },
   {
    "duration": 9,
    "start_time": "2023-02-27T14:25:41.550Z"
   },
   {
    "duration": 14,
    "start_time": "2023-02-27T14:31:08.333Z"
   },
   {
    "duration": 7,
    "start_time": "2023-02-27T14:35:15.492Z"
   },
   {
    "duration": 11,
    "start_time": "2023-02-27T14:35:28.190Z"
   },
   {
    "duration": 13,
    "start_time": "2023-02-27T14:42:51.448Z"
   },
   {
    "duration": 10,
    "start_time": "2023-02-27T14:43:59.968Z"
   },
   {
    "duration": 17,
    "start_time": "2023-02-27T14:44:05.099Z"
   },
   {
    "duration": 9,
    "start_time": "2023-02-27T14:46:00.970Z"
   },
   {
    "duration": 15,
    "start_time": "2023-02-27T14:46:14.328Z"
   },
   {
    "duration": 7,
    "start_time": "2023-02-27T14:48:34.967Z"
   },
   {
    "duration": 8,
    "start_time": "2023-02-27T14:48:56.450Z"
   },
   {
    "duration": 8,
    "start_time": "2023-02-27T14:49:02.292Z"
   },
   {
    "duration": 49,
    "start_time": "2023-02-27T17:03:44.768Z"
   },
   {
    "duration": 8,
    "start_time": "2023-02-27T17:04:25.538Z"
   },
   {
    "duration": 1339,
    "start_time": "2023-02-27T17:04:32.749Z"
   },
   {
    "duration": 85,
    "start_time": "2023-02-27T17:04:34.090Z"
   },
   {
    "duration": 13,
    "start_time": "2023-02-27T17:04:34.177Z"
   },
   {
    "duration": 23,
    "start_time": "2023-02-27T17:04:34.192Z"
   },
   {
    "duration": 13,
    "start_time": "2023-02-27T17:04:34.217Z"
   },
   {
    "duration": 231,
    "start_time": "2023-02-27T17:04:34.232Z"
   },
   {
    "duration": 14,
    "start_time": "2023-02-27T17:04:34.465Z"
   },
   {
    "duration": 45,
    "start_time": "2023-02-27T17:04:34.480Z"
   },
   {
    "duration": 19,
    "start_time": "2023-02-27T17:04:34.526Z"
   },
   {
    "duration": 32,
    "start_time": "2023-02-27T17:04:34.547Z"
   },
   {
    "duration": 38,
    "start_time": "2023-02-27T17:04:34.581Z"
   },
   {
    "duration": 14,
    "start_time": "2023-02-27T17:04:38.060Z"
   },
   {
    "duration": 12,
    "start_time": "2023-02-27T17:05:58.907Z"
   },
   {
    "duration": 10,
    "start_time": "2023-02-27T17:06:06.403Z"
   },
   {
    "duration": 14,
    "start_time": "2023-02-27T17:06:25.619Z"
   },
   {
    "duration": 15,
    "start_time": "2023-02-27T17:07:54.539Z"
   },
   {
    "duration": 4,
    "start_time": "2023-02-27T17:10:57.909Z"
   },
   {
    "duration": 6,
    "start_time": "2023-02-27T17:11:05.978Z"
   },
   {
    "duration": 8,
    "start_time": "2023-02-27T17:11:47.364Z"
   },
   {
    "duration": 97,
    "start_time": "2023-02-27T17:26:55.573Z"
   },
   {
    "duration": 75,
    "start_time": "2023-02-27T17:27:12.997Z"
   },
   {
    "duration": 74,
    "start_time": "2023-02-27T17:27:51.043Z"
   },
   {
    "duration": 95,
    "start_time": "2023-02-27T17:27:57.797Z"
   },
   {
    "duration": 156,
    "start_time": "2023-02-27T17:30:55.398Z"
   },
   {
    "duration": 4,
    "start_time": "2023-02-27T17:40:15.429Z"
   },
   {
    "duration": 28,
    "start_time": "2023-02-27T17:40:15.467Z"
   },
   {
    "duration": 10,
    "start_time": "2023-02-27T17:40:15.707Z"
   },
   {
    "duration": 12,
    "start_time": "2023-02-27T17:40:15.719Z"
   },
   {
    "duration": 12,
    "start_time": "2023-02-27T17:40:15.763Z"
   },
   {
    "duration": 53,
    "start_time": "2023-02-27T17:40:15.777Z"
   },
   {
    "duration": 12,
    "start_time": "2023-02-27T17:40:15.927Z"
   },
   {
    "duration": 17,
    "start_time": "2023-02-27T17:40:15.941Z"
   },
   {
    "duration": 9,
    "start_time": "2023-02-27T17:40:15.959Z"
   },
   {
    "duration": 3,
    "start_time": "2023-02-27T17:40:16.052Z"
   },
   {
    "duration": 18,
    "start_time": "2023-02-27T17:40:16.058Z"
   },
   {
    "duration": 13,
    "start_time": "2023-02-27T17:40:16.078Z"
   },
   {
    "duration": 8,
    "start_time": "2023-02-27T17:40:16.151Z"
   },
   {
    "duration": 580,
    "start_time": "2023-02-27T17:40:16.331Z"
   },
   {
    "duration": 256,
    "start_time": "2023-02-27T17:40:16.915Z"
   },
   {
    "duration": 392,
    "start_time": "2023-02-27T17:40:17.172Z"
   },
   {
    "duration": 247,
    "start_time": "2023-02-27T17:40:17.566Z"
   },
   {
    "duration": 386,
    "start_time": "2023-02-27T17:40:17.815Z"
   },
   {
    "duration": 167,
    "start_time": "2023-02-27T17:40:18.203Z"
   },
   {
    "duration": 6,
    "start_time": "2023-02-27T17:40:18.372Z"
   },
   {
    "duration": 196,
    "start_time": "2023-02-27T17:40:18.380Z"
   },
   {
    "duration": 7,
    "start_time": "2023-02-27T17:40:18.577Z"
   },
   {
    "duration": 259,
    "start_time": "2023-02-27T17:40:18.586Z"
   },
   {
    "duration": 13,
    "start_time": "2023-02-27T17:40:18.847Z"
   },
   {
    "duration": 9,
    "start_time": "2023-02-27T17:40:18.862Z"
   },
   {
    "duration": 36,
    "start_time": "2023-02-27T17:40:18.873Z"
   },
   {
    "duration": 15,
    "start_time": "2023-02-27T17:40:18.937Z"
   },
   {
    "duration": 402,
    "start_time": "2023-02-27T17:46:01.143Z"
   },
   {
    "duration": 440,
    "start_time": "2023-02-27T17:46:18.011Z"
   },
   {
    "duration": 29,
    "start_time": "2023-02-27T17:49:01.455Z"
   },
   {
    "duration": 30,
    "start_time": "2023-02-27T17:49:11.041Z"
   },
   {
    "duration": 1336,
    "start_time": "2023-02-27T18:29:09.629Z"
   },
   {
    "duration": 67,
    "start_time": "2023-02-27T18:29:10.968Z"
   },
   {
    "duration": 12,
    "start_time": "2023-02-27T18:29:11.039Z"
   },
   {
    "duration": 37,
    "start_time": "2023-02-27T18:29:11.052Z"
   },
   {
    "duration": 12,
    "start_time": "2023-02-27T18:29:11.091Z"
   },
   {
    "duration": 122,
    "start_time": "2023-02-27T18:29:11.105Z"
   },
   {
    "duration": 12,
    "start_time": "2023-02-27T18:29:11.228Z"
   },
   {
    "duration": 21,
    "start_time": "2023-02-27T18:29:11.243Z"
   },
   {
    "duration": 7,
    "start_time": "2023-02-27T18:29:11.266Z"
   },
   {
    "duration": 6,
    "start_time": "2023-02-27T18:29:11.274Z"
   },
   {
    "duration": 16,
    "start_time": "2023-02-27T18:29:11.282Z"
   },
   {
    "duration": 21,
    "start_time": "2023-02-27T18:29:11.300Z"
   },
   {
    "duration": 15,
    "start_time": "2023-02-27T18:29:11.322Z"
   },
   {
    "duration": 569,
    "start_time": "2023-02-27T18:29:11.338Z"
   },
   {
    "duration": 231,
    "start_time": "2023-02-27T18:29:11.909Z"
   },
   {
    "duration": 395,
    "start_time": "2023-02-27T18:29:12.142Z"
   },
   {
    "duration": 217,
    "start_time": "2023-02-27T18:29:12.539Z"
   },
   {
    "duration": 381,
    "start_time": "2023-02-27T18:29:12.758Z"
   },
   {
    "duration": 160,
    "start_time": "2023-02-27T18:29:13.141Z"
   },
   {
    "duration": 6,
    "start_time": "2023-02-27T18:29:13.302Z"
   },
   {
    "duration": 180,
    "start_time": "2023-02-27T18:29:13.310Z"
   },
   {
    "duration": 5,
    "start_time": "2023-02-27T18:29:13.492Z"
   },
   {
    "duration": 194,
    "start_time": "2023-02-27T18:29:13.499Z"
   },
   {
    "duration": 11,
    "start_time": "2023-02-27T18:29:13.695Z"
   },
   {
    "duration": 18,
    "start_time": "2023-02-27T18:29:13.708Z"
   },
   {
    "duration": 30,
    "start_time": "2023-02-27T18:29:13.727Z"
   },
   {
    "duration": 29,
    "start_time": "2023-02-27T18:29:13.760Z"
   },
   {
    "duration": 1401,
    "start_time": "2023-02-28T03:15:04.623Z"
   },
   {
    "duration": 119,
    "start_time": "2023-02-28T03:15:06.026Z"
   },
   {
    "duration": 20,
    "start_time": "2023-02-28T03:15:06.147Z"
   },
   {
    "duration": 50,
    "start_time": "2023-02-28T03:15:06.169Z"
   },
   {
    "duration": 24,
    "start_time": "2023-02-28T03:15:06.222Z"
   },
   {
    "duration": 279,
    "start_time": "2023-02-28T03:15:06.248Z"
   },
   {
    "duration": 14,
    "start_time": "2023-02-28T03:15:06.532Z"
   },
   {
    "duration": 81,
    "start_time": "2023-02-28T03:15:06.548Z"
   },
   {
    "duration": 81,
    "start_time": "2023-02-28T03:15:06.632Z"
   },
   {
    "duration": 17,
    "start_time": "2023-02-28T03:15:06.716Z"
   },
   {
    "duration": 33,
    "start_time": "2023-02-28T03:15:06.734Z"
   },
   {
    "duration": 40,
    "start_time": "2023-02-28T03:15:06.768Z"
   },
   {
    "duration": 16,
    "start_time": "2023-02-28T03:15:06.810Z"
   },
   {
    "duration": 634,
    "start_time": "2023-02-28T03:15:06.828Z"
   },
   {
    "duration": 253,
    "start_time": "2023-02-28T03:15:07.466Z"
   },
   {
    "duration": 388,
    "start_time": "2023-02-28T03:15:07.721Z"
   },
   {
    "duration": 264,
    "start_time": "2023-02-28T03:15:08.111Z"
   },
   {
    "duration": 363,
    "start_time": "2023-02-28T03:15:08.376Z"
   },
   {
    "duration": 183,
    "start_time": "2023-02-28T03:15:08.741Z"
   },
   {
    "duration": 6,
    "start_time": "2023-02-28T03:15:08.926Z"
   },
   {
    "duration": 189,
    "start_time": "2023-02-28T03:15:08.934Z"
   },
   {
    "duration": 5,
    "start_time": "2023-02-28T03:15:09.125Z"
   },
   {
    "duration": 191,
    "start_time": "2023-02-28T03:15:09.131Z"
   },
   {
    "duration": 11,
    "start_time": "2023-02-28T03:15:09.324Z"
   },
   {
    "duration": 18,
    "start_time": "2023-02-28T03:15:09.353Z"
   },
   {
    "duration": 80,
    "start_time": "2023-02-28T03:15:09.377Z"
   },
   {
    "duration": 18,
    "start_time": "2023-02-28T03:15:09.459Z"
   },
   {
    "duration": 276,
    "start_time": "2023-02-28T03:17:26.822Z"
   },
   {
    "duration": 204,
    "start_time": "2023-02-28T03:19:26.108Z"
   },
   {
    "duration": 252,
    "start_time": "2023-02-28T03:20:06.883Z"
   },
   {
    "duration": 229,
    "start_time": "2023-02-28T03:20:16.509Z"
   },
   {
    "duration": 193,
    "start_time": "2023-02-28T03:20:24.524Z"
   },
   {
    "duration": 409,
    "start_time": "2023-02-28T03:22:28.182Z"
   },
   {
    "duration": 378,
    "start_time": "2023-02-28T03:22:41.777Z"
   },
   {
    "duration": 407,
    "start_time": "2023-02-28T03:23:50.517Z"
   },
   {
    "duration": 12,
    "start_time": "2023-02-28T03:26:28.297Z"
   },
   {
    "duration": 8,
    "start_time": "2023-02-28T03:58:01.398Z"
   },
   {
    "duration": 80,
    "start_time": "2023-02-28T03:58:01.413Z"
   },
   {
    "duration": 34,
    "start_time": "2023-02-28T03:58:01.495Z"
   },
   {
    "duration": 12,
    "start_time": "2023-02-28T03:58:01.601Z"
   },
   {
    "duration": 86,
    "start_time": "2023-02-28T03:58:01.615Z"
   },
   {
    "duration": 127,
    "start_time": "2023-02-28T03:58:01.704Z"
   },
   {
    "duration": 15,
    "start_time": "2023-02-28T03:58:01.832Z"
   },
   {
    "duration": 94,
    "start_time": "2023-02-28T03:58:01.848Z"
   },
   {
    "duration": 90,
    "start_time": "2023-02-28T03:58:01.944Z"
   },
   {
    "duration": 34,
    "start_time": "2023-02-28T03:58:02.036Z"
   },
   {
    "duration": 57,
    "start_time": "2023-02-28T03:58:02.072Z"
   },
   {
    "duration": 84,
    "start_time": "2023-02-28T03:58:02.132Z"
   },
   {
    "duration": 77,
    "start_time": "2023-02-28T03:58:02.220Z"
   },
   {
    "duration": 612,
    "start_time": "2023-02-28T03:58:02.300Z"
   },
   {
    "duration": 253,
    "start_time": "2023-02-28T03:58:02.914Z"
   },
   {
    "duration": 398,
    "start_time": "2023-02-28T03:58:03.169Z"
   },
   {
    "duration": 263,
    "start_time": "2023-02-28T03:58:03.570Z"
   },
   {
    "duration": 382,
    "start_time": "2023-02-28T03:58:03.834Z"
   },
   {
    "duration": 263,
    "start_time": "2023-02-28T03:58:04.217Z"
   },
   {
    "duration": 15,
    "start_time": "2023-02-28T03:58:04.481Z"
   },
   {
    "duration": 394,
    "start_time": "2023-02-28T03:58:04.502Z"
   },
   {
    "duration": 5,
    "start_time": "2023-02-28T03:58:04.899Z"
   },
   {
    "duration": 207,
    "start_time": "2023-02-28T03:58:04.906Z"
   },
   {
    "duration": 11,
    "start_time": "2023-02-28T03:58:05.115Z"
   },
   {
    "duration": 37,
    "start_time": "2023-02-28T03:58:05.128Z"
   },
   {
    "duration": 56,
    "start_time": "2023-02-28T03:58:05.167Z"
   },
   {
    "duration": 14,
    "start_time": "2023-02-28T03:58:05.225Z"
   },
   {
    "duration": 402,
    "start_time": "2023-02-28T04:04:14.701Z"
   },
   {
    "duration": 389,
    "start_time": "2023-02-28T04:04:57.676Z"
   },
   {
    "duration": 1309,
    "start_time": "2023-02-28T04:58:05.450Z"
   },
   {
    "duration": 94,
    "start_time": "2023-02-28T04:58:06.762Z"
   },
   {
    "duration": 13,
    "start_time": "2023-02-28T04:58:06.858Z"
   },
   {
    "duration": 16,
    "start_time": "2023-02-28T04:58:06.874Z"
   },
   {
    "duration": 15,
    "start_time": "2023-02-28T04:58:06.892Z"
   },
   {
    "duration": 158,
    "start_time": "2023-02-28T04:58:06.908Z"
   },
   {
    "duration": 13,
    "start_time": "2023-02-28T04:58:07.068Z"
   },
   {
    "duration": 25,
    "start_time": "2023-02-28T04:58:07.083Z"
   },
   {
    "duration": 11,
    "start_time": "2023-02-28T04:58:07.110Z"
   },
   {
    "duration": 24,
    "start_time": "2023-02-28T04:58:07.125Z"
   },
   {
    "duration": 22,
    "start_time": "2023-02-28T04:58:07.151Z"
   },
   {
    "duration": 23,
    "start_time": "2023-02-28T04:58:07.175Z"
   },
   {
    "duration": 12,
    "start_time": "2023-02-28T04:58:07.200Z"
   },
   {
    "duration": 619,
    "start_time": "2023-02-28T04:58:07.214Z"
   },
   {
    "duration": 243,
    "start_time": "2023-02-28T04:58:07.834Z"
   },
   {
    "duration": 424,
    "start_time": "2023-02-28T04:58:08.079Z"
   },
   {
    "duration": 240,
    "start_time": "2023-02-28T04:58:08.505Z"
   },
   {
    "duration": 366,
    "start_time": "2023-02-28T04:58:08.747Z"
   },
   {
    "duration": 189,
    "start_time": "2023-02-28T04:58:09.114Z"
   },
   {
    "duration": 5,
    "start_time": "2023-02-28T04:58:09.305Z"
   },
   {
    "duration": 369,
    "start_time": "2023-02-28T04:58:09.312Z"
   },
   {
    "duration": 7,
    "start_time": "2023-02-28T04:58:09.683Z"
   },
   {
    "duration": 202,
    "start_time": "2023-02-28T04:58:09.692Z"
   },
   {
    "duration": 11,
    "start_time": "2023-02-28T04:58:09.895Z"
   },
   {
    "duration": 11,
    "start_time": "2023-02-28T04:58:09.908Z"
   },
   {
    "duration": 49,
    "start_time": "2023-02-28T04:58:09.920Z"
   },
   {
    "duration": 14,
    "start_time": "2023-02-28T04:58:09.971Z"
   },
   {
    "duration": 1491,
    "start_time": "2023-03-07T17:23:34.921Z"
   },
   {
    "duration": 85,
    "start_time": "2023-03-07T17:23:36.414Z"
   },
   {
    "duration": 13,
    "start_time": "2023-03-07T17:23:36.501Z"
   },
   {
    "duration": 46,
    "start_time": "2023-03-07T17:23:36.516Z"
   },
   {
    "duration": 14,
    "start_time": "2023-03-07T17:23:36.564Z"
   },
   {
    "duration": 212,
    "start_time": "2023-03-07T17:23:36.579Z"
   },
   {
    "duration": 12,
    "start_time": "2023-03-07T17:23:36.793Z"
   },
   {
    "duration": 36,
    "start_time": "2023-03-07T17:23:36.807Z"
   },
   {
    "duration": 15,
    "start_time": "2023-03-07T17:23:36.845Z"
   },
   {
    "duration": 4,
    "start_time": "2023-03-07T17:23:37.204Z"
   },
   {
    "duration": 32,
    "start_time": "2023-03-07T17:23:37.210Z"
   },
   {
    "duration": 16,
    "start_time": "2023-03-07T17:23:37.248Z"
   },
   {
    "duration": 10,
    "start_time": "2023-03-07T17:23:37.344Z"
   },
   {
    "duration": 749,
    "start_time": "2023-03-07T17:23:37.946Z"
   },
   {
    "duration": 337,
    "start_time": "2023-03-07T17:23:38.698Z"
   },
   {
    "duration": 494,
    "start_time": "2023-03-07T17:23:39.037Z"
   },
   {
    "duration": 291,
    "start_time": "2023-03-07T17:23:39.541Z"
   },
   {
    "duration": 371,
    "start_time": "2023-03-07T17:23:39.833Z"
   },
   {
    "duration": 227,
    "start_time": "2023-03-07T17:23:40.207Z"
   },
   {
    "duration": 11,
    "start_time": "2023-03-07T17:23:40.539Z"
   },
   {
    "duration": 441,
    "start_time": "2023-03-07T17:23:41.252Z"
   },
   {
    "duration": 6,
    "start_time": "2023-03-07T17:23:44.197Z"
   },
   {
    "duration": 274,
    "start_time": "2023-03-07T17:23:44.310Z"
   },
   {
    "duration": 16,
    "start_time": "2023-03-07T17:23:44.587Z"
   },
   {
    "duration": 45,
    "start_time": "2023-03-07T17:23:44.606Z"
   },
   {
    "duration": 53,
    "start_time": "2023-03-07T17:23:44.659Z"
   },
   {
    "duration": 27,
    "start_time": "2023-03-07T17:23:44.716Z"
   },
   {
    "duration": 136,
    "start_time": "2023-03-07T17:24:48.136Z"
   },
   {
    "duration": 21,
    "start_time": "2023-03-07T17:28:15.143Z"
   },
   {
    "duration": 16,
    "start_time": "2023-03-07T17:29:40.657Z"
   },
   {
    "duration": 27,
    "start_time": "2023-03-07T17:30:42.318Z"
   },
   {
    "duration": 14,
    "start_time": "2023-03-07T17:30:52.990Z"
   },
   {
    "duration": 37,
    "start_time": "2023-03-07T17:31:28.520Z"
   },
   {
    "duration": 6,
    "start_time": "2023-03-07T17:31:51.745Z"
   },
   {
    "duration": 46,
    "start_time": "2023-03-07T17:31:51.775Z"
   },
   {
    "duration": 18,
    "start_time": "2023-03-07T17:31:51.827Z"
   },
   {
    "duration": 24,
    "start_time": "2023-03-07T17:31:51.847Z"
   },
   {
    "duration": 32,
    "start_time": "2023-03-07T17:31:51.882Z"
   },
   {
    "duration": 93,
    "start_time": "2023-03-07T17:31:51.916Z"
   },
   {
    "duration": 23,
    "start_time": "2023-03-07T17:31:52.012Z"
   },
   {
    "duration": 54,
    "start_time": "2023-03-07T17:31:52.039Z"
   },
   {
    "duration": 15,
    "start_time": "2023-03-07T17:31:52.097Z"
   },
   {
    "duration": 6,
    "start_time": "2023-03-07T17:31:52.114Z"
   },
   {
    "duration": 29,
    "start_time": "2023-03-07T17:31:52.132Z"
   },
   {
    "duration": 31,
    "start_time": "2023-03-07T17:32:09.222Z"
   },
   {
    "duration": 19,
    "start_time": "2023-03-07T17:32:23.796Z"
   },
   {
    "duration": 13,
    "start_time": "2023-03-07T17:32:55.577Z"
   },
   {
    "duration": 24,
    "start_time": "2023-03-07T17:33:49.324Z"
   },
   {
    "duration": 13,
    "start_time": "2023-03-07T17:34:59.702Z"
   },
   {
    "duration": 29,
    "start_time": "2023-03-07T17:36:09.003Z"
   },
   {
    "duration": 26,
    "start_time": "2023-03-07T17:37:19.853Z"
   },
   {
    "duration": 29,
    "start_time": "2023-03-07T17:37:36.063Z"
   },
   {
    "duration": 19,
    "start_time": "2023-03-07T17:37:36.102Z"
   },
   {
    "duration": 24,
    "start_time": "2023-03-07T17:37:55.950Z"
   },
   {
    "duration": 21,
    "start_time": "2023-03-07T17:48:59.241Z"
   },
   {
    "duration": 26,
    "start_time": "2023-03-07T17:49:45.318Z"
   },
   {
    "duration": 11,
    "start_time": "2023-03-07T18:49:59.645Z"
   }
  ],
  "kernelspec": {
   "display_name": "Python 3 (ipykernel)",
   "language": "python",
   "name": "python3"
  },
  "language_info": {
   "codemirror_mode": {
    "name": "ipython",
    "version": 3
   },
   "file_extension": ".py",
   "mimetype": "text/x-python",
   "name": "python",
   "nbconvert_exporter": "python",
   "pygments_lexer": "ipython3",
   "version": "3.9.13"
  },
  "toc": {
   "base_numbering": 1,
   "nav_menu": {},
   "number_sections": true,
   "sideBar": true,
   "skip_h1_title": true,
   "title_cell": "Table of Contents",
   "title_sidebar": "Contents",
   "toc_cell": false,
   "toc_position": {},
   "toc_section_display": true,
   "toc_window_display": false
  }
 },
 "nbformat": 4,
 "nbformat_minor": 2
}
